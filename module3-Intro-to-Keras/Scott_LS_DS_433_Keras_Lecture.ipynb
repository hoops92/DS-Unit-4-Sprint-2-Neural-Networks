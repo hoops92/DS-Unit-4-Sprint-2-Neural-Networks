{
  "nbformat": 4,
  "nbformat_minor": 0,
  "metadata": {
    "colab": {
      "name": "Scott_LS_DS_433_Keras_Lecture.ipynb",
      "provenance": [],
      "collapsed_sections": [],
      "include_colab_link": true
    },
    "kernelspec": {
      "display_name": "U4-S2-NNF (Python3)",
      "language": "python",
      "name": "u4-s2-nnf"
    },
    "language_info": {
      "codemirror_mode": {
        "name": "ipython",
        "version": 3
      },
      "file_extension": ".py",
      "mimetype": "text/x-python",
      "name": "python",
      "nbconvert_exporter": "python",
      "pygments_lexer": "ipython3",
      "version": "3.7.0"
    },
    "toc-autonumbering": false,
    "toc-showmarkdowntxt": false
  },
  "cells": [
    {
      "cell_type": "markdown",
      "metadata": {
        "id": "view-in-github",
        "colab_type": "text"
      },
      "source": [
        "<a href=\"https://colab.research.google.com/github/hoops92/DS-Unit-4-Sprint-2-Neural-Networks/blob/master/module3-Intro-to-Keras/Scott_LS_DS_433_Keras_Lecture.ipynb\" target=\"_parent\"><img src=\"https://colab.research.google.com/assets/colab-badge.svg\" alt=\"Open In Colab\"/></a>"
      ]
    },
    {
      "cell_type": "markdown",
      "metadata": {
        "colab_type": "text",
        "id": "HJzTIkYAsLxw"
      },
      "source": [
        "Lambda School Data Science\n",
        "\n",
        "*Unit 4, Sprint 2, Module 3*\n",
        "\n",
        "---"
      ]
    },
    {
      "cell_type": "markdown",
      "metadata": {
        "colab_type": "text",
        "id": "D1kuzZE_yj7k"
      },
      "source": [
        "# Neural Network Frameworks (Prepare)"
      ]
    },
    {
      "cell_type": "markdown",
      "metadata": {
        "colab_type": "text",
        "id": "K1Qen_X0yj7m"
      },
      "source": [
        "## Learning Objectives\n",
        "* <a href=\"#p1\">Part 1</a>: Introduce the Keras Sequential Model API\n",
        "* <a href=\"#p2\">Part 2</a>: Learn How to Select Model Architecture \n",
        "* <a href=\"#p3\">Part 3</a>: Discuss the trade-off between various activation functions\n",
        "\n",
        "## Lets Use Libraries!\n",
        "\n",
        "The objective of the last two days has been to familiarize you with the fundamentals of neural networks: terminology, structure of networks, forward propagation, error/cost functions, backpropagation, epochs, and gradient descent. We have tried to reinforce these topics by requiring to you code some of the simplest neural networks by hand including Perceptrons (single node neural networks) and Multi-Layer Perceptrons also known as Feed-Forward Neural Networks. Continuing to do things by hand would not be the best use of our limited time. You're ready to graduate from doing things by hand and start using some powerful libraries to build cutting-edge predictive models. "
      ]
    },
    {
      "cell_type": "markdown",
      "metadata": {
        "id": "gM2mTUcMyj7o",
        "colab_type": "text"
      },
      "source": [
        "# Keras Sequential API (Learn)"
      ]
    },
    {
      "cell_type": "markdown",
      "metadata": {
        "toc-hr-collapsed": true,
        "id": "sf0EGVs4yj7p",
        "colab_type": "text"
      },
      "source": [
        "## Overview\n",
        "\n",
        "> \"Keras is a high-level neural networks API, written in Python and capable of running on top of TensorFlow, CNTK, or Theano. It was developed with a focus on enabling fast experimentation. Being able to go from idea to result with the least possible delay is key to doing good research. Use Keras if you need a deep learning library that:\n",
        "\n",
        "> Allows for easy and fast prototyping (through user friendliness, modularity, and extensibility).\n",
        "Supports both convolutional networks and recurrent networks, as well as combinations of the two.\n",
        "Runs seamlessly on CPU and GPU.\" "
      ]
    },
    {
      "cell_type": "markdown",
      "metadata": {
        "colab_type": "text",
        "id": "AIJoRBxHy27n"
      },
      "source": [
        "### Keras Perceptron Sample"
      ]
    },
    {
      "cell_type": "code",
      "metadata": {
        "id": "u1KtAfB2yj7u",
        "colab_type": "code",
        "colab": {}
      },
      "source": [
        "import pandas as pd\n",
        "\n",
        "data = { 'x1': [0,1,0,1],\n",
        "         'x2': [0,0,1,1],\n",
        "         'y':  [1,1,1,0]\n",
        "       }\n",
        "\n",
        "df = pd.DataFrame.from_dict(data).astype('int')\n",
        "X = df[['x1', 'x2']].values\n",
        "y = df['y'].values"
      ],
      "execution_count": 0,
      "outputs": []
    },
    {
      "cell_type": "code",
      "metadata": {
        "colab_type": "code",
        "id": "TQxyONqKvFxB",
        "outputId": "12966e66-2297-4f82-85b3-c275a9c38563",
        "colab": {
          "base_uri": "https://localhost:8080/",
          "height": 5216
        }
      },
      "source": [
        "from tensorflow.python.keras.models import Sequential\n",
        "from tensorflow.python.keras.layers import Dense\n",
        "\n",
        "# This is our perceptron from Monday's by-hand: \n",
        "model = Sequential()\n",
        "model.add(Dense(1,input_dim=2, activation='sigmoid'))\n",
        "model.add(Dense(1,activation='sigmoid'))\n",
        "model.compile(loss='binary_crossentropy', optimizer='adam', metrics=['accuracy'])\n",
        "model.fit(X,y, epochs=5)"
      ],
      "execution_count": 0,
      "outputs": [
        {
          "output_type": "stream",
          "text": [
            "Train on 4 samples\n",
            "Epoch 1/5\n",
            "4/4 [==============================] - 0s 86ms/sample - loss: 0.6203 - accuracy: 0.7500\n",
            "Epoch 2/5\n",
            "4/4 [==============================] - 0s 501us/sample - loss: 0.6202 - accuracy: 0.7500\n",
            "Epoch 3/5\n",
            "4/4 [==============================] - 0s 501us/sample - loss: 0.6201 - accuracy: 0.7500\n",
            "Epoch 4/5\n",
            "4/4 [==============================] - 0s 500us/sample - loss: 0.6200 - accuracy: 0.7500\n",
            "Epoch 5/5\n",
            "4/4 [==============================] - 0s 250us/sample - loss: 0.6199 - accuracy: 0.7500\n"
          ],
          "name": "stdout"
        },
        {
          "output_type": "execute_result",
          "data": {
            "text/plain": [
              "<tensorflow.python.keras.callbacks.History at 0x7c9ee3ac88>"
            ]
          },
          "metadata": {
            "tags": []
          },
          "execution_count": 7
        }
      ]
    },
    {
      "cell_type": "code",
      "metadata": {
        "colab_type": "code",
        "id": "Z1wfKUxszPKa",
        "outputId": "0cdacd1d-6e5a-4bbe-fabb-568cd94724be",
        "colab": {
          "base_uri": "https://localhost:8080/",
          "height": 69
        }
      },
      "source": [
        "# evaluate the model\n",
        "scores = model.evaluate(X, y)\n",
        "print(f\"{model.metrics_names[1]}: {scores[1]*100}\")"
      ],
      "execution_count": 0,
      "outputs": [
        {
          "output_type": "stream",
          "text": [
            "4/1 [========================================================================================================================] - 0s 12ms/sample - loss: 0.6197 - accuracy: 0.7500\n",
            "accuracy: 75.0\n"
          ],
          "name": "stdout"
        }
      ]
    },
    {
      "cell_type": "markdown",
      "metadata": {
        "toc-hr-collapsed": true,
        "id": "kl5iCo0byj8F",
        "colab_type": "text"
      },
      "source": [
        "## Follow Along\n",
        "\n",
        "In the `Sequential` api model, you specify a model architecture by 'sequentially specifying layers. This type of specification works well for feed forward neural networks in which the data flows in one direction (forward propagation) and the error flows in the opposite direction (backwards propagation). The Keras `Sequential` API follows a standardarized worklow to estimate a 'net: \n",
        "\n",
        "1. Load Data\n",
        "2. Define Model\n",
        "3. Compile Model\n",
        "4. Fit Model\n",
        "5. Evaluate Model\n",
        "\n",
        "You saw these steps in our Keras Perceptron Sample, but let's walk thru each step in detail."
      ]
    },
    {
      "cell_type": "markdown",
      "metadata": {
        "colab_type": "text",
        "id": "Md5D67XwqVAf",
        "toc-hr-collapsed": false
      },
      "source": [
        "### Load Data\n",
        "\n",
        "Our life is going to be easier if our data is already cleaned up and numeric, so lets use this dataset from Jason Brownlee that is already numeric and has no column headers so we'll need to slice off the last column of data to act as our y values."
      ]
    },
    {
      "cell_type": "code",
      "metadata": {
        "colab_type": "code",
        "id": "bn09phMBpY1J",
        "colab": {}
      },
      "source": [
        "import pandas as pd\n",
        "\n",
        "url =\"https://raw.githubusercontent.com/jbrownlee/Datasets/master/pima-indians-diabetes.data.csv\"\n",
        "\n",
        "dataset = pd.read_csv(url, header=None)"
      ],
      "execution_count": 0,
      "outputs": []
    },
    {
      "cell_type": "code",
      "metadata": {
        "id": "p6ErUdAyyj8Q",
        "colab_type": "code",
        "outputId": "8b242162-e3f8-4750-c793-9763531d6b5d",
        "colab": {}
      },
      "source": [
        "dataset.head()"
      ],
      "execution_count": 0,
      "outputs": [
        {
          "output_type": "execute_result",
          "data": {
            "text/html": [
              "<div>\n",
              "<style scoped>\n",
              "    .dataframe tbody tr th:only-of-type {\n",
              "        vertical-align: middle;\n",
              "    }\n",
              "\n",
              "    .dataframe tbody tr th {\n",
              "        vertical-align: top;\n",
              "    }\n",
              "\n",
              "    .dataframe thead th {\n",
              "        text-align: right;\n",
              "    }\n",
              "</style>\n",
              "<table border=\"1\" class=\"dataframe\">\n",
              "  <thead>\n",
              "    <tr style=\"text-align: right;\">\n",
              "      <th></th>\n",
              "      <th>0</th>\n",
              "      <th>1</th>\n",
              "      <th>2</th>\n",
              "      <th>3</th>\n",
              "      <th>4</th>\n",
              "      <th>5</th>\n",
              "      <th>6</th>\n",
              "      <th>7</th>\n",
              "      <th>8</th>\n",
              "    </tr>\n",
              "  </thead>\n",
              "  <tbody>\n",
              "    <tr>\n",
              "      <th>0</th>\n",
              "      <td>6</td>\n",
              "      <td>148</td>\n",
              "      <td>72</td>\n",
              "      <td>35</td>\n",
              "      <td>0</td>\n",
              "      <td>33.6</td>\n",
              "      <td>0.627</td>\n",
              "      <td>50</td>\n",
              "      <td>1</td>\n",
              "    </tr>\n",
              "    <tr>\n",
              "      <th>1</th>\n",
              "      <td>1</td>\n",
              "      <td>85</td>\n",
              "      <td>66</td>\n",
              "      <td>29</td>\n",
              "      <td>0</td>\n",
              "      <td>26.6</td>\n",
              "      <td>0.351</td>\n",
              "      <td>31</td>\n",
              "      <td>0</td>\n",
              "    </tr>\n",
              "    <tr>\n",
              "      <th>2</th>\n",
              "      <td>8</td>\n",
              "      <td>183</td>\n",
              "      <td>64</td>\n",
              "      <td>0</td>\n",
              "      <td>0</td>\n",
              "      <td>23.3</td>\n",
              "      <td>0.672</td>\n",
              "      <td>32</td>\n",
              "      <td>1</td>\n",
              "    </tr>\n",
              "    <tr>\n",
              "      <th>3</th>\n",
              "      <td>1</td>\n",
              "      <td>89</td>\n",
              "      <td>66</td>\n",
              "      <td>23</td>\n",
              "      <td>94</td>\n",
              "      <td>28.1</td>\n",
              "      <td>0.167</td>\n",
              "      <td>21</td>\n",
              "      <td>0</td>\n",
              "    </tr>\n",
              "    <tr>\n",
              "      <th>4</th>\n",
              "      <td>0</td>\n",
              "      <td>137</td>\n",
              "      <td>40</td>\n",
              "      <td>35</td>\n",
              "      <td>168</td>\n",
              "      <td>43.1</td>\n",
              "      <td>2.288</td>\n",
              "      <td>33</td>\n",
              "      <td>1</td>\n",
              "    </tr>\n",
              "  </tbody>\n",
              "</table>\n",
              "</div>"
            ],
            "text/plain": [
              "   0    1   2   3    4     5      6   7  8\n",
              "0  6  148  72  35    0  33.6  0.627  50  1\n",
              "1  1   85  66  29    0  26.6  0.351  31  0\n",
              "2  8  183  64   0    0  23.3  0.672  32  1\n",
              "3  1   89  66  23   94  28.1  0.167  21  0\n",
              "4  0  137  40  35  168  43.1  2.288  33  1"
            ]
          },
          "metadata": {
            "tags": []
          },
          "execution_count": 11
        }
      ]
    },
    {
      "cell_type": "code",
      "metadata": {
        "colab_type": "code",
        "id": "FKuofD3Pogil",
        "outputId": "16c2f4fa-93c8-491d-b339-9f35f7918621",
        "colab": {
          "base_uri": "https://localhost:8080/",
          "height": 725
        }
      },
      "source": [
        "X = dataset.values[:,0:8]\n",
        "print(X.shape)\n",
        "print(X)"
      ],
      "execution_count": 0,
      "outputs": [
        {
          "output_type": "stream",
          "text": [
            "(768, 8)\n",
            "[[  6.    148.     72.    ...  33.6     0.627  50.   ]\n",
            " [  1.     85.     66.    ...  26.6     0.351  31.   ]\n",
            " [  8.    183.     64.    ...  23.3     0.672  32.   ]\n",
            " ...\n",
            " [  5.    121.     72.    ...  26.2     0.245  30.   ]\n",
            " [  1.    126.     60.    ...  30.1     0.349  47.   ]\n",
            " [  1.     93.     70.    ...  30.4     0.315  23.   ]]\n"
          ],
          "name": "stdout"
        }
      ]
    },
    {
      "cell_type": "code",
      "metadata": {
        "id": "dzArUaIdyj8c",
        "colab_type": "code",
        "outputId": "ae524fe9-e2de-4911-f501-900f46f9d5b0",
        "colab": {}
      },
      "source": [
        "y = dataset.values[:,-1]\n",
        "print(y.shape)\n",
        "print(y)"
      ],
      "execution_count": 0,
      "outputs": [
        {
          "output_type": "stream",
          "text": [
            "(768,)\n",
            "[1. 0. 1. 0. 1. 0. 1. 0. 1. 1. 0. 1. 0. 1. 1. 1. 1. 1. 0. 1. 0. 0. 1. 1.\n",
            " 1. 1. 1. 0. 0. 0. 0. 1. 0. 0. 0. 0. 0. 1. 1. 1. 0. 0. 0. 1. 0. 1. 0. 0.\n",
            " 1. 0. 0. 0. 0. 1. 0. 0. 1. 0. 0. 0. 0. 1. 0. 0. 1. 0. 1. 0. 0. 0. 1. 0.\n",
            " 1. 0. 0. 0. 0. 0. 1. 0. 0. 0. 0. 0. 1. 0. 0. 0. 1. 0. 0. 0. 0. 1. 0. 0.\n",
            " 0. 0. 0. 1. 1. 0. 0. 0. 0. 0. 0. 0. 0. 1. 1. 1. 0. 0. 1. 1. 1. 0. 0. 0.\n",
            " 1. 0. 0. 0. 1. 1. 0. 0. 1. 1. 1. 1. 1. 0. 0. 0. 0. 0. 0. 0. 0. 0. 0. 1.\n",
            " 0. 0. 0. 0. 0. 0. 0. 0. 1. 0. 1. 1. 0. 0. 0. 1. 0. 0. 0. 0. 1. 1. 0. 0.\n",
            " 0. 0. 1. 1. 0. 0. 0. 1. 0. 1. 0. 1. 0. 0. 0. 0. 0. 1. 1. 1. 1. 1. 0. 0.\n",
            " 1. 1. 0. 1. 0. 1. 1. 1. 0. 0. 0. 0. 0. 0. 1. 1. 0. 1. 0. 0. 0. 1. 1. 1.\n",
            " 1. 0. 1. 1. 1. 1. 0. 0. 0. 0. 0. 1. 0. 0. 1. 1. 0. 0. 0. 1. 1. 1. 1. 0.\n",
            " 0. 0. 1. 1. 0. 1. 0. 0. 0. 0. 0. 0. 0. 0. 1. 1. 0. 0. 0. 1. 0. 1. 0. 0.\n",
            " 1. 0. 1. 0. 0. 1. 1. 0. 0. 0. 0. 0. 1. 0. 0. 0. 1. 0. 0. 1. 1. 0. 0. 1.\n",
            " 0. 0. 0. 1. 1. 1. 0. 0. 1. 0. 1. 0. 1. 1. 0. 1. 0. 0. 1. 0. 1. 1. 0. 0.\n",
            " 1. 0. 1. 0. 0. 1. 0. 1. 0. 1. 1. 1. 0. 0. 1. 0. 1. 0. 0. 0. 1. 0. 0. 0.\n",
            " 0. 1. 1. 1. 0. 0. 0. 0. 0. 0. 0. 0. 0. 1. 0. 0. 0. 0. 0. 1. 1. 1. 0. 1.\n",
            " 1. 0. 0. 1. 0. 0. 1. 0. 0. 1. 1. 0. 0. 0. 0. 1. 0. 0. 1. 0. 0. 0. 0. 0.\n",
            " 0. 0. 1. 1. 1. 0. 0. 1. 0. 0. 1. 0. 0. 1. 0. 1. 1. 0. 1. 0. 1. 0. 1. 0.\n",
            " 1. 1. 0. 0. 0. 0. 1. 1. 0. 1. 0. 1. 0. 0. 0. 0. 1. 1. 0. 1. 0. 1. 0. 0.\n",
            " 0. 0. 0. 1. 0. 0. 0. 0. 1. 0. 0. 1. 1. 1. 0. 0. 1. 0. 0. 1. 0. 0. 0. 1.\n",
            " 0. 0. 1. 0. 0. 0. 0. 0. 0. 0. 0. 0. 1. 0. 0. 0. 0. 0. 0. 0. 1. 0. 0. 0.\n",
            " 1. 0. 0. 0. 1. 1. 0. 0. 0. 0. 0. 0. 0. 1. 0. 0. 0. 0. 1. 0. 0. 0. 1. 0.\n",
            " 0. 0. 1. 0. 0. 0. 1. 0. 0. 0. 0. 1. 1. 0. 0. 0. 0. 0. 0. 1. 0. 0. 0. 0.\n",
            " 0. 0. 0. 0. 0. 0. 0. 1. 0. 0. 0. 1. 1. 1. 1. 0. 0. 1. 1. 0. 0. 0. 0. 0.\n",
            " 0. 0. 0. 0. 0. 0. 0. 0. 1. 1. 0. 0. 0. 0. 0. 0. 0. 1. 0. 0. 0. 0. 0. 0.\n",
            " 0. 1. 0. 1. 1. 0. 0. 0. 1. 0. 1. 0. 1. 0. 1. 0. 1. 0. 0. 1. 0. 0. 1. 0.\n",
            " 0. 0. 0. 1. 1. 0. 1. 0. 0. 0. 0. 1. 1. 0. 1. 0. 0. 0. 1. 1. 0. 0. 0. 0.\n",
            " 0. 0. 0. 0. 0. 0. 1. 0. 0. 0. 0. 1. 0. 0. 1. 0. 0. 0. 1. 0. 0. 0. 1. 1.\n",
            " 1. 0. 0. 0. 0. 0. 0. 1. 0. 0. 0. 1. 0. 1. 1. 1. 1. 0. 1. 1. 0. 0. 0. 0.\n",
            " 0. 0. 0. 1. 1. 0. 1. 0. 0. 1. 0. 1. 0. 0. 0. 0. 0. 1. 0. 1. 0. 1. 0. 1.\n",
            " 1. 0. 0. 0. 0. 1. 1. 0. 0. 0. 1. 0. 1. 1. 0. 0. 1. 0. 0. 1. 1. 0. 0. 1.\n",
            " 0. 0. 1. 0. 0. 0. 0. 0. 0. 0. 1. 1. 1. 0. 0. 0. 0. 0. 0. 1. 1. 0. 0. 1.\n",
            " 0. 0. 1. 0. 1. 1. 1. 0. 0. 1. 1. 1. 0. 1. 0. 1. 0. 1. 0. 0. 0. 0. 1. 0.]\n"
          ],
          "name": "stdout"
        }
      ]
    },
    {
      "cell_type": "markdown",
      "metadata": {
        "colab_type": "text",
        "id": "o0xMqOyTs5xt"
      },
      "source": [
        "### Define Model"
      ]
    },
    {
      "cell_type": "code",
      "metadata": {
        "colab_type": "code",
        "id": "Bp9USczrfu6M",
        "colab": {}
      },
      "source": [
        "from tensorflow.keras.models import Sequential\n",
        "from tensorflow.keras.layers import Dense\n",
        "\n",
        "import numpy as np\n",
        "\n",
        "np.random.seed(812)"
      ],
      "execution_count": 0,
      "outputs": []
    },
    {
      "cell_type": "markdown",
      "metadata": {
        "colab_type": "text",
        "id": "wAzHLg27thoN"
      },
      "source": [
        "I'll instantiate my model as a \"sequential\" model. This just means that I'm going to tell Keras what my model's architecture should be one layer at a time."
      ]
    },
    {
      "cell_type": "code",
      "metadata": {
        "colab_type": "code",
        "id": "DSNsL49Xp6KI",
        "colab": {}
      },
      "source": [
        "# https://keras.io/getting-started/sequential-model-guide/\n",
        "model = Sequential()"
      ],
      "execution_count": 0,
      "outputs": []
    },
    {
      "cell_type": "markdown",
      "metadata": {
        "colab_type": "text",
        "id": "ZCYX6QzJtvpG"
      },
      "source": [
        "Adding a \"Dense\" layer to our model is how we add \"vanilla\" perceptron-based layers to our neural network. These are also called \"fully-connected\" or \"densely-connected\" layers. They're used as a layer type in lots of other Neural Net Architectures but they're not referred to as perceptrons or multi-layer perceptrons very often in those situations even though that's what they are.\n",
        "\n",
        " > [\"Just your regular densely-connected NN layer.\"](https://keras.io/layers/core/)\n",
        " \n",
        " The first argument is how many neurons we want to have in that layer. To create a perceptron model we will just set it to 1. We will tell it that there will be 8 inputs coming into this layer from our dataset and set it to use the sigmoid activation function."
      ]
    },
    {
      "cell_type": "code",
      "metadata": {
        "colab_type": "code",
        "id": "GNzOLidxtvFa",
        "colab": {}
      },
      "source": [
        "model.add(Dense(1, input_dim=8, activation=\"sigmoid\")) #Relu is valid option. "
      ],
      "execution_count": 0,
      "outputs": []
    },
    {
      "cell_type": "markdown",
      "metadata": {
        "colab_type": "text",
        "id": "EnI3jwKMtBL2",
        "toc-hr-collapsed": false
      },
      "source": [
        "### Compile Model\n",
        "Using binary_crossentropy as the loss function here is just telling keras that I'm doing binary classification so that it can use the appropriate loss function accordingly. If we were predicting non-binary categories we might assign something like `categorical_crossentropy`. We're also telling keras that we want it to report model accuracy as our main error metric for each epoch. We will also be able to see the overall accuracy once the model has finished training.\n",
        "\n",
        "#### Adam Optimizer\n",
        "Check out this links for more background on the Adam optimizer and Stohastic Gradient Descent\n",
        "* [Adam Optimization Algorithm](https://machinelearningmastery.com/adam-optimization-algorithm-for-deep-learning/)\n",
        "* [Adam Optimizer - original paper](https://arxiv.org/abs/1412.6980)"
      ]
    },
    {
      "cell_type": "code",
      "metadata": {
        "colab_type": "code",
        "id": "qp6xwYaqurRO",
        "colab": {}
      },
      "source": [
        "model.compile(loss='binary_crossentropy', optimizer='adam', metrics=['accuracy'])"
      ],
      "execution_count": 0,
      "outputs": []
    },
    {
      "cell_type": "markdown",
      "metadata": {
        "colab_type": "text",
        "id": "5dW8SZ2Ls9SX",
        "toc-hr-collapsed": false
      },
      "source": [
        "### Fit Model\n",
        "\n",
        "Lets train it up! `model.fit()` has a `batch_size` parameter that we can use if we want to do mini-batch epochs, but since this tabular dataset is pretty small we're just going to delete that parameter. Keras' default `batch_size` is `None` so omiting it will tell Keras to do batch epochs."
      ]
    },
    {
      "cell_type": "code",
      "metadata": {
        "id": "ygt31SZKyj9G",
        "colab_type": "code",
        "outputId": "6781b0fd-9ab6-485d-e99e-dea79b4da832",
        "colab": {}
      },
      "source": [
        "model.fit(X, y, epochs=150)"
      ],
      "execution_count": 0,
      "outputs": [
        {
          "output_type": "stream",
          "text": [
            "Train on 768 samples\n",
            "Epoch 1/150\n",
            "768/768 [==============================] - 0s 293us/sample - loss: 34.2261 - accuracy: 0.4727\n",
            "Epoch 2/150\n",
            "768/768 [==============================] - 0s 27us/sample - loss: 32.4174 - accuracy: 0.4766\n",
            "Epoch 3/150\n",
            "768/768 [==============================] - 0s 21us/sample - loss: 30.6731 - accuracy: 0.4831\n",
            "Epoch 4/150\n",
            "768/768 [==============================] - 0s 22us/sample - loss: 29.0443 - accuracy: 0.4870\n",
            "Epoch 5/150\n",
            "768/768 [==============================] - 0s 27us/sample - loss: 27.4810 - accuracy: 0.5026\n",
            "Epoch 6/150\n",
            "768/768 [==============================] - 0s 21us/sample - loss: 26.0528 - accuracy: 0.5117\n",
            "Epoch 7/150\n",
            "768/768 [==============================] - 0s 21us/sample - loss: 24.7547 - accuracy: 0.5273\n",
            "Epoch 8/150\n",
            "768/768 [==============================] - 0s 27us/sample - loss: 23.6178 - accuracy: 0.5417\n",
            "Epoch 9/150\n",
            "768/768 [==============================] - 0s 22us/sample - loss: 22.5752 - accuracy: 0.5534\n",
            "Epoch 10/150\n",
            "768/768 [==============================] - 0s 23us/sample - loss: 21.6934 - accuracy: 0.5664\n",
            "Epoch 11/150\n",
            "768/768 [==============================] - 0s 22us/sample - loss: 20.8600 - accuracy: 0.5781\n",
            "Epoch 12/150\n",
            "768/768 [==============================] - 0s 25us/sample - loss: 20.0764 - accuracy: 0.5846\n",
            "Epoch 13/150\n",
            "768/768 [==============================] - 0s 21us/sample - loss: 19.3512 - accuracy: 0.5872\n",
            "Epoch 14/150\n",
            "768/768 [==============================] - 0s 21us/sample - loss: 18.6189 - accuracy: 0.5938\n",
            "Epoch 15/150\n",
            "768/768 [==============================] - 0s 22us/sample - loss: 17.8739 - accuracy: 0.5990\n",
            "Epoch 16/150\n",
            "768/768 [==============================] - 0s 23us/sample - loss: 17.1681 - accuracy: 0.6055\n",
            "Epoch 17/150\n",
            "768/768 [==============================] - 0s 21us/sample - loss: 16.4527 - accuracy: 0.6029\n",
            "Epoch 18/150\n",
            "768/768 [==============================] - 0s 21us/sample - loss: 15.7153 - accuracy: 0.6042\n",
            "Epoch 19/150\n",
            "768/768 [==============================] - 0s 20us/sample - loss: 14.9868 - accuracy: 0.6055\n",
            "Epoch 20/150\n",
            "768/768 [==============================] - 0s 25us/sample - loss: 14.2624 - accuracy: 0.6081\n",
            "Epoch 21/150\n",
            "768/768 [==============================] - 0s 21us/sample - loss: 13.5182 - accuracy: 0.6081\n",
            "Epoch 22/150\n",
            "768/768 [==============================] - 0s 21us/sample - loss: 12.7711 - accuracy: 0.6068\n",
            "Epoch 23/150\n",
            "768/768 [==============================] - 0s 21us/sample - loss: 12.0446 - accuracy: 0.6055\n",
            "Epoch 24/150\n",
            "768/768 [==============================] - 0s 21us/sample - loss: 11.2845 - accuracy: 0.6068\n",
            "Epoch 25/150\n",
            "768/768 [==============================] - 0s 23us/sample - loss: 10.5575 - accuracy: 0.6055\n",
            "Epoch 26/150\n",
            "768/768 [==============================] - 0s 21us/sample - loss: 9.8072 - accuracy: 0.6094\n",
            "Epoch 27/150\n",
            "768/768 [==============================] - 0s 21us/sample - loss: 9.0671 - accuracy: 0.6055\n",
            "Epoch 28/150\n",
            "768/768 [==============================] - 0s 20us/sample - loss: 8.3455 - accuracy: 0.6068\n",
            "Epoch 29/150\n",
            "768/768 [==============================] - 0s 21us/sample - loss: 7.6310 - accuracy: 0.6003\n",
            "Epoch 30/150\n",
            "768/768 [==============================] - 0s 25us/sample - loss: 6.9124 - accuracy: 0.5990\n",
            "Epoch 31/150\n",
            "768/768 [==============================] - 0s 21us/sample - loss: 6.2226 - accuracy: 0.6016\n",
            "Epoch 32/150\n",
            "768/768 [==============================] - 0s 21us/sample - loss: 5.5758 - accuracy: 0.5938\n",
            "Epoch 33/150\n",
            "768/768 [==============================] - 0s 20us/sample - loss: 4.9785 - accuracy: 0.5938\n",
            "Epoch 34/150\n",
            "768/768 [==============================] - 0s 20us/sample - loss: 4.4422 - accuracy: 0.5885\n",
            "Epoch 35/150\n",
            "768/768 [==============================] - 0s 22us/sample - loss: 4.0076 - accuracy: 0.5820\n",
            "Epoch 36/150\n",
            "768/768 [==============================] - 0s 23us/sample - loss: 3.6142 - accuracy: 0.5990\n",
            "Epoch 37/150\n",
            "768/768 [==============================] - 0s 21us/sample - loss: 3.2984 - accuracy: 0.5846\n",
            "Epoch 38/150\n",
            "768/768 [==============================] - 0s 16us/sample - loss: 3.0282 - accuracy: 0.5924\n",
            "Epoch 39/150\n",
            "768/768 [==============================] - 0s 26us/sample - loss: 2.8160 - accuracy: 0.5964\n",
            "Epoch 40/150\n",
            "768/768 [==============================] - 0s 21us/sample - loss: 2.6453 - accuracy: 0.6003\n",
            "Epoch 41/150\n",
            "768/768 [==============================] - 0s 21us/sample - loss: 2.5063 - accuracy: 0.5938\n",
            "Epoch 42/150\n",
            "768/768 [==============================] - 0s 22us/sample - loss: 2.3783 - accuracy: 0.6003\n",
            "Epoch 43/150\n",
            "768/768 [==============================] - 0s 21us/sample - loss: 2.2693 - accuracy: 0.6003\n",
            "Epoch 44/150\n",
            "768/768 [==============================] - 0s 21us/sample - loss: 2.1796 - accuracy: 0.5990\n",
            "Epoch 45/150\n",
            "768/768 [==============================] - 0s 21us/sample - loss: 2.0961 - accuracy: 0.5977\n",
            "Epoch 46/150\n",
            "768/768 [==============================] - 0s 21us/sample - loss: 2.0150 - accuracy: 0.6094\n",
            "Epoch 47/150\n",
            "768/768 [==============================] - 0s 23us/sample - loss: 1.9263 - accuracy: 0.6107\n",
            "Epoch 48/150\n",
            "768/768 [==============================] - 0s 23us/sample - loss: 1.8487 - accuracy: 0.6159\n",
            "Epoch 49/150\n",
            "768/768 [==============================] - 0s 21us/sample - loss: 1.7841 - accuracy: 0.6146\n",
            "Epoch 50/150\n",
            "768/768 [==============================] - 0s 21us/sample - loss: 1.7045 - accuracy: 0.6211\n",
            "Epoch 51/150\n",
            "768/768 [==============================] - 0s 21us/sample - loss: 1.6330 - accuracy: 0.6237\n",
            "Epoch 52/150\n",
            "768/768 [==============================] - 0s 21us/sample - loss: 1.5592 - accuracy: 0.6237\n",
            "Epoch 53/150\n",
            "768/768 [==============================] - 0s 21us/sample - loss: 1.4933 - accuracy: 0.6276\n",
            "Epoch 54/150\n",
            "768/768 [==============================] - 0s 25us/sample - loss: 1.4298 - accuracy: 0.6237\n",
            "Epoch 55/150\n",
            "768/768 [==============================] - 0s 21us/sample - loss: 1.3831 - accuracy: 0.6328\n",
            "Epoch 56/150\n",
            "768/768 [==============================] - 0s 22us/sample - loss: 1.3186 - accuracy: 0.6250\n",
            "Epoch 57/150\n",
            "768/768 [==============================] - 0s 25us/sample - loss: 1.2620 - accuracy: 0.6432\n",
            "Epoch 58/150\n",
            "768/768 [==============================] - 0s 21us/sample - loss: 1.2133 - accuracy: 0.6432\n",
            "Epoch 59/150\n",
            "768/768 [==============================] - 0s 22us/sample - loss: 1.1494 - accuracy: 0.6406\n",
            "Epoch 60/150\n",
            "768/768 [==============================] - 0s 21us/sample - loss: 1.1124 - accuracy: 0.6367\n",
            "Epoch 61/150\n",
            "768/768 [==============================] - 0s 22us/sample - loss: 1.0709 - accuracy: 0.6484\n",
            "Epoch 62/150\n",
            "768/768 [==============================] - 0s 23us/sample - loss: 1.0139 - accuracy: 0.6484\n",
            "Epoch 63/150\n",
            "768/768 [==============================] - 0s 22us/sample - loss: 0.9822 - accuracy: 0.6380\n",
            "Epoch 64/150\n",
            "768/768 [==============================] - 0s 21us/sample - loss: 0.9454 - accuracy: 0.6445\n",
            "Epoch 65/150\n",
            "768/768 [==============================] - 0s 22us/sample - loss: 0.9038 - accuracy: 0.6497\n",
            "Epoch 66/150\n",
            "768/768 [==============================] - 0s 22us/sample - loss: 0.8743 - accuracy: 0.6510\n",
            "Epoch 67/150\n",
            "768/768 [==============================] - 0s 22us/sample - loss: 0.8487 - accuracy: 0.6497\n",
            "Epoch 68/150\n",
            "768/768 [==============================] - 0s 23us/sample - loss: 0.8209 - accuracy: 0.6615\n",
            "Epoch 69/150\n",
            "768/768 [==============================] - 0s 21us/sample - loss: 0.7979 - accuracy: 0.6602\n",
            "Epoch 70/150\n",
            "768/768 [==============================] - 0s 22us/sample - loss: 0.7757 - accuracy: 0.6523\n",
            "Epoch 71/150\n",
            "768/768 [==============================] - 0s 21us/sample - loss: 0.7556 - accuracy: 0.6615\n",
            "Epoch 72/150\n",
            "768/768 [==============================] - 0s 23us/sample - loss: 0.7363 - accuracy: 0.6615\n",
            "Epoch 73/150\n",
            "768/768 [==============================] - 0s 25us/sample - loss: 0.7194 - accuracy: 0.6471\n",
            "Epoch 74/150\n",
            "768/768 [==============================] - 0s 23us/sample - loss: 0.7124 - accuracy: 0.6497\n",
            "Epoch 75/150\n",
            "768/768 [==============================] - 0s 21us/sample - loss: 0.7185 - accuracy: 0.6406\n",
            "Epoch 76/150\n",
            "768/768 [==============================] - 0s 26us/sample - loss: 0.7000 - accuracy: 0.6484\n",
            "Epoch 77/150\n",
            "768/768 [==============================] - 0s 21us/sample - loss: 0.6761 - accuracy: 0.6667\n",
            "Epoch 78/150\n",
            "768/768 [==============================] - 0s 21us/sample - loss: 0.6667 - accuracy: 0.6562\n",
            "Epoch 79/150\n",
            "768/768 [==============================] - 0s 21us/sample - loss: 0.6573 - accuracy: 0.6602\n",
            "Epoch 80/150\n",
            "768/768 [==============================] - 0s 21us/sample - loss: 0.6544 - accuracy: 0.6602\n",
            "Epoch 81/150\n",
            "768/768 [==============================] - ETA: 0s - loss: 0.5714 - accuracy: 0.68 - 0s 21us/sample - loss: 0.6457 - accuracy: 0.6641\n",
            "Epoch 82/150\n",
            "768/768 [==============================] - 0s 21us/sample - loss: 0.6378 - accuracy: 0.6784\n",
            "Epoch 83/150\n",
            "768/768 [==============================] - 0s 20us/sample - loss: 0.6488 - accuracy: 0.6562\n",
            "Epoch 84/150\n",
            "768/768 [==============================] - 0s 22us/sample - loss: 0.6313 - accuracy: 0.6836\n",
            "Epoch 85/150\n",
            "768/768 [==============================] - 0s 25us/sample - loss: 0.6385 - accuracy: 0.6628\n",
            "Epoch 86/150\n",
            "768/768 [==============================] - 0s 21us/sample - loss: 0.6258 - accuracy: 0.6602\n",
            "Epoch 87/150\n",
            "768/768 [==============================] - 0s 22us/sample - loss: 0.6211 - accuracy: 0.6706\n",
            "Epoch 88/150\n",
            "768/768 [==============================] - 0s 21us/sample - loss: 0.6218 - accuracy: 0.6758\n",
            "Epoch 89/150\n",
            "768/768 [==============================] - 0s 21us/sample - loss: 0.6189 - accuracy: 0.6693\n",
            "Epoch 90/150\n",
            "768/768 [==============================] - 0s 21us/sample - loss: 0.6141 - accuracy: 0.6810\n",
            "Epoch 91/150\n",
            "768/768 [==============================] - 0s 21us/sample - loss: 0.6193 - accuracy: 0.6667\n",
            "Epoch 92/150\n",
            "768/768 [==============================] - 0s 21us/sample - loss: 0.6121 - accuracy: 0.6706\n",
            "Epoch 93/150\n",
            "768/768 [==============================] - 0s 21us/sample - loss: 0.6099 - accuracy: 0.6862\n",
            "Epoch 94/150\n",
            "768/768 [==============================] - 0s 21us/sample - loss: 0.6081 - accuracy: 0.6862\n",
            "Epoch 95/150\n",
            "768/768 [==============================] - 0s 21us/sample - loss: 0.6088 - accuracy: 0.6797\n",
            "Epoch 96/150\n",
            "768/768 [==============================] - 0s 22us/sample - loss: 0.6051 - accuracy: 0.6862\n",
            "Epoch 97/150\n",
            "768/768 [==============================] - 0s 22us/sample - loss: 0.6051 - accuracy: 0.6836\n",
            "Epoch 98/150\n",
            "768/768 [==============================] - 0s 25us/sample - loss: 0.6107 - accuracy: 0.6849\n",
            "Epoch 99/150\n",
            "768/768 [==============================] - 0s 23us/sample - loss: 0.6105 - accuracy: 0.6823\n",
            "Epoch 100/150\n",
            "768/768 [==============================] - 0s 24us/sample - loss: 0.6032 - accuracy: 0.6953\n",
            "Epoch 101/150\n",
            "768/768 [==============================] - 0s 23us/sample - loss: 0.6101 - accuracy: 0.6836\n",
            "Epoch 102/150\n",
            "768/768 [==============================] - 0s 21us/sample - loss: 0.6170 - accuracy: 0.6771\n",
            "Epoch 103/150\n",
            "768/768 [==============================] - 0s 21us/sample - loss: 0.6085 - accuracy: 0.6888\n",
            "Epoch 104/150\n",
            "768/768 [==============================] - 0s 21us/sample - loss: 0.6128 - accuracy: 0.6914\n",
            "Epoch 105/150\n",
            "768/768 [==============================] - 0s 21us/sample - loss: 0.6120 - accuracy: 0.6797\n",
            "Epoch 106/150\n",
            "768/768 [==============================] - 0s 21us/sample - loss: 0.6074 - accuracy: 0.6719\n",
            "Epoch 107/150\n",
            "768/768 [==============================] - 0s 22us/sample - loss: 0.6002 - accuracy: 0.6966\n",
            "Epoch 108/150\n",
            "768/768 [==============================] - 0s 21us/sample - loss: 0.6017 - accuracy: 0.6914\n",
            "Epoch 109/150\n",
            "768/768 [==============================] - 0s 22us/sample - loss: 0.5953 - accuracy: 0.6953\n",
            "Epoch 110/150\n",
            "768/768 [==============================] - 0s 20us/sample - loss: 0.5982 - accuracy: 0.7057\n",
            "Epoch 111/150\n",
            "768/768 [==============================] - 0s 21us/sample - loss: 0.6059 - accuracy: 0.7018\n",
            "Epoch 112/150\n",
            "768/768 [==============================] - 0s 21us/sample - loss: 0.6009 - accuracy: 0.7005\n",
            "Epoch 113/150\n",
            "768/768 [==============================] - 0s 25us/sample - loss: 0.6057 - accuracy: 0.6940\n",
            "Epoch 114/150\n",
            "768/768 [==============================] - 0s 21us/sample - loss: 0.5992 - accuracy: 0.7031\n",
            "Epoch 115/150\n",
            "768/768 [==============================] - 0s 21us/sample - loss: 0.6054 - accuracy: 0.6797\n",
            "Epoch 116/150\n",
            "768/768 [==============================] - 0s 21us/sample - loss: 0.6005 - accuracy: 0.6771\n",
            "Epoch 117/150\n",
            "768/768 [==============================] - 0s 21us/sample - loss: 0.5948 - accuracy: 0.7005\n",
            "Epoch 118/150\n",
            "768/768 [==============================] - 0s 21us/sample - loss: 0.5931 - accuracy: 0.6901\n",
            "Epoch 119/150\n",
            "768/768 [==============================] - 0s 21us/sample - loss: 0.5979 - accuracy: 0.6940\n",
            "Epoch 120/150\n",
            "768/768 [==============================] - 0s 21us/sample - loss: 0.5972 - accuracy: 0.7070\n",
            "Epoch 121/150\n",
            "768/768 [==============================] - 0s 21us/sample - loss: 0.5940 - accuracy: 0.6914\n",
            "Epoch 122/150\n",
            "768/768 [==============================] - 0s 21us/sample - loss: 0.5938 - accuracy: 0.7018\n",
            "Epoch 123/150\n",
            "768/768 [==============================] - 0s 22us/sample - loss: 0.5913 - accuracy: 0.7031\n",
            "Epoch 124/150\n",
            "768/768 [==============================] - 0s 21us/sample - loss: 0.5935 - accuracy: 0.7005\n",
            "Epoch 125/150\n",
            "768/768 [==============================] - 0s 22us/sample - loss: 0.5903 - accuracy: 0.7070\n",
            "Epoch 126/150\n",
            "768/768 [==============================] - 0s 21us/sample - loss: 0.5957 - accuracy: 0.6836\n",
            "Epoch 127/150\n",
            "768/768 [==============================] - 0s 21us/sample - loss: 0.5906 - accuracy: 0.7148\n",
            "Epoch 128/150\n",
            "768/768 [==============================] - 0s 21us/sample - loss: 0.5954 - accuracy: 0.6914\n",
            "Epoch 129/150\n",
            "768/768 [==============================] - 0s 22us/sample - loss: 0.5958 - accuracy: 0.6966\n",
            "Epoch 130/150\n",
            "768/768 [==============================] - 0s 21us/sample - loss: 0.5924 - accuracy: 0.6953\n",
            "Epoch 131/150\n",
            "768/768 [==============================] - 0s 22us/sample - loss: 0.5930 - accuracy: 0.6966\n",
            "Epoch 132/150\n",
            "768/768 [==============================] - 0s 21us/sample - loss: 0.5900 - accuracy: 0.7083\n",
            "Epoch 133/150\n",
            "768/768 [==============================] - 0s 21us/sample - loss: 0.5915 - accuracy: 0.7044\n",
            "Epoch 134/150\n",
            "768/768 [==============================] - 0s 21us/sample - loss: 0.5957 - accuracy: 0.6875\n",
            "Epoch 135/150\n",
            "768/768 [==============================] - 0s 21us/sample - loss: 0.5959 - accuracy: 0.7044\n",
            "Epoch 136/150\n",
            "768/768 [==============================] - 0s 21us/sample - loss: 0.5913 - accuracy: 0.7161\n",
            "Epoch 137/150\n",
            "768/768 [==============================] - 0s 22us/sample - loss: 0.5905 - accuracy: 0.7044\n",
            "Epoch 138/150\n",
            "768/768 [==============================] - 0s 21us/sample - loss: 0.5862 - accuracy: 0.6992\n",
            "Epoch 139/150\n",
            "768/768 [==============================] - 0s 21us/sample - loss: 0.5877 - accuracy: 0.6966\n",
            "Epoch 140/150\n",
            "768/768 [==============================] - 0s 22us/sample - loss: 0.5939 - accuracy: 0.6953\n",
            "Epoch 141/150\n",
            "768/768 [==============================] - 0s 21us/sample - loss: 0.5896 - accuracy: 0.7057\n",
            "Epoch 142/150\n",
            "768/768 [==============================] - 0s 20us/sample - loss: 0.5881 - accuracy: 0.6901\n",
            "Epoch 143/150\n",
            "768/768 [==============================] - 0s 23us/sample - loss: 0.5961 - accuracy: 0.6940\n",
            "Epoch 144/150\n",
            "768/768 [==============================] - 0s 23us/sample - loss: 0.5912 - accuracy: 0.7122\n",
            "Epoch 145/150\n",
            "768/768 [==============================] - 0s 26us/sample - loss: 0.5901 - accuracy: 0.7096\n",
            "Epoch 146/150\n",
            "768/768 [==============================] - 0s 23us/sample - loss: 0.5858 - accuracy: 0.6992\n",
            "Epoch 147/150\n",
            "768/768 [==============================] - 0s 27us/sample - loss: 0.5882 - accuracy: 0.6992\n",
            "Epoch 148/150\n",
            "768/768 [==============================] - 0s 27us/sample - loss: 0.5877 - accuracy: 0.6979\n",
            "Epoch 149/150\n",
            "768/768 [==============================] - 0s 22us/sample - loss: 0.5914 - accuracy: 0.7005\n",
            "Epoch 150/150\n",
            "768/768 [==============================] - 0s 26us/sample - loss: 0.5958 - accuracy: 0.6966\n"
          ],
          "name": "stdout"
        },
        {
          "output_type": "execute_result",
          "data": {
            "text/plain": [
              "<tensorflow.python.keras.callbacks.History at 0x7c9faab0b8>"
            ]
          },
          "metadata": {
            "tags": []
          },
          "execution_count": 18
        }
      ]
    },
    {
      "cell_type": "code",
      "metadata": {
        "id": "USIFsvC4yj9L",
        "colab_type": "code",
        "outputId": "a2b54f32-ace3-45ae-a5d6-1f36589b41cc",
        "colab": {}
      },
      "source": [
        "y.shape"
      ],
      "execution_count": 0,
      "outputs": [
        {
          "output_type": "execute_result",
          "data": {
            "text/plain": [
              "(768,)"
            ]
          },
          "metadata": {
            "tags": []
          },
          "execution_count": 19
        }
      ]
    },
    {
      "cell_type": "markdown",
      "metadata": {
        "id": "70wweqcdyj9R",
        "colab_type": "text"
      },
      "source": [
        "### Evaluate Model"
      ]
    },
    {
      "cell_type": "code",
      "metadata": {
        "id": "dj2mUKg5yj9T",
        "colab_type": "code",
        "outputId": "737b5f68-7570-4035-c789-18a2687ffbf5",
        "colab": {}
      },
      "source": [
        "y[:50]"
      ],
      "execution_count": 0,
      "outputs": [
        {
          "output_type": "execute_result",
          "data": {
            "text/plain": [
              "array([1., 0., 1., 0., 1., 0., 1., 0., 1., 1., 0., 1., 0., 1., 1., 1., 1.,\n",
              "       1., 0., 1., 0., 0., 1., 1., 1., 1., 1., 0., 0., 0., 0., 1., 0., 0.,\n",
              "       0., 0., 0., 1., 1., 1., 0., 0., 0., 1., 0., 1., 0., 0., 1., 0.])"
            ]
          },
          "metadata": {
            "tags": []
          },
          "execution_count": 20
        }
      ]
    },
    {
      "cell_type": "code",
      "metadata": {
        "id": "BZlmZBRGyj9Y",
        "colab_type": "code",
        "outputId": "15914b8f-4c78-4621-d717-28fa511f8d7d",
        "colab": {}
      },
      "source": [
        "# Predicting never diabetes\n",
        "sum(y) / len(y) "
      ],
      "execution_count": 0,
      "outputs": [
        {
          "output_type": "execute_result",
          "data": {
            "text/plain": [
              "0.3489583333333333"
            ]
          },
          "metadata": {
            "tags": []
          },
          "execution_count": 21
        }
      ]
    },
    {
      "cell_type": "code",
      "metadata": {
        "id": "W4v9Q_2Kyj9e",
        "colab_type": "code",
        "outputId": "1bc794b0-d73e-4c2d-8f69-8cf7e437faa8",
        "colab": {}
      },
      "source": [
        "scores = model.evaluate(X,y)\n",
        "print(f\"{model.metrics_names[1]}: {scores[1]*100}\")"
      ],
      "execution_count": 0,
      "outputs": [
        {
          "output_type": "stream",
          "text": [
            "768/1 [================================================================================================================================================================================================================================================================================================================================================================================================================================================================================================================================================================================================================================================================================================================================================================================================================================================================================================================================================================================================================================================================================================================================================================================================================================================================================================================================================================================================================================================================================================================================================================================================================================================================================================================================================================================================================================================================================================================================================================================================================================================================================================================================================================================================================================================================================================================================================================================================================================================================================================================================================================================================================================================================================================================================================================================================================================================================================================================================================================================================================================================================================================================================================================================================================================================================================================================================================================================================================================================================================================================================================================================================================================================================================================================================================================================================================================================================================================================================================================================================================================================================================================================================================================================================================================================================================================================================================================================================================================================================================================================================================================================================================================================================================================================================================================================================================================================================================================================================================================================================================================================================================================================================================================================================================================================================================================================================================================================================================================================================================================================================================================================================================================================================================================================================================================================================================================================================================================================================================================================================================================================================================================================================================================================================================================================================================================================================================================================================================================================================================================================================================================================================================================================================================================================================================================================================================================================================================================================================================================================================================================================================================================================================================================================================================================================================================================================================================================================================================================================================================================================================================================================================================================================================================================================================================================================================================================================================================================================================================================================================================================================================================================================================================================================================================================================================================================================================================================================================================================================================================================================================================================================================================================================================================================================================================================================================================================================================================================================================================================================================================================================================================================================================================================================================================================================================================================================================================================================================================================================================================================================================================================================================================================================================================================================================================================================================================================================================================================================================================================================================================================================================================================================================================================================================================================================================================================================================================================================================================================================================================================================================================================================================================================================================================================================================================================================================================================================================================================================================================================================================================================================================================================================================================================================================================================================================================================================================================================================================================================================================================================================================================================================================================================================================================================================================================================================================================================================================================================================================================================================================================================================================================================================================================================================================================================================================================================================================================================================================================================================================================================================================================================================================================================================================================================================================================================================================================================================================================================================================================================================================================================================================================================================================================================================================================================================================================================================================================================================================================================================================================================================================================================================================================================================================================================================================================================================================================================================================================================================================================================================================================================================================================================================================================================================================================================================================================================================================================================================================================================================================================================================================================================================================================================================================================================================================================================================================================================================================================================================================================================================================================================================================================================================================================================================================================================================================================================================================================================================================================================================================================================================================================================================================================================================================================================================================================================================================================================================================================================================================================================================================================================================================================================================================================================================================================================================================================================================================================================================================================================================================================================================================================================================================================================================================================================================================================================================================================================================================================================================================================================================================================================================================================================================================================================================================================================================================================================================================================================================================================================================================================================================================================================================================================================================================================================================================================================================================================================================================================================================================================================================================================================================================================================================================================================================================================================================================================================================================================================================================================================================================================================================================================================================================================================================================================================================================================================================================================================================================================================================================================================================================================================================================================================================================================================================================================================================================================================================================================================================================================================================================================================================================================================================================================================================================================================================================================================================================================================================================================================================================================================================================================================================================================================================================================================================================================================================================================================================================================================================================================================================================================================================================================================================================================================================================================================================================================================================================================================================================================================================================================================================================================================================================================================================================================================================================================================================================================================================================================================================================================================================================================================================================================================================================================================================================================================================================================================================================================================================================================================================================================================================================================================================================================================================================================================================================================================================================================================================================================================================================================================================================================================================================================================================================================================================================================================================================================================================================================================================================================================================================================================================================================================================================================================================================================================================================================================================================================================================================================================================================================================================================================================================================================================================================================================================================================================================================================================================================================================================================================================================================================================================================] - 0s 68us/sample - loss: 0.6142 - accuracy: 0.7161\n",
            "accuracy: 71.61458134651184\n"
          ],
          "name": "stdout"
        }
      ]
    },
    {
      "cell_type": "markdown",
      "metadata": {
        "colab_type": "text",
        "id": "zHYB7k9q3O8T"
      },
      "source": [
        "### Unstable Results\n",
        "\n",
        "You'll notice that if we rerun the results might differ from the origin run. This can be explain by a bunch of factors. Check out some of them in this article: \n",
        "\n",
        "<https://machinelearningmastery.com/randomness-in-machine-learning/>"
      ]
    },
    {
      "cell_type": "markdown",
      "metadata": {
        "id": "TEJHP8tlyj9n",
        "colab_type": "text"
      },
      "source": [
        "## Challenge\n",
        "\n",
        "You will be expected to leverage the Keras `Sequential`api to estimate a feed forward neural networks on a dataset."
      ]
    },
    {
      "cell_type": "markdown",
      "metadata": {
        "colab_type": "text",
        "id": "ueDVpctAzvy8"
      },
      "source": [
        "# Choosing Architecture (Learn)"
      ]
    },
    {
      "cell_type": "markdown",
      "metadata": {
        "id": "uY-X9SRCyj9q",
        "colab_type": "text"
      },
      "source": [
        "## Overview\n",
        "\n",
        "Choosing an architecture for a neural network is almost more an art than a science. Let's do a few experiments:"
      ]
    },
    {
      "cell_type": "markdown",
      "metadata": {
        "id": "IJKGzY2Fyj9r",
        "colab_type": "text"
      },
      "source": [
        "## Follow Along"
      ]
    },
    {
      "cell_type": "code",
      "metadata": {
        "colab_type": "code",
        "id": "6W2Sc7-LzQo_",
        "outputId": "faa97bbf-f0fe-4966-f11c-a9be38bf4f56",
        "colab": {}
      },
      "source": [
        "# Tell me your ideas\n",
        "\n",
        "model_improved = Sequential(name=\"3LayerJunk\")\n",
        "\n",
        "model_improved.add(Dense(4, input_dim=8, activation='relu', name=\"FirstHidden\"))\n",
        "model_improved.add(Dense(3, activation='sigmoid'))\n",
        "model_improved.add(Dense(1, activation='sigmoid'))\n",
        "\n",
        "model_improved.compile(loss='binary_crossentropy', optimizer='adam',\n",
        "              metrics=['accuracy'])\n",
        "\n",
        "# Let's inspect our new architecture\n",
        "model_improved.summary()"
      ],
      "execution_count": 0,
      "outputs": [
        {
          "output_type": "stream",
          "text": [
            "Model: \"3LayerJunk\"\n",
            "_________________________________________________________________\n",
            "Layer (type)                 Output Shape              Param #   \n",
            "=================================================================\n",
            "FirstHidden (Dense)          (None, 4)                 36        \n",
            "_________________________________________________________________\n",
            "dense_5 (Dense)              (None, 3)                 15        \n",
            "_________________________________________________________________\n",
            "dense_6 (Dense)              (None, 1)                 4         \n",
            "=================================================================\n",
            "Total params: 55\n",
            "Trainable params: 55\n",
            "Non-trainable params: 0\n",
            "_________________________________________________________________\n"
          ],
          "name": "stdout"
        }
      ]
    },
    {
      "cell_type": "code",
      "metadata": {
        "id": "J78zmSQCyj9y",
        "colab_type": "code",
        "outputId": "29828cf9-0c8b-4642-efa6-45735b8151e5",
        "colab": {}
      },
      "source": [
        "model_improved.fit(X, y, epochs=150, verbose=False) # What parameters can I specify here?"
      ],
      "execution_count": 0,
      "outputs": [
        {
          "output_type": "execute_result",
          "data": {
            "text/plain": [
              "<tensorflow.python.keras.callbacks.History at 0x7ca17b1ac8>"
            ]
          },
          "metadata": {
            "tags": []
          },
          "execution_count": 24
        }
      ]
    },
    {
      "cell_type": "code",
      "metadata": {
        "id": "eDLBWIJXyj94",
        "colab_type": "code",
        "outputId": "f8f5ac76-4bbf-4a64-d9ab-b4a833dbb2f5",
        "colab": {}
      },
      "source": [
        "scores = model_improved.evaluate(X,y)\n",
        "print(f\"{model_improved.metrics_names[1]}: {scores[1]*100}\")"
      ],
      "execution_count": 0,
      "outputs": [
        {
          "output_type": "stream",
          "text": [
            "768/1 [================================================================================================================================================================================================================================================================================================================================================================================================================================================================================================================================================================================================================================================================================================================================================================================================================================================================================================================================================================================================================================================================================================================================================================================================================================================================================================================================================================================================================================================================================================================================================================================================================================================================================================================================================================================================================================================================================================================================================================================================================================================================================================================================================================================================================================================================================================================================================================================================================================================================================================================================================================================================================================================================================================================================================================================================================================================================================================================================================================================================================================================================================================================================================================================================================================================================================================================================================================================================================================================================================================================================================================================================================================================================================================================================================================================================================================================================================================================================================================================================================================================================================================================================================================================================================================================================================================================================================================================================================================================================================================================================================================================================================================================================================================================================================================================================================================================================================================================================================================================================================================================================================================================================================================================================================================================================================================================================================================================================================================================================================================================================================================================================================================================================================================================================================================================================================================================================================================================================================================================================================================================================================================================================================================================================================================================================================================================================================================================================================================================================================================================================================================================================================================================================================================================================================================================================================================================================================================================================================================================================================================================================================================================================================================================================================================================================================================================================================================================================================================================================================================================================================================================================================================================================================================================================================================================================================================================================================================================================================================================================================================================================================================================================================================================================================================================================================================================================================================================================================================================================================================================================================================================================================================================================================================================================================================================================================================================================================================================================================================================================================================================================================================================================================================================================================================================================================================================================================================================================================================================================================================================================================================================================================================================================================================================================================================================================================================================================================================================================================================================================================================================================================================================================================================================================================================================================================================================================================================================================================================================================================================================================================================================================================================================================================================================================================================================================================================================================================================================================================================================================================================================================================================================================================================================================================================================================================================================================================================================================================================================================================================================================================================================================================================================================================================================================================================================================================================================================================================================================================================================================================================================================================================================================================================================================================================================================================================================================================================================================================================================================================================================================================================================================================================================================================================================================================================================================================================================================================================================================================================================================================================================================================================================================================================================================================================================================================================================================================================================================================================================================================================================================================================================================================================================================================================================================================================================================================================================================================================================================================================================================================================================================================================================================================================================================================================================================================================================================================================================================================================================================================================================================================================================================================================================================================================================================================================================================================================================================================================================================================================================================================================================================================================================================================================================================================================================================================================================================================================================================================================================================================================================================================================================================================================================================================================================================================================================================================================================================================================================================================================================================================================================================================================================================================================================================================================================================================================================================================================================================================================================================================================================================================================================================================================================================================================================================================================================================================================================================================================================================================================================================================================================================================================================================================================================================================================================================================================================================================================================================================================================================================================================================================================================================================================================================================================================================================================================================================================================================================================================================================================================================================================================================================================================================================================================================================================================================================================================================================================================================================================================================================================================================================================================================================================================================================================================================================================================================================================================================================================================================================================================================================================================================================================================================================================================================================================================================================================================================================================================================================================================================================================================================================================================================================================================================================================================================================================================================================================================================================================================================================================================================================================================================================================================================================================================================================================================================================================================================================================================================================================================================================================================================================================================================================================================================================================================================================================================================================================================================================================================================================================================================================================================================================================================================================================================================================================================================================================================================================================================================================================================================================================================================================================================================================================================================================================================================================================================================================================================================================================================================================================================================================================================================================================================================================================================================================================================================================================================================================================================================================================================================================================================================================================================================================================================================================================================================================================================================================================================================================================================================================================================================================================================================================================================================================================================================================================================================================================================================================================================================================================================================================================================================================================================================================================================================================================================================================================================================================================================================================================================================================================================================] - 0s 111us/sample - loss: 0.5839 - accuracy: 0.6706\n",
            "accuracy: 67.05729365348816\n"
          ],
          "name": "stdout"
        }
      ]
    },
    {
      "cell_type": "markdown",
      "metadata": {
        "id": "ZS7kOZ5Fyj98",
        "colab_type": "text"
      },
      "source": [
        "### Experiment with 1 Additional Layer & Change Activation F(x)s"
      ]
    },
    {
      "cell_type": "code",
      "metadata": {
        "id": "R23n6yvSyj9-",
        "colab_type": "code",
        "outputId": "781d8736-ba2e-4be2-b3f6-6e385c98bddb",
        "colab": {}
      },
      "source": [
        "# Tell me your ideas\n",
        "\n",
        "model_improved = Sequential(name=\"4LayerJunk\")\n",
        "\n",
        "model_improved.add(Dense(4, input_dim=8, activation='relu', name=\"Dense1\"))\n",
        "model_improved.add(Dense(3, activation='relu'))\n",
        "model_improved.add(Dense(3, activation='relu'))\n",
        "model_improved.add(Dense(1, activation='sigmoid'))\n",
        "\n",
        "model_improved.compile(loss='binary_crossentropy', optimizer='adam',\n",
        "              metrics=['accuracy'])\n",
        "\n",
        "# Let's inspect our new architecture\n",
        "model_improved.summary()"
      ],
      "execution_count": 0,
      "outputs": [
        {
          "output_type": "stream",
          "text": [
            "Model: \"4LayerJunk\"\n",
            "_________________________________________________________________\n",
            "Layer (type)                 Output Shape              Param #   \n",
            "=================================================================\n",
            "Dense1 (Dense)               (None, 4)                 36        \n",
            "_________________________________________________________________\n",
            "dense_7 (Dense)              (None, 3)                 15        \n",
            "_________________________________________________________________\n",
            "dense_8 (Dense)              (None, 3)                 12        \n",
            "_________________________________________________________________\n",
            "dense_9 (Dense)              (None, 1)                 4         \n",
            "=================================================================\n",
            "Total params: 67\n",
            "Trainable params: 67\n",
            "Non-trainable params: 0\n",
            "_________________________________________________________________\n"
          ],
          "name": "stdout"
        }
      ]
    },
    {
      "cell_type": "code",
      "metadata": {
        "id": "v7-5m9V0yj-E",
        "colab_type": "code",
        "outputId": "99034e1e-ab63-4eca-9b86-68c964f5aa4f",
        "colab": {}
      },
      "source": [
        "model_improved.fit(X,y, epochs=250, verbose=False)"
      ],
      "execution_count": 0,
      "outputs": [
        {
          "output_type": "execute_result",
          "data": {
            "text/plain": [
              "<tensorflow.python.keras.callbacks.History at 0x7ca22529b0>"
            ]
          },
          "metadata": {
            "tags": []
          },
          "execution_count": 27
        }
      ]
    },
    {
      "cell_type": "code",
      "metadata": {
        "id": "wG6fxeUhyj-J",
        "colab_type": "code",
        "outputId": "978ca39a-136d-47ba-bc61-aee729416272",
        "colab": {}
      },
      "source": [
        "model_improved.evaluate(X,y)\n",
        "#print(f\"{model_improved.metrics_names[1]}: {scores[1]*100}\")"
      ],
      "execution_count": 0,
      "outputs": [
        {
          "output_type": "stream",
          "text": [
            "768/1 [================================================================================================================================================================================================================================================================================================================================================================================================================================================================================================================================================================================================================================================================================================================================================================================================================================================================================================================================================================================================================================================================================================================================================================================================================================================================================================================================================================================================================================================================================================================================================================================================================================================================================================================================================================================================================================================================================================================================================================================================================================================================================================================================================================================================================================================================================================================================================================================================================================================================================================================================================================================================================================================================================================================================================================================================================================================================================================================================================================================================================================================================================================================================================================================================================================================================================================================================================================================================================================================================================================================================================================================================================================================================================================================================================================================================================================================================================================================================================================================================================================================================================================================================================================================================================================================================================================================================================================================================================================================================================================================================================================================================================================================================================================================================================================================================================================================================================================================================================================================================================================================================================================================================================================================================================================================================================================================================================================================================================================================================================================================================================================================================================================================================================================================================================================================================================================================================================================================================================================================================================================================================================================================================================================================================================================================================================================================================================================================================================================================================================================================================================================================================================================================================================================================================================================================================================================================================================================================================================================================================================================================================================================================================================================================================================================================================================================================================================================================================================================================================================================================================================================================================================================================================================================================================================================================================================================================================================================================================================================================================================================================================================================================================================================================================================================================================================================================================================================================================================================================================================================================================================================================================================================================================================================================================================================================================================================================================================================================================================================================================================================================================================================================================================================================================================================================================================================================================================================================================================================================================================================================================================================================================================================================================================================================================================================================================================================================================================================================================================================================================================================================================================================================================================================================================================================================================================================================================================================================================================================================================================================================================================================================================================================================================================================================================================================================================================================================================================================================================================================================================================================================================================================================================================================================================================================================================================================================================================================================================================================================================================================================================================================================================================================================================================================================================================================================================================================================================================================================================================================================================================================================================================================================================================================================================================================================================================================================================================================================================================================================================================================================================================================================================================================================================================================================================================================================================================================================================================================================================================================================================================================================================================================================================================================================================================================================================================================================================================================================================================================================================================================================================================================================================================================================================================================================================================================================================================================================================================================================================================================================================================================================================================================================================================================================================================================================================================================================================================================================================================================================================================================================================================================================================================================================================================================================================================================================================================================================================================================================================================================================================================================================================================================================================================================================================================================================================================================================================================================================================================================================================================================================================================================================================================================================================================================================================================================================================================================================================================================================================================================================================================================================================================================================================================================================================================================================================================================================================================================================================================================================================================================================================================================================================================================================================================================================================================================================================================================================================================================================================================================================================================================================================================================================================================================================================================================================================================================================================================================================================================================================================================================================================================================================================================================================================================================================================================================================================================================================================================================================================================================================================================================================================================================================================================================================================================================================================================================================================================================================================================================================================================================================================================================================================================================================================================================================================================================================================================================================================================================================================================================================================================================================================================================================================================================================================================================================================================================================================================================================================================================================================================================================================================================================================================================================================================================================================================================================================================================================================================================================================================================================================================================================================================================================================================================================================================================================================================================================================================================================================================================================================================================================================================================================================================================================================================================================================================================================================================================================================================================================================================================================================================================================================================================================================================================================================================================================================================================================================================================================================================================================================================================================================================================================================================================================================================================================================================================================================================================================================================================================================================================================================================================================================================================================================================================================================================================================================================================================================================================================================================================================================================================================================================================================================================================================================================================================================================================================================================================================================================================================================================================================================================================================================================================================================================================================================================================================================================================================================================================================================================================================================================================================================================================================================================================================================================================================================================================================================================================================================================================================================================================================================] - 0s 100us/sample - loss: 0.6741 - accuracy: 0.6510\n"
          ],
          "name": "stdout"
        },
        {
          "output_type": "execute_result",
          "data": {
            "text/plain": [
              "[0.6463433901468912, 0.6510417]"
            ]
          },
          "metadata": {
            "tags": []
          },
          "execution_count": 28
        }
      ]
    },
    {
      "cell_type": "markdown",
      "metadata": {
        "id": "6g5Pa0CJyj-O",
        "colab_type": "text"
      },
      "source": [
        "### New Experiment with Identical Neuron Numbers"
      ]
    },
    {
      "cell_type": "code",
      "metadata": {
        "id": "Cq-Em5Opyj-R",
        "colab_type": "code",
        "outputId": "ed6c6c29-2dd5-4c0f-d908-f7fdcdd0a446",
        "colab": {}
      },
      "source": [
        "# Tell me your ideas\n",
        "\n",
        "model_improved = Sequential(name=\"EvenNeurons4LayerJunk\")\n",
        "\n",
        "model_improved.add(Dense(8, input_dim=8, activation='relu', name=\"Dense1\"))\n",
        "model_improved.add(Dense(8, activation='relu'))\n",
        "model_improved.add(Dense(8, activation='relu'))\n",
        "model_improved.add(Dense(1, activation='sigmoid'))\n",
        "\n",
        "model_improved.compile(loss='binary_crossentropy', optimizer='adam',\n",
        "              metrics=['accuracy'])\n",
        "\n",
        "# Let's inspect our new architecture\n",
        "model_improved.summary()"
      ],
      "execution_count": 0,
      "outputs": [
        {
          "output_type": "stream",
          "text": [
            "Model: \"EvenNeurons4LayerJunk\"\n",
            "_________________________________________________________________\n",
            "Layer (type)                 Output Shape              Param #   \n",
            "=================================================================\n",
            "Dense1 (Dense)               (None, 8)                 72        \n",
            "_________________________________________________________________\n",
            "dense_10 (Dense)             (None, 8)                 72        \n",
            "_________________________________________________________________\n",
            "dense_11 (Dense)             (None, 8)                 72        \n",
            "_________________________________________________________________\n",
            "dense_12 (Dense)             (None, 1)                 9         \n",
            "=================================================================\n",
            "Total params: 225\n",
            "Trainable params: 225\n",
            "Non-trainable params: 0\n",
            "_________________________________________________________________\n"
          ],
          "name": "stdout"
        }
      ]
    },
    {
      "cell_type": "code",
      "metadata": {
        "id": "u3iJ2Kloyj-X",
        "colab_type": "code",
        "outputId": "1b36a06e-b5c0-481d-847e-be32be794cdd",
        "colab": {}
      },
      "source": [
        "model_improved.fit(X,y, epochs=250, validation_split=.10)"
      ],
      "execution_count": 0,
      "outputs": [
        {
          "output_type": "stream",
          "text": [
            "Train on 691 samples, validate on 77 samples\n",
            "Epoch 1/250\n",
            "691/691 [==============================] - 0s 668us/sample - loss: 13.0103 - accuracy: 0.6527 - val_loss: 10.2633 - val_accuracy: 0.5974\n",
            "Epoch 2/250\n",
            "691/691 [==============================] - 0s 46us/sample - loss: 6.5433 - accuracy: 0.6223 - val_loss: 3.7512 - val_accuracy: 0.5065\n",
            "Epoch 3/250\n",
            "691/691 [==============================] - 0s 42us/sample - loss: 2.4243 - accuracy: 0.5094 - val_loss: 2.2235 - val_accuracy: 0.4286\n",
            "Epoch 4/250\n",
            "691/691 [==============================] - 0s 39us/sample - loss: 1.5185 - accuracy: 0.5499 - val_loss: 1.4690 - val_accuracy: 0.5195\n",
            "Epoch 5/250\n",
            "691/691 [==============================] - 0s 39us/sample - loss: 1.0018 - accuracy: 0.6252 - val_loss: 1.1353 - val_accuracy: 0.4675\n",
            "Epoch 6/250\n",
            "691/691 [==============================] - 0s 36us/sample - loss: 0.8469 - accuracy: 0.6252 - val_loss: 1.0124 - val_accuracy: 0.4675\n",
            "Epoch 7/250\n",
            "691/691 [==============================] - 0s 38us/sample - loss: 0.7960 - accuracy: 0.6368 - val_loss: 0.9802 - val_accuracy: 0.4805\n",
            "Epoch 8/250\n",
            "691/691 [==============================] - 0s 35us/sample - loss: 0.7742 - accuracy: 0.6397 - val_loss: 0.9810 - val_accuracy: 0.4805\n",
            "Epoch 9/250\n",
            "691/691 [==============================] - 0s 36us/sample - loss: 0.7405 - accuracy: 0.6324 - val_loss: 0.8813 - val_accuracy: 0.4935\n",
            "Epoch 10/250\n",
            "691/691 [==============================] - 0s 41us/sample - loss: 0.7152 - accuracy: 0.6353 - val_loss: 0.8476 - val_accuracy: 0.4935\n",
            "Epoch 11/250\n",
            "691/691 [==============================] - 0s 35us/sample - loss: 0.7146 - accuracy: 0.6454 - val_loss: 0.8629 - val_accuracy: 0.5065\n",
            "Epoch 12/250\n",
            "691/691 [==============================] - 0s 41us/sample - loss: 0.6904 - accuracy: 0.6527 - val_loss: 0.8486 - val_accuracy: 0.5195\n",
            "Epoch 13/250\n",
            "691/691 [==============================] - 0s 35us/sample - loss: 0.6792 - accuracy: 0.6440 - val_loss: 0.7735 - val_accuracy: 0.5065\n",
            "Epoch 14/250\n",
            "691/691 [==============================] - 0s 39us/sample - loss: 0.6630 - accuracy: 0.6541 - val_loss: 0.7518 - val_accuracy: 0.5065\n",
            "Epoch 15/250\n",
            "691/691 [==============================] - 0s 35us/sample - loss: 0.6652 - accuracy: 0.6353 - val_loss: 0.7533 - val_accuracy: 0.5714\n",
            "Epoch 16/250\n",
            "691/691 [==============================] - 0s 35us/sample - loss: 0.6398 - accuracy: 0.6643 - val_loss: 0.7463 - val_accuracy: 0.5455\n",
            "Epoch 17/250\n",
            "691/691 [==============================] - 0s 39us/sample - loss: 0.6432 - accuracy: 0.6585 - val_loss: 0.7315 - val_accuracy: 0.5325\n",
            "Epoch 18/250\n",
            "691/691 [==============================] - 0s 33us/sample - loss: 0.6205 - accuracy: 0.6671 - val_loss: 0.7282 - val_accuracy: 0.5584\n",
            "Epoch 19/250\n",
            "691/691 [==============================] - 0s 39us/sample - loss: 0.6228 - accuracy: 0.6700 - val_loss: 0.7474 - val_accuracy: 0.5584\n",
            "Epoch 20/250\n",
            "691/691 [==============================] - 0s 33us/sample - loss: 0.6152 - accuracy: 0.6816 - val_loss: 0.7275 - val_accuracy: 0.5584\n",
            "Epoch 21/250\n",
            "691/691 [==============================] - 0s 38us/sample - loss: 0.6242 - accuracy: 0.6874 - val_loss: 0.9035 - val_accuracy: 0.5714\n",
            "Epoch 22/250\n",
            "691/691 [==============================] - 0s 35us/sample - loss: 0.6645 - accuracy: 0.6527 - val_loss: 0.7573 - val_accuracy: 0.5714\n",
            "Epoch 23/250\n",
            "691/691 [==============================] - 0s 39us/sample - loss: 0.6612 - accuracy: 0.6700 - val_loss: 0.7276 - val_accuracy: 0.5844\n",
            "Epoch 24/250\n",
            "691/691 [==============================] - 0s 35us/sample - loss: 0.6217 - accuracy: 0.6614 - val_loss: 0.7230 - val_accuracy: 0.5714\n",
            "Epoch 25/250\n",
            "691/691 [==============================] - 0s 39us/sample - loss: 0.6068 - accuracy: 0.6802 - val_loss: 0.7071 - val_accuracy: 0.5584\n",
            "Epoch 26/250\n",
            "691/691 [==============================] - 0s 38us/sample - loss: 0.6082 - accuracy: 0.6744 - val_loss: 0.7195 - val_accuracy: 0.5714\n",
            "Epoch 27/250\n",
            "691/691 [==============================] - 0s 35us/sample - loss: 0.5996 - accuracy: 0.6889 - val_loss: 0.7106 - val_accuracy: 0.5325\n",
            "Epoch 28/250\n",
            "691/691 [==============================] - 0s 36us/sample - loss: 0.5968 - accuracy: 0.7033 - val_loss: 0.7210 - val_accuracy: 0.5714\n",
            "Epoch 29/250\n",
            "691/691 [==============================] - 0s 39us/sample - loss: 0.5996 - accuracy: 0.7019 - val_loss: 0.7084 - val_accuracy: 0.5844\n",
            "Epoch 30/250\n",
            "691/691 [==============================] - 0s 35us/sample - loss: 0.5945 - accuracy: 0.6990 - val_loss: 0.6940 - val_accuracy: 0.5714\n",
            "Epoch 31/250\n",
            "691/691 [==============================] - 0s 39us/sample - loss: 0.5913 - accuracy: 0.6990 - val_loss: 0.7213 - val_accuracy: 0.5844\n",
            "Epoch 32/250\n",
            "691/691 [==============================] - 0s 36us/sample - loss: 0.6066 - accuracy: 0.6787 - val_loss: 0.7080 - val_accuracy: 0.5714\n",
            "Epoch 33/250\n",
            "691/691 [==============================] - 0s 42us/sample - loss: 0.5983 - accuracy: 0.7004 - val_loss: 0.7662 - val_accuracy: 0.5455\n",
            "Epoch 34/250\n",
            "691/691 [==============================] - 0s 35us/sample - loss: 0.5964 - accuracy: 0.6946 - val_loss: 0.7094 - val_accuracy: 0.5714\n",
            "Epoch 35/250\n",
            "691/691 [==============================] - 0s 38us/sample - loss: 0.5957 - accuracy: 0.6860 - val_loss: 0.7410 - val_accuracy: 0.5974\n",
            "Epoch 36/250\n",
            "691/691 [==============================] - 0s 35us/sample - loss: 0.5823 - accuracy: 0.7033 - val_loss: 0.6789 - val_accuracy: 0.5844\n",
            "Epoch 37/250\n",
            "691/691 [==============================] - 0s 42us/sample - loss: 0.5845 - accuracy: 0.7004 - val_loss: 0.6826 - val_accuracy: 0.5714\n",
            "Epoch 38/250\n",
            "691/691 [==============================] - 0s 33us/sample - loss: 0.5853 - accuracy: 0.7004 - val_loss: 0.7028 - val_accuracy: 0.5974\n",
            "Epoch 39/250\n",
            "691/691 [==============================] - 0s 33us/sample - loss: 0.5849 - accuracy: 0.7106 - val_loss: 0.6776 - val_accuracy: 0.5844\n",
            "Epoch 40/250\n",
            "691/691 [==============================] - 0s 38us/sample - loss: 0.5760 - accuracy: 0.7048 - val_loss: 0.6921 - val_accuracy: 0.6234\n",
            "Epoch 41/250\n",
            "691/691 [==============================] - 0s 38us/sample - loss: 0.5833 - accuracy: 0.7062 - val_loss: 0.6805 - val_accuracy: 0.5714\n",
            "Epoch 42/250\n",
            "691/691 [==============================] - 0s 35us/sample - loss: 0.5760 - accuracy: 0.7164 - val_loss: 0.6743 - val_accuracy: 0.5844\n",
            "Epoch 43/250\n",
            "691/691 [==============================] - 0s 36us/sample - loss: 0.5778 - accuracy: 0.7149 - val_loss: 0.6821 - val_accuracy: 0.5974\n",
            "Epoch 44/250\n",
            "691/691 [==============================] - 0s 35us/sample - loss: 0.5912 - accuracy: 0.7106 - val_loss: 0.6819 - val_accuracy: 0.6104\n",
            "Epoch 45/250\n",
            "691/691 [==============================] - 0s 35us/sample - loss: 0.5697 - accuracy: 0.7062 - val_loss: 0.6684 - val_accuracy: 0.5714\n",
            "Epoch 46/250\n",
            "691/691 [==============================] - 0s 38us/sample - loss: 0.5766 - accuracy: 0.7135 - val_loss: 0.6738 - val_accuracy: 0.6234\n",
            "Epoch 47/250\n",
            "691/691 [==============================] - 0s 33us/sample - loss: 0.5791 - accuracy: 0.7106 - val_loss: 0.6721 - val_accuracy: 0.6104\n",
            "Epoch 48/250\n",
            "691/691 [==============================] - 0s 33us/sample - loss: 0.5696 - accuracy: 0.7106 - val_loss: 0.6729 - val_accuracy: 0.6364\n",
            "Epoch 49/250\n",
            "691/691 [==============================] - 0s 39us/sample - loss: 0.5722 - accuracy: 0.7164 - val_loss: 0.6731 - val_accuracy: 0.6104\n",
            "Epoch 50/250\n",
            "691/691 [==============================] - 0s 35us/sample - loss: 0.5698 - accuracy: 0.7178 - val_loss: 0.7006 - val_accuracy: 0.6234\n",
            "Epoch 51/250\n",
            "691/691 [==============================] - 0s 36us/sample - loss: 0.5721 - accuracy: 0.7178 - val_loss: 0.6634 - val_accuracy: 0.5844\n",
            "Epoch 52/250\n",
            "691/691 [==============================] - 0s 35us/sample - loss: 0.5711 - accuracy: 0.7207 - val_loss: 0.6613 - val_accuracy: 0.6234\n",
            "Epoch 53/250\n",
            "691/691 [==============================] - 0s 36us/sample - loss: 0.5600 - accuracy: 0.7091 - val_loss: 0.6656 - val_accuracy: 0.6364\n",
            "Epoch 54/250\n",
            "691/691 [==============================] - 0s 38us/sample - loss: 0.5730 - accuracy: 0.7192 - val_loss: 0.6663 - val_accuracy: 0.6364\n",
            "Epoch 55/250\n",
            "691/691 [==============================] - 0s 33us/sample - loss: 0.5724 - accuracy: 0.7178 - val_loss: 0.7097 - val_accuracy: 0.5974\n",
            "Epoch 56/250\n",
            "691/691 [==============================] - 0s 36us/sample - loss: 0.5710 - accuracy: 0.7062 - val_loss: 0.6638 - val_accuracy: 0.6364\n",
            "Epoch 57/250\n",
            "691/691 [==============================] - 0s 35us/sample - loss: 0.5590 - accuracy: 0.7279 - val_loss: 0.6939 - val_accuracy: 0.5974\n",
            "Epoch 58/250\n",
            "691/691 [==============================] - 0s 36us/sample - loss: 0.5917 - accuracy: 0.7120 - val_loss: 0.6974 - val_accuracy: 0.5714\n",
            "Epoch 59/250\n",
            "691/691 [==============================] - 0s 35us/sample - loss: 0.5751 - accuracy: 0.7077 - val_loss: 0.6847 - val_accuracy: 0.5844\n",
            "Epoch 60/250\n",
            "691/691 [==============================] - 0s 42us/sample - loss: 0.5523 - accuracy: 0.7207 - val_loss: 0.6661 - val_accuracy: 0.5974\n",
            "Epoch 61/250\n",
            "691/691 [==============================] - 0s 35us/sample - loss: 0.5528 - accuracy: 0.7164 - val_loss: 0.6694 - val_accuracy: 0.6234\n",
            "Epoch 62/250\n",
            "691/691 [==============================] - 0s 41us/sample - loss: 0.5842 - accuracy: 0.7207 - val_loss: 0.7291 - val_accuracy: 0.5455\n",
            "Epoch 63/250\n",
            "691/691 [==============================] - 0s 48us/sample - loss: 0.5719 - accuracy: 0.7250 - val_loss: 0.6538 - val_accuracy: 0.6494\n",
            "Epoch 64/250\n",
            "691/691 [==============================] - 0s 38us/sample - loss: 0.5803 - accuracy: 0.7135 - val_loss: 0.6666 - val_accuracy: 0.6494\n",
            "Epoch 65/250\n",
            "691/691 [==============================] - 0s 36us/sample - loss: 0.5685 - accuracy: 0.7120 - val_loss: 0.6614 - val_accuracy: 0.6234\n",
            "Epoch 66/250\n",
            "691/691 [==============================] - 0s 36us/sample - loss: 0.5571 - accuracy: 0.7192 - val_loss: 0.6547 - val_accuracy: 0.6753\n",
            "Epoch 67/250\n",
            "691/691 [==============================] - 0s 43us/sample - loss: 0.5668 - accuracy: 0.7033 - val_loss: 0.6891 - val_accuracy: 0.6364\n",
            "Epoch 68/250\n",
            "691/691 [==============================] - 0s 38us/sample - loss: 0.5595 - accuracy: 0.7062 - val_loss: 0.6662 - val_accuracy: 0.5844\n",
            "Epoch 69/250\n",
            "691/691 [==============================] - 0s 48us/sample - loss: 0.5698 - accuracy: 0.7221 - val_loss: 0.6590 - val_accuracy: 0.6104\n",
            "Epoch 70/250\n",
            "691/691 [==============================] - 0s 39us/sample - loss: 0.5865 - accuracy: 0.7192 - val_loss: 0.6605 - val_accuracy: 0.6234\n",
            "Epoch 71/250\n",
            "691/691 [==============================] - 0s 38us/sample - loss: 0.5457 - accuracy: 0.7250 - val_loss: 0.6685 - val_accuracy: 0.5844\n",
            "Epoch 72/250\n",
            "691/691 [==============================] - 0s 42us/sample - loss: 0.5511 - accuracy: 0.7294 - val_loss: 0.6435 - val_accuracy: 0.6753\n",
            "Epoch 73/250\n",
            "691/691 [==============================] - 0s 41us/sample - loss: 0.5627 - accuracy: 0.7308 - val_loss: 0.6453 - val_accuracy: 0.6623\n",
            "Epoch 74/250\n",
            "691/691 [==============================] - 0s 41us/sample - loss: 0.5411 - accuracy: 0.7294 - val_loss: 0.6332 - val_accuracy: 0.6883\n",
            "Epoch 75/250\n",
            "691/691 [==============================] - 0s 39us/sample - loss: 0.5555 - accuracy: 0.7265 - val_loss: 0.6407 - val_accuracy: 0.6623\n",
            "Epoch 76/250\n",
            "691/691 [==============================] - 0s 41us/sample - loss: 0.5499 - accuracy: 0.7279 - val_loss: 0.6334 - val_accuracy: 0.6623\n",
            "Epoch 77/250\n",
            "691/691 [==============================] - 0s 48us/sample - loss: 0.5406 - accuracy: 0.7308 - val_loss: 0.6534 - val_accuracy: 0.6364\n",
            "Epoch 78/250\n",
            "691/691 [==============================] - 0s 42us/sample - loss: 0.5412 - accuracy: 0.7250 - val_loss: 0.6190 - val_accuracy: 0.7013\n",
            "Epoch 79/250\n",
            "691/691 [==============================] - 0s 51us/sample - loss: 0.5557 - accuracy: 0.7250 - val_loss: 0.6233 - val_accuracy: 0.7013\n",
            "Epoch 80/250\n",
            "691/691 [==============================] - 0s 45us/sample - loss: 0.6473 - accuracy: 0.6831 - val_loss: 0.8241 - val_accuracy: 0.5844\n",
            "Epoch 81/250\n",
            "691/691 [==============================] - 0s 45us/sample - loss: 0.5921 - accuracy: 0.7135 - val_loss: 0.6122 - val_accuracy: 0.7013\n",
            "Epoch 82/250\n",
            "691/691 [==============================] - 0s 41us/sample - loss: 0.5357 - accuracy: 0.7352 - val_loss: 0.6264 - val_accuracy: 0.6494\n",
            "Epoch 83/250\n",
            "691/691 [==============================] - 0s 43us/sample - loss: 0.5266 - accuracy: 0.7540 - val_loss: 0.6586 - val_accuracy: 0.6494\n",
            "Epoch 84/250\n",
            "691/691 [==============================] - 0s 39us/sample - loss: 0.5351 - accuracy: 0.7410 - val_loss: 0.6126 - val_accuracy: 0.7143\n",
            "Epoch 85/250\n",
            "691/691 [==============================] - 0s 41us/sample - loss: 0.5331 - accuracy: 0.7467 - val_loss: 0.6075 - val_accuracy: 0.7143\n",
            "Epoch 86/250\n",
            "691/691 [==============================] - 0s 38us/sample - loss: 0.5336 - accuracy: 0.7352 - val_loss: 0.6020 - val_accuracy: 0.6883\n",
            "Epoch 87/250\n",
            "691/691 [==============================] - 0s 48us/sample - loss: 0.5362 - accuracy: 0.7366 - val_loss: 0.6053 - val_accuracy: 0.7273\n",
            "Epoch 88/250\n",
            "691/691 [==============================] - 0s 36us/sample - loss: 0.5285 - accuracy: 0.7496 - val_loss: 0.6777 - val_accuracy: 0.6494\n",
            "Epoch 89/250\n",
            "691/691 [==============================] - 0s 38us/sample - loss: 0.5431 - accuracy: 0.7366 - val_loss: 0.6045 - val_accuracy: 0.7143\n",
            "Epoch 90/250\n",
            "691/691 [==============================] - 0s 41us/sample - loss: 0.5425 - accuracy: 0.7438 - val_loss: 0.5935 - val_accuracy: 0.7403\n",
            "Epoch 91/250\n",
            "691/691 [==============================] - 0s 52us/sample - loss: 0.5284 - accuracy: 0.7424 - val_loss: 0.6042 - val_accuracy: 0.7143\n",
            "Epoch 92/250\n",
            "691/691 [==============================] - 0s 41us/sample - loss: 0.5231 - accuracy: 0.7438 - val_loss: 0.6088 - val_accuracy: 0.7273\n",
            "Epoch 93/250\n",
            "691/691 [==============================] - 0s 35us/sample - loss: 0.5275 - accuracy: 0.7467 - val_loss: 0.5952 - val_accuracy: 0.7403\n",
            "Epoch 94/250\n",
            "691/691 [==============================] - 0s 38us/sample - loss: 0.5283 - accuracy: 0.7453 - val_loss: 0.6478 - val_accuracy: 0.6753\n",
            "Epoch 95/250\n",
            "691/691 [==============================] - 0s 36us/sample - loss: 0.5286 - accuracy: 0.7453 - val_loss: 0.6059 - val_accuracy: 0.6364\n",
            "Epoch 96/250\n",
            "691/691 [==============================] - 0s 46us/sample - loss: 0.5287 - accuracy: 0.7511 - val_loss: 0.5919 - val_accuracy: 0.7403\n",
            "Epoch 97/250\n",
            "691/691 [==============================] - 0s 45us/sample - loss: 0.5309 - accuracy: 0.7525 - val_loss: 0.6831 - val_accuracy: 0.6494\n",
            "Epoch 98/250\n",
            "691/691 [==============================] - 0s 48us/sample - loss: 0.5585 - accuracy: 0.7323 - val_loss: 0.8429 - val_accuracy: 0.5974\n",
            "Epoch 99/250\n",
            "691/691 [==============================] - 0s 39us/sample - loss: 0.5624 - accuracy: 0.7279 - val_loss: 0.5912 - val_accuracy: 0.7403\n",
            "Epoch 100/250\n",
            "691/691 [==============================] - 0s 42us/sample - loss: 0.5152 - accuracy: 0.7540 - val_loss: 0.6146 - val_accuracy: 0.7013\n",
            "Epoch 101/250\n",
            "691/691 [==============================] - 0s 43us/sample - loss: 0.5206 - accuracy: 0.7554 - val_loss: 0.6027 - val_accuracy: 0.6494\n",
            "Epoch 102/250\n",
            "691/691 [==============================] - 0s 41us/sample - loss: 0.5233 - accuracy: 0.7554 - val_loss: 0.5935 - val_accuracy: 0.7403\n",
            "Epoch 103/250\n",
            "691/691 [==============================] - 0s 38us/sample - loss: 0.5191 - accuracy: 0.7424 - val_loss: 0.5972 - val_accuracy: 0.7273\n",
            "Epoch 104/250\n",
            "691/691 [==============================] - 0s 39us/sample - loss: 0.5258 - accuracy: 0.7424 - val_loss: 0.6022 - val_accuracy: 0.7143\n",
            "Epoch 105/250\n",
            "691/691 [==============================] - 0s 41us/sample - loss: 0.5212 - accuracy: 0.7438 - val_loss: 0.6080 - val_accuracy: 0.7273\n",
            "Epoch 106/250\n",
            "691/691 [==============================] - 0s 38us/sample - loss: 0.5216 - accuracy: 0.7511 - val_loss: 0.5882 - val_accuracy: 0.7403\n",
            "Epoch 107/250\n",
            "691/691 [==============================] - 0s 38us/sample - loss: 0.5228 - accuracy: 0.7540 - val_loss: 0.5822 - val_accuracy: 0.7273\n",
            "Epoch 108/250\n",
            "691/691 [==============================] - 0s 33us/sample - loss: 0.5119 - accuracy: 0.7583 - val_loss: 0.5896 - val_accuracy: 0.6623\n",
            "Epoch 109/250\n",
            "691/691 [==============================] - 0s 36us/sample - loss: 0.5296 - accuracy: 0.7496 - val_loss: 0.6317 - val_accuracy: 0.6753\n",
            "Epoch 110/250\n",
            "691/691 [==============================] - 0s 35us/sample - loss: 0.5528 - accuracy: 0.7395 - val_loss: 0.6315 - val_accuracy: 0.6753\n",
            "Epoch 111/250\n",
            "691/691 [==============================] - 0s 33us/sample - loss: 0.5231 - accuracy: 0.7366 - val_loss: 0.5685 - val_accuracy: 0.6883\n",
            "Epoch 112/250\n",
            "691/691 [==============================] - 0s 35us/sample - loss: 0.5236 - accuracy: 0.7438 - val_loss: 0.5809 - val_accuracy: 0.6883\n",
            "Epoch 113/250\n",
            "691/691 [==============================] - 0s 33us/sample - loss: 0.5231 - accuracy: 0.7569 - val_loss: 0.5752 - val_accuracy: 0.7403\n",
            "Epoch 114/250\n",
            "691/691 [==============================] - 0s 33us/sample - loss: 0.5222 - accuracy: 0.7482 - val_loss: 0.6401 - val_accuracy: 0.7013\n",
            "Epoch 115/250\n",
            "691/691 [==============================] - 0s 33us/sample - loss: 0.5280 - accuracy: 0.7438 - val_loss: 0.6310 - val_accuracy: 0.6883\n",
            "Epoch 116/250\n",
            "691/691 [==============================] - 0s 36us/sample - loss: 0.5284 - accuracy: 0.7410 - val_loss: 0.5766 - val_accuracy: 0.7273\n",
            "Epoch 117/250\n",
            "691/691 [==============================] - 0s 35us/sample - loss: 0.5387 - accuracy: 0.7337 - val_loss: 0.5654 - val_accuracy: 0.7143\n",
            "Epoch 118/250\n",
            "691/691 [==============================] - 0s 33us/sample - loss: 0.5261 - accuracy: 0.7453 - val_loss: 0.5750 - val_accuracy: 0.7013\n",
            "Epoch 119/250\n",
            "691/691 [==============================] - 0s 35us/sample - loss: 0.5283 - accuracy: 0.7569 - val_loss: 0.5773 - val_accuracy: 0.6753\n",
            "Epoch 120/250\n",
            "691/691 [==============================] - 0s 32us/sample - loss: 0.5173 - accuracy: 0.7467 - val_loss: 0.6021 - val_accuracy: 0.7143\n",
            "Epoch 121/250\n",
            "691/691 [==============================] - 0s 45us/sample - loss: 0.5181 - accuracy: 0.7438 - val_loss: 0.5665 - val_accuracy: 0.6883\n",
            "Epoch 122/250\n",
            "691/691 [==============================] - 0s 36us/sample - loss: 0.5105 - accuracy: 0.7554 - val_loss: 0.5912 - val_accuracy: 0.7403\n",
            "Epoch 123/250\n",
            "691/691 [==============================] - 0s 33us/sample - loss: 0.5136 - accuracy: 0.7554 - val_loss: 0.5588 - val_accuracy: 0.7013\n",
            "Epoch 124/250\n",
            "691/691 [==============================] - ETA: 0s - loss: 0.5037 - accuracy: 0.81 - 0s 33us/sample - loss: 0.5077 - accuracy: 0.7525 - val_loss: 0.5917 - val_accuracy: 0.7273\n",
            "Epoch 125/250\n",
            "691/691 [==============================] - 0s 39us/sample - loss: 0.5089 - accuracy: 0.7496 - val_loss: 0.5751 - val_accuracy: 0.7532\n",
            "Epoch 126/250\n",
            "691/691 [==============================] - 0s 33us/sample - loss: 0.5195 - accuracy: 0.7525 - val_loss: 0.5555 - val_accuracy: 0.7143\n",
            "Epoch 127/250\n",
            "691/691 [==============================] - 0s 33us/sample - loss: 0.5163 - accuracy: 0.7496 - val_loss: 0.5687 - val_accuracy: 0.7273\n",
            "Epoch 128/250\n",
            "691/691 [==============================] - 0s 35us/sample - loss: 0.5072 - accuracy: 0.7627 - val_loss: 0.5836 - val_accuracy: 0.7143\n",
            "Epoch 129/250\n",
            "691/691 [==============================] - 0s 35us/sample - loss: 0.5034 - accuracy: 0.7569 - val_loss: 0.5876 - val_accuracy: 0.6623\n",
            "Epoch 130/250\n",
            "691/691 [==============================] - 0s 33us/sample - loss: 0.5196 - accuracy: 0.7583 - val_loss: 0.5536 - val_accuracy: 0.7403\n",
            "Epoch 131/250\n",
            "691/691 [==============================] - 0s 35us/sample - loss: 0.5239 - accuracy: 0.7467 - val_loss: 0.5618 - val_accuracy: 0.7143\n",
            "Epoch 132/250\n",
            "691/691 [==============================] - 0s 33us/sample - loss: 0.5036 - accuracy: 0.7583 - val_loss: 0.5584 - val_accuracy: 0.7273\n",
            "Epoch 133/250\n",
            "691/691 [==============================] - 0s 35us/sample - loss: 0.5099 - accuracy: 0.7569 - val_loss: 0.5656 - val_accuracy: 0.6623\n",
            "Epoch 134/250\n",
            "691/691 [==============================] - 0s 33us/sample - loss: 0.5142 - accuracy: 0.7482 - val_loss: 0.5835 - val_accuracy: 0.7403\n",
            "Epoch 135/250\n",
            "691/691 [==============================] - 0s 33us/sample - loss: 0.5098 - accuracy: 0.7438 - val_loss: 0.5765 - val_accuracy: 0.7273\n",
            "Epoch 136/250\n",
            "691/691 [==============================] - 0s 33us/sample - loss: 0.5063 - accuracy: 0.7656 - val_loss: 0.5528 - val_accuracy: 0.7273\n",
            "Epoch 137/250\n",
            "691/691 [==============================] - 0s 35us/sample - loss: 0.5013 - accuracy: 0.7583 - val_loss: 0.5581 - val_accuracy: 0.7403\n",
            "Epoch 138/250\n",
            "691/691 [==============================] - 0s 33us/sample - loss: 0.5305 - accuracy: 0.7424 - val_loss: 0.5695 - val_accuracy: 0.6623\n",
            "Epoch 139/250\n",
            "691/691 [==============================] - 0s 35us/sample - loss: 0.5136 - accuracy: 0.7496 - val_loss: 0.5505 - val_accuracy: 0.7403\n",
            "Epoch 140/250\n",
            "691/691 [==============================] - 0s 32us/sample - loss: 0.4989 - accuracy: 0.7554 - val_loss: 0.5515 - val_accuracy: 0.7403\n",
            "Epoch 141/250\n",
            "691/691 [==============================] - 0s 35us/sample - loss: 0.4977 - accuracy: 0.7554 - val_loss: 0.5540 - val_accuracy: 0.7403\n",
            "Epoch 142/250\n",
            "691/691 [==============================] - 0s 38us/sample - loss: 0.4917 - accuracy: 0.7612 - val_loss: 0.5539 - val_accuracy: 0.7273\n",
            "Epoch 143/250\n",
            "691/691 [==============================] - 0s 35us/sample - loss: 0.5038 - accuracy: 0.7569 - val_loss: 0.5735 - val_accuracy: 0.7273\n",
            "Epoch 144/250\n",
            "691/691 [==============================] - 0s 33us/sample - loss: 0.5037 - accuracy: 0.7656 - val_loss: 0.5419 - val_accuracy: 0.7273\n",
            "Epoch 145/250\n",
            "691/691 [==============================] - 0s 33us/sample - loss: 0.4995 - accuracy: 0.7612 - val_loss: 0.5767 - val_accuracy: 0.7273\n",
            "Epoch 146/250\n",
            "691/691 [==============================] - 0s 33us/sample - loss: 0.5090 - accuracy: 0.7511 - val_loss: 0.5517 - val_accuracy: 0.7013\n",
            "Epoch 147/250\n",
            "691/691 [==============================] - 0s 33us/sample - loss: 0.4902 - accuracy: 0.7569 - val_loss: 0.5713 - val_accuracy: 0.7273\n",
            "Epoch 148/250\n",
            "691/691 [==============================] - 0s 35us/sample - loss: 0.5004 - accuracy: 0.7627 - val_loss: 0.5490 - val_accuracy: 0.7143\n",
            "Epoch 149/250\n",
            "691/691 [==============================] - 0s 35us/sample - loss: 0.5046 - accuracy: 0.7554 - val_loss: 0.5341 - val_accuracy: 0.7662\n",
            "Epoch 150/250\n",
            "691/691 [==============================] - 0s 35us/sample - loss: 0.4886 - accuracy: 0.7540 - val_loss: 0.5332 - val_accuracy: 0.7662\n",
            "Epoch 151/250\n",
            "691/691 [==============================] - 0s 36us/sample - loss: 0.4944 - accuracy: 0.7511 - val_loss: 0.5436 - val_accuracy: 0.7273\n",
            "Epoch 152/250\n",
            "691/691 [==============================] - 0s 36us/sample - loss: 0.5053 - accuracy: 0.7612 - val_loss: 0.5588 - val_accuracy: 0.7143\n",
            "Epoch 153/250\n",
            "691/691 [==============================] - 0s 36us/sample - loss: 0.4970 - accuracy: 0.7627 - val_loss: 0.5533 - val_accuracy: 0.7273\n",
            "Epoch 154/250\n",
            "691/691 [==============================] - 0s 39us/sample - loss: 0.4923 - accuracy: 0.7656 - val_loss: 0.5618 - val_accuracy: 0.7143\n",
            "Epoch 155/250\n",
            "691/691 [==============================] - 0s 38us/sample - loss: 0.4960 - accuracy: 0.7453 - val_loss: 0.5379 - val_accuracy: 0.7273\n",
            "Epoch 156/250\n",
            "691/691 [==============================] - 0s 42us/sample - loss: 0.5138 - accuracy: 0.7467 - val_loss: 0.6144 - val_accuracy: 0.7143\n",
            "Epoch 157/250\n",
            "691/691 [==============================] - 0s 45us/sample - loss: 0.4918 - accuracy: 0.7583 - val_loss: 0.5542 - val_accuracy: 0.7143\n",
            "Epoch 158/250\n",
            "691/691 [==============================] - 0s 42us/sample - loss: 0.4987 - accuracy: 0.7554 - val_loss: 0.6277 - val_accuracy: 0.6883\n",
            "Epoch 159/250\n",
            "691/691 [==============================] - 0s 36us/sample - loss: 0.5113 - accuracy: 0.7540 - val_loss: 0.6556 - val_accuracy: 0.7013\n",
            "Epoch 160/250\n",
            "691/691 [==============================] - 0s 42us/sample - loss: 0.5115 - accuracy: 0.7569 - val_loss: 0.5664 - val_accuracy: 0.7143\n",
            "Epoch 161/250\n",
            "691/691 [==============================] - 0s 39us/sample - loss: 0.4926 - accuracy: 0.7641 - val_loss: 0.5447 - val_accuracy: 0.7662\n",
            "Epoch 162/250\n",
            "691/691 [==============================] - 0s 38us/sample - loss: 0.5168 - accuracy: 0.7569 - val_loss: 0.5208 - val_accuracy: 0.8052\n",
            "Epoch 163/250\n",
            "691/691 [==============================] - 0s 39us/sample - loss: 0.4959 - accuracy: 0.7554 - val_loss: 0.5892 - val_accuracy: 0.7273\n",
            "Epoch 164/250\n",
            "691/691 [==============================] - 0s 41us/sample - loss: 0.4962 - accuracy: 0.7612 - val_loss: 0.5357 - val_accuracy: 0.7273\n",
            "Epoch 165/250\n",
            "691/691 [==============================] - 0s 43us/sample - loss: 0.4936 - accuracy: 0.7627 - val_loss: 0.6114 - val_accuracy: 0.7273\n",
            "Epoch 166/250\n",
            "691/691 [==============================] - 0s 36us/sample - loss: 0.4967 - accuracy: 0.7496 - val_loss: 0.5451 - val_accuracy: 0.7273\n",
            "Epoch 167/250\n",
            "691/691 [==============================] - 0s 39us/sample - loss: 0.4862 - accuracy: 0.7540 - val_loss: 0.5380 - val_accuracy: 0.7273\n",
            "Epoch 168/250\n",
            "691/691 [==============================] - 0s 41us/sample - loss: 0.4944 - accuracy: 0.7554 - val_loss: 0.5599 - val_accuracy: 0.7273\n",
            "Epoch 169/250\n",
            "691/691 [==============================] - 0s 39us/sample - loss: 0.5022 - accuracy: 0.7598 - val_loss: 0.5774 - val_accuracy: 0.7013\n",
            "Epoch 170/250\n",
            "691/691 [==============================] - 0s 42us/sample - loss: 0.4944 - accuracy: 0.7511 - val_loss: 0.5287 - val_accuracy: 0.7532\n",
            "Epoch 171/250\n",
            "691/691 [==============================] - 0s 41us/sample - loss: 0.4970 - accuracy: 0.7627 - val_loss: 0.5628 - val_accuracy: 0.7143\n",
            "Epoch 172/250\n",
            "691/691 [==============================] - 0s 42us/sample - loss: 0.4983 - accuracy: 0.7627 - val_loss: 0.5282 - val_accuracy: 0.7662\n",
            "Epoch 173/250\n",
            "691/691 [==============================] - 0s 38us/sample - loss: 0.5127 - accuracy: 0.7540 - val_loss: 0.5842 - val_accuracy: 0.7273\n",
            "Epoch 174/250\n",
            "691/691 [==============================] - 0s 36us/sample - loss: 0.4982 - accuracy: 0.7540 - val_loss: 0.5495 - val_accuracy: 0.7532\n",
            "Epoch 175/250\n",
            "691/691 [==============================] - 0s 36us/sample - loss: 0.4907 - accuracy: 0.7670 - val_loss: 0.5347 - val_accuracy: 0.7273\n",
            "Epoch 176/250\n",
            "691/691 [==============================] - 0s 38us/sample - loss: 0.4900 - accuracy: 0.7540 - val_loss: 0.5364 - val_accuracy: 0.7273\n",
            "Epoch 177/250\n",
            "691/691 [==============================] - 0s 36us/sample - loss: 0.4967 - accuracy: 0.7540 - val_loss: 0.5199 - val_accuracy: 0.7403\n",
            "Epoch 178/250\n",
            "691/691 [==============================] - 0s 36us/sample - loss: 0.5032 - accuracy: 0.7627 - val_loss: 0.5235 - val_accuracy: 0.7403\n",
            "Epoch 179/250\n",
            "691/691 [==============================] - 0s 39us/sample - loss: 0.4889 - accuracy: 0.7713 - val_loss: 0.6102 - val_accuracy: 0.6883\n",
            "Epoch 180/250\n",
            "691/691 [==============================] - 0s 38us/sample - loss: 0.4942 - accuracy: 0.7583 - val_loss: 0.5344 - val_accuracy: 0.7143\n",
            "Epoch 181/250\n",
            "691/691 [==============================] - 0s 36us/sample - loss: 0.4954 - accuracy: 0.7554 - val_loss: 0.5455 - val_accuracy: 0.6883\n",
            "Epoch 182/250\n",
            "691/691 [==============================] - 0s 39us/sample - loss: 0.5046 - accuracy: 0.7540 - val_loss: 0.5582 - val_accuracy: 0.7403\n",
            "Epoch 183/250\n",
            "691/691 [==============================] - 0s 38us/sample - loss: 0.4878 - accuracy: 0.7540 - val_loss: 0.5337 - val_accuracy: 0.7273\n",
            "Epoch 184/250\n",
            "691/691 [==============================] - 0s 41us/sample - loss: 0.5023 - accuracy: 0.7554 - val_loss: 0.5268 - val_accuracy: 0.7273\n",
            "Epoch 185/250\n",
            "691/691 [==============================] - 0s 39us/sample - loss: 0.4894 - accuracy: 0.7569 - val_loss: 0.5210 - val_accuracy: 0.7792\n",
            "Epoch 186/250\n",
            "691/691 [==============================] - 0s 36us/sample - loss: 0.5029 - accuracy: 0.7525 - val_loss: 0.5389 - val_accuracy: 0.7143\n",
            "Epoch 187/250\n",
            "691/691 [==============================] - 0s 41us/sample - loss: 0.4808 - accuracy: 0.7641 - val_loss: 0.5200 - val_accuracy: 0.7532\n",
            "Epoch 188/250\n",
            "691/691 [==============================] - 0s 36us/sample - loss: 0.5097 - accuracy: 0.7525 - val_loss: 0.5229 - val_accuracy: 0.7403\n",
            "Epoch 189/250\n",
            "691/691 [==============================] - 0s 32us/sample - loss: 0.4968 - accuracy: 0.7641 - val_loss: 0.6828 - val_accuracy: 0.6883\n",
            "Epoch 190/250\n",
            "691/691 [==============================] - 0s 41us/sample - loss: 0.5480 - accuracy: 0.7453 - val_loss: 0.5421 - val_accuracy: 0.7273\n",
            "Epoch 191/250\n",
            "691/691 [==============================] - 0s 38us/sample - loss: 0.4804 - accuracy: 0.7641 - val_loss: 0.5343 - val_accuracy: 0.7273\n",
            "Epoch 192/250\n",
            "691/691 [==============================] - 0s 39us/sample - loss: 0.4826 - accuracy: 0.7641 - val_loss: 0.5100 - val_accuracy: 0.7922\n",
            "Epoch 193/250\n",
            "691/691 [==============================] - 0s 36us/sample - loss: 0.4886 - accuracy: 0.7569 - val_loss: 0.5086 - val_accuracy: 0.7922\n",
            "Epoch 194/250\n",
            "691/691 [==============================] - 0s 33us/sample - loss: 0.4813 - accuracy: 0.7569 - val_loss: 0.5174 - val_accuracy: 0.7662\n",
            "Epoch 195/250\n",
            "691/691 [==============================] - 0s 38us/sample - loss: 0.4766 - accuracy: 0.7757 - val_loss: 0.5198 - val_accuracy: 0.7532\n",
            "Epoch 196/250\n",
            "691/691 [==============================] - 0s 33us/sample - loss: 0.4834 - accuracy: 0.7569 - val_loss: 0.5160 - val_accuracy: 0.7273\n",
            "Epoch 197/250\n",
            "691/691 [==============================] - 0s 35us/sample - loss: 0.5046 - accuracy: 0.7554 - val_loss: 0.5339 - val_accuracy: 0.7403\n",
            "Epoch 198/250\n",
            "691/691 [==============================] - 0s 33us/sample - loss: 0.4931 - accuracy: 0.7438 - val_loss: 0.5115 - val_accuracy: 0.7792\n",
            "Epoch 199/250\n",
            "691/691 [==============================] - 0s 38us/sample - loss: 0.4874 - accuracy: 0.7612 - val_loss: 0.5428 - val_accuracy: 0.7013\n",
            "Epoch 200/250\n",
            "691/691 [==============================] - 0s 35us/sample - loss: 0.4841 - accuracy: 0.7554 - val_loss: 0.5371 - val_accuracy: 0.7273\n",
            "Epoch 201/250\n",
            "691/691 [==============================] - 0s 35us/sample - loss: 0.4904 - accuracy: 0.7511 - val_loss: 0.5058 - val_accuracy: 0.7662\n",
            "Epoch 202/250\n",
            "691/691 [==============================] - 0s 35us/sample - loss: 0.4859 - accuracy: 0.7685 - val_loss: 0.5145 - val_accuracy: 0.7662\n",
            "Epoch 203/250\n",
            "691/691 [==============================] - 0s 35us/sample - loss: 0.4809 - accuracy: 0.7699 - val_loss: 0.5128 - val_accuracy: 0.7403\n",
            "Epoch 204/250\n",
            "691/691 [==============================] - 0s 35us/sample - loss: 0.4860 - accuracy: 0.7598 - val_loss: 0.5173 - val_accuracy: 0.7532\n",
            "Epoch 205/250\n",
            "691/691 [==============================] - 0s 33us/sample - loss: 0.4792 - accuracy: 0.7685 - val_loss: 0.5100 - val_accuracy: 0.7532\n",
            "Epoch 206/250\n",
            "691/691 [==============================] - 0s 35us/sample - loss: 0.4828 - accuracy: 0.7685 - val_loss: 0.5232 - val_accuracy: 0.7403\n",
            "Epoch 207/250\n",
            "691/691 [==============================] - 0s 41us/sample - loss: 0.4769 - accuracy: 0.7685 - val_loss: 0.5150 - val_accuracy: 0.7662\n",
            "Epoch 208/250\n",
            "691/691 [==============================] - 0s 39us/sample - loss: 0.4703 - accuracy: 0.7641 - val_loss: 0.5025 - val_accuracy: 0.7922\n",
            "Epoch 209/250\n",
            "691/691 [==============================] - 0s 39us/sample - loss: 0.4751 - accuracy: 0.7583 - val_loss: 0.5115 - val_accuracy: 0.7532\n",
            "Epoch 210/250\n",
            "691/691 [==============================] - 0s 38us/sample - loss: 0.4823 - accuracy: 0.7598 - val_loss: 0.5112 - val_accuracy: 0.7532\n",
            "Epoch 211/250\n",
            "691/691 [==============================] - 0s 36us/sample - loss: 0.4797 - accuracy: 0.7583 - val_loss: 0.5038 - val_accuracy: 0.7792\n",
            "Epoch 212/250\n",
            "691/691 [==============================] - 0s 36us/sample - loss: 0.4734 - accuracy: 0.7627 - val_loss: 0.4987 - val_accuracy: 0.7922\n",
            "Epoch 213/250\n",
            "691/691 [==============================] - 0s 38us/sample - loss: 0.4746 - accuracy: 0.7670 - val_loss: 0.5063 - val_accuracy: 0.7403\n",
            "Epoch 214/250\n",
            "691/691 [==============================] - 0s 36us/sample - loss: 0.4743 - accuracy: 0.7612 - val_loss: 0.5268 - val_accuracy: 0.7143\n",
            "Epoch 215/250\n",
            "691/691 [==============================] - 0s 36us/sample - loss: 0.4821 - accuracy: 0.7728 - val_loss: 0.5518 - val_accuracy: 0.7532\n",
            "Epoch 216/250\n",
            "691/691 [==============================] - 0s 33us/sample - loss: 0.4724 - accuracy: 0.7771 - val_loss: 0.5439 - val_accuracy: 0.7273\n",
            "Epoch 217/250\n",
            "691/691 [==============================] - 0s 38us/sample - loss: 0.4768 - accuracy: 0.7641 - val_loss: 0.5059 - val_accuracy: 0.7403\n",
            "Epoch 218/250\n",
            "691/691 [==============================] - 0s 36us/sample - loss: 0.4743 - accuracy: 0.7641 - val_loss: 0.5093 - val_accuracy: 0.7273\n",
            "Epoch 219/250\n",
            "691/691 [==============================] - 0s 36us/sample - loss: 0.5007 - accuracy: 0.7511 - val_loss: 0.5437 - val_accuracy: 0.7143\n",
            "Epoch 220/250\n",
            "691/691 [==============================] - 0s 33us/sample - loss: 0.4835 - accuracy: 0.7627 - val_loss: 0.5042 - val_accuracy: 0.7662\n",
            "Epoch 221/250\n",
            "691/691 [==============================] - 0s 36us/sample - loss: 0.5002 - accuracy: 0.7699 - val_loss: 0.5015 - val_accuracy: 0.7662\n",
            "Epoch 222/250\n",
            "691/691 [==============================] - 0s 39us/sample - loss: 0.4998 - accuracy: 0.7496 - val_loss: 0.5288 - val_accuracy: 0.7273\n",
            "Epoch 223/250\n",
            "691/691 [==============================] - 0s 38us/sample - loss: 0.4857 - accuracy: 0.7627 - val_loss: 0.5158 - val_accuracy: 0.7013\n",
            "Epoch 224/250\n",
            "691/691 [==============================] - 0s 36us/sample - loss: 0.4746 - accuracy: 0.7685 - val_loss: 0.4963 - val_accuracy: 0.7662\n",
            "Epoch 225/250\n",
            "691/691 [==============================] - 0s 33us/sample - loss: 0.4766 - accuracy: 0.7699 - val_loss: 0.4911 - val_accuracy: 0.7662\n",
            "Epoch 226/250\n",
            "691/691 [==============================] - 0s 38us/sample - loss: 0.4774 - accuracy: 0.7670 - val_loss: 0.4933 - val_accuracy: 0.7662\n",
            "Epoch 227/250\n",
            "691/691 [==============================] - 0s 36us/sample - loss: 0.4773 - accuracy: 0.7699 - val_loss: 0.5358 - val_accuracy: 0.7403\n",
            "Epoch 228/250\n",
            "691/691 [==============================] - 0s 38us/sample - loss: 0.4706 - accuracy: 0.7685 - val_loss: 0.5114 - val_accuracy: 0.7403\n",
            "Epoch 229/250\n",
            "691/691 [==============================] - 0s 41us/sample - loss: 0.4720 - accuracy: 0.7627 - val_loss: 0.5016 - val_accuracy: 0.7532\n",
            "Epoch 230/250\n",
            "691/691 [==============================] - 0s 38us/sample - loss: 0.4732 - accuracy: 0.7627 - val_loss: 0.4850 - val_accuracy: 0.7922\n",
            "Epoch 231/250\n",
            "691/691 [==============================] - 0s 39us/sample - loss: 0.4769 - accuracy: 0.7713 - val_loss: 0.4871 - val_accuracy: 0.8052\n",
            "Epoch 232/250\n",
            "691/691 [==============================] - 0s 42us/sample - loss: 0.4695 - accuracy: 0.7641 - val_loss: 0.4851 - val_accuracy: 0.8052\n",
            "Epoch 233/250\n",
            "691/691 [==============================] - 0s 35us/sample - loss: 0.4775 - accuracy: 0.7641 - val_loss: 0.4963 - val_accuracy: 0.7532\n",
            "Epoch 234/250\n",
            "691/691 [==============================] - 0s 39us/sample - loss: 0.5050 - accuracy: 0.7525 - val_loss: 0.5139 - val_accuracy: 0.7143\n",
            "Epoch 235/250\n",
            "691/691 [==============================] - 0s 36us/sample - loss: 0.4809 - accuracy: 0.7598 - val_loss: 0.5728 - val_accuracy: 0.7143\n",
            "Epoch 236/250\n",
            "691/691 [==============================] - 0s 38us/sample - loss: 0.4977 - accuracy: 0.7612 - val_loss: 0.5119 - val_accuracy: 0.7143\n",
            "Epoch 237/250\n",
            "691/691 [==============================] - 0s 36us/sample - loss: 0.4728 - accuracy: 0.7699 - val_loss: 0.4900 - val_accuracy: 0.7662\n",
            "Epoch 238/250\n",
            "691/691 [==============================] - 0s 36us/sample - loss: 0.4675 - accuracy: 0.7612 - val_loss: 0.4872 - val_accuracy: 0.7792\n",
            "Epoch 239/250\n",
            "691/691 [==============================] - 0s 38us/sample - loss: 0.4716 - accuracy: 0.7713 - val_loss: 0.4878 - val_accuracy: 0.7532\n",
            "Epoch 240/250\n",
            "691/691 [==============================] - 0s 39us/sample - loss: 0.4638 - accuracy: 0.7670 - val_loss: 0.5043 - val_accuracy: 0.7532\n",
            "Epoch 241/250\n",
            "691/691 [==============================] - 0s 36us/sample - loss: 0.4689 - accuracy: 0.7641 - val_loss: 0.4890 - val_accuracy: 0.7662\n",
            "Epoch 242/250\n",
            "691/691 [==============================] - 0s 35us/sample - loss: 0.4667 - accuracy: 0.7786 - val_loss: 0.4801 - val_accuracy: 0.7922\n",
            "Epoch 243/250\n",
            "691/691 [==============================] - 0s 35us/sample - loss: 0.4636 - accuracy: 0.7742 - val_loss: 0.4745 - val_accuracy: 0.7922\n",
            "Epoch 244/250\n",
            "691/691 [==============================] - 0s 35us/sample - loss: 0.4744 - accuracy: 0.7786 - val_loss: 0.4783 - val_accuracy: 0.7662\n",
            "Epoch 245/250\n",
            "691/691 [==============================] - 0s 36us/sample - loss: 0.4652 - accuracy: 0.7786 - val_loss: 0.4856 - val_accuracy: 0.7922\n",
            "Epoch 246/250\n",
            "691/691 [==============================] - 0s 36us/sample - loss: 0.4844 - accuracy: 0.7685 - val_loss: 0.4778 - val_accuracy: 0.7792\n",
            "Epoch 247/250\n",
            "691/691 [==============================] - 0s 41us/sample - loss: 0.4720 - accuracy: 0.7757 - val_loss: 0.5299 - val_accuracy: 0.7273\n",
            "Epoch 248/250\n",
            "691/691 [==============================] - 0s 35us/sample - loss: 0.4963 - accuracy: 0.7656 - val_loss: 0.4900 - val_accuracy: 0.7922\n",
            "Epoch 249/250\n",
            "691/691 [==============================] - 0s 35us/sample - loss: 0.4643 - accuracy: 0.7713 - val_loss: 0.4856 - val_accuracy: 0.7792\n",
            "Epoch 250/250\n",
            "691/691 [==============================] - 0s 35us/sample - loss: 0.4720 - accuracy: 0.7786 - val_loss: 0.4711 - val_accuracy: 0.8182\n"
          ],
          "name": "stdout"
        },
        {
          "output_type": "execute_result",
          "data": {
            "text/plain": [
              "<tensorflow.python.keras.callbacks.History at 0x7ca3e808d0>"
            ]
          },
          "metadata": {
            "tags": []
          },
          "execution_count": 30
        }
      ]
    },
    {
      "cell_type": "code",
      "metadata": {
        "id": "SpPTJMVvyj-f",
        "colab_type": "code",
        "outputId": "887fa1b0-ec4b-4ed3-9018-5b4d3bcff440",
        "colab": {}
      },
      "source": [
        "model_improved.evaluate(X,y)\n",
        "#print(f\"{model_improved.metrics_names[1]}: {scores[1]*100}\")"
      ],
      "execution_count": 0,
      "outputs": [
        {
          "output_type": "stream",
          "text": [
            "768/1 [================================================================================================================================================================================================================================================================================================================================================================================================================================================================================================================================================================================================================================================================================================================================================================================================================================================================================================================================================================================================================================================================================================================================================================================================================================================================================================================================================================================================================================================================================================================================================================================================================================================================================================================================================================================================================================================================================================================================================================================================================================================================================================================================================================================================================================================================================================================================================================================================================================================================================================================================================================================================================================================================================================================================================================================================================================================================================================================================================================================================================================================================================================================================================================================================================================================================================================================================================================================================================================================================================================================================================================================================================================================================================================================================================================================================================================================================================================================================================================================================================================================================================================================================================================================================================================================================================================================================================================================================================================================================================================================================================================================================================================================================================================================================================================================================================================================================================================================================================================================================================================================================================================================================================================================================================================================================================================================================================================================================================================================================================================================================================================================================================================================================================================================================================================================================================================================================================================================================================================================================================================================================================================================================================================================================================================================================================================================================================================================================================================================================================================================================================================================================================================================================================================================================================================================================================================================================================================================================================================================================================================================================================================================================================================================================================================================================================================================================================================================================================================================================================================================================================================================================================================================================================================================================================================================================================================================================================================================================================================================================================================================================================================================================================================================================================================================================================================================================================================================================================================================================================================================================================================================================================================================================================================================================================================================================================================================================================================================================================================================================================================================================================================================================================================================================================================================================================================================================================================================================================================================================================================================================================================================================================================================================================================================================================================================================================================================================================================================================================================================================================================================================================================================================================================================================================================================================================================================================================================================================================================================================================================================================================================================================================================================================================================================================================================================================================================================================================================================================================================================================================================================================================================================================================================================================================================================================================================================================================================================================================================================================================================================================================================================================================================================================================================================================================================================================================================================================================================================================================================================================================================================================================================================================================================================================================================================================================================================================================================================================================================================================================================================================================================================================================================================================================================================================================================================================================================================================================================================================================================================================================================================================================================================================================================================================================================================================================================================================================================================================================================================================================================================================================================================================================================================================================================================================================================================================================================================================================================================================================================================================================================================================================================================================================================================================================================================================================================================================================================================================================================================================================================================================================================================================================================================================================================================================================================================================================================================================================================================================================================================================================================================================================================================================================================================================================================================================================================================================================================================================================================================================================================================================================================================================================================================================================================================================================================================================================================================================================================================================================================================================================================================================================================================================================================================================================================================================================================================================================================================================================================================================================================================================================================================================================================================================================================================================================================================================================================================================================================================================================================================================================================================================================================================================================================================================================================================================================================================================================================================================================================================================================================================================================================================================================================================================================================================================================================================================================================================================================================================================================================================================================================================================================================================================================================================================================================================================================================================================================================================================================================================================================================================================================================================================================================================================================================================================================================================================================================================================================================================================================================================================================================================================================================================================================================================================================================================================================================================================================================================================================================================================================================================================================================================================================================================================================================================================================================================================================================================================================================================================================================================================================================================================================================================================================================================================================================================================================================================================================================================================================================================================================================================================================================================================================================================================================================================================================================================================================================================================================================================================================================================================================================================================================================================================================================================================================================================================================================================================================================================================================================================================================================================================================================================================================================================================================================================================================================================================================================================================================================================================================================================================================================================================================================================================================================================================================================================================================================================================================================================================================================================================================================================================================================================================================================================================================================================================================================================================================================================================================================================================================================================================================================================================================================================================================================================================================================================================================================================================================================================================================================================================================================================================================================================================================================================================================================================================================================================================================================================================================================================================================================================================] - 0s 93us/sample - loss: 0.4431 - accuracy: 0.7839\n"
          ],
          "name": "stdout"
        },
        {
          "output_type": "execute_result",
          "data": {
            "text/plain": [
              "[0.47093714276949566, 0.7838542]"
            ]
          },
          "metadata": {
            "tags": []
          },
          "execution_count": 31
        }
      ]
    },
    {
      "cell_type": "markdown",
      "metadata": {
        "id": "nNvcOgb-yj-k",
        "colab_type": "text"
      },
      "source": [
        "## Challenge\n",
        "\n",
        "You will have to choose your own architectures in today's module project. "
      ]
    },
    {
      "cell_type": "markdown",
      "metadata": {
        "id": "vrIffYmDyj-m",
        "colab_type": "text"
      },
      "source": [
        "### Student Experiments\n",
        "\n",
        "Spend the next 10 Minutes researching the Keras API documentation or general neural network architectures.\n",
        "\n",
        "A couple starting ideas for you to look into:\n",
        "\n",
        "1. Optimizers\n",
        "2. Loss Metrics\n",
        "3. Activation Functions\n",
        "4. Parameters for any of the above\n",
        "5. No. of Layers / No. of Neurons\n",
        "\n",
        "Come back from the break with 1-2 suggestions to try in our network architecture. We'll see how it works on the diabetes dataset. "
      ]
    },
    {
      "cell_type": "markdown",
      "metadata": {
        "id": "RIfwUhkXyj-n",
        "colab_type": "text"
      },
      "source": [
        "#### Suggested Experiments\n",
        "1. Stochastic Gradient Descent\n",
        "2. Nadam\n",
        "3. Clipnorm and.or clipvalue\n",
        "4. Tanh for the activation f(x)\n",
        "5. Normalize the data?"
      ]
    },
    {
      "cell_type": "markdown",
      "metadata": {
        "id": "EYKLYhNpyj-p",
        "colab_type": "text"
      },
      "source": [
        "#### Stochastic Gradient Descent"
      ]
    },
    {
      "cell_type": "code",
      "metadata": {
        "id": "xPkXTO9yyj-q",
        "colab_type": "code",
        "outputId": "f9c98aab-51e4-458c-fb75-fe7f6d97b349",
        "colab": {}
      },
      "source": [
        "model = Sequential(name=\"SGD\")\n",
        "\n",
        "model.add(Dense(4, input_dim=8, activation='relu'))\n",
        "model.add(Dense(3, activation='sigmoid'))\n",
        "model.add(Dense(1, activation='sigmoid'))\n",
        "\n",
        "model.compile(loss='binary_crossentropy', optimizer='sgd',\n",
        "             metrics=['accuracy'])\n",
        "\n",
        "# Let's inspect our new architecture\n",
        "model.summary()"
      ],
      "execution_count": 0,
      "outputs": [
        {
          "output_type": "stream",
          "text": [
            "Model: \"SGD\"\n",
            "_________________________________________________________________\n",
            "Layer (type)                 Output Shape              Param #   \n",
            "=================================================================\n",
            "dense_16 (Dense)             (None, 4)                 36        \n",
            "_________________________________________________________________\n",
            "dense_17 (Dense)             (None, 3)                 15        \n",
            "_________________________________________________________________\n",
            "dense_18 (Dense)             (None, 1)                 4         \n",
            "=================================================================\n",
            "Total params: 55\n",
            "Trainable params: 55\n",
            "Non-trainable params: 0\n",
            "_________________________________________________________________\n"
          ],
          "name": "stdout"
        }
      ]
    },
    {
      "cell_type": "markdown",
      "metadata": {
        "id": "xMkoooB9yj-v",
        "colab_type": "text"
      },
      "source": [
        "#### Nadam and clipnorm Experiment"
      ]
    },
    {
      "cell_type": "code",
      "metadata": {
        "id": "7Mvp8t-6yj-w",
        "colab_type": "code",
        "outputId": "4f865da7-0891-4612-91e9-5f17f7a9700e",
        "colab": {}
      },
      "source": [
        "from tensorflow.keras.optimizers import Nadam\n",
        "\n",
        "nadam = Nadam(clipnorm=.7)\n",
        "\n",
        "model= Sequential(name=\"NadamClipNorm\")\n",
        "\n",
        "model.add(Dense(4, input_dim=8, activation='relu'))\n",
        "model.add(Dense(3, activation='sigmoid'))\n",
        "model.add(Dense(3, activation='sigmoid'))\n",
        "model.add(Dense(3, activation='sigmoid'))\n",
        "model.add(Dense(1, activation='sigmoid'))\n",
        "\n",
        "model.compile(loss='binary_crossentropy', optimizer=nadam,\n",
        "              metrics=['accuracy'])\n",
        "\n",
        "# Let's inspect our new architecture\n",
        "model.summary()"
      ],
      "execution_count": 0,
      "outputs": [
        {
          "output_type": "stream",
          "text": [
            "Model: \"NadamClipNorm\"\n",
            "_________________________________________________________________\n",
            "Layer (type)                 Output Shape              Param #   \n",
            "=================================================================\n",
            "dense_19 (Dense)             (None, 4)                 36        \n",
            "_________________________________________________________________\n",
            "dense_20 (Dense)             (None, 3)                 15        \n",
            "_________________________________________________________________\n",
            "dense_21 (Dense)             (None, 3)                 12        \n",
            "_________________________________________________________________\n",
            "dense_22 (Dense)             (None, 3)                 12        \n",
            "_________________________________________________________________\n",
            "dense_23 (Dense)             (None, 1)                 4         \n",
            "=================================================================\n",
            "Total params: 79\n",
            "Trainable params: 79\n",
            "Non-trainable params: 0\n",
            "_________________________________________________________________\n"
          ],
          "name": "stdout"
        }
      ]
    },
    {
      "cell_type": "code",
      "metadata": {
        "id": "2I8UiO-Wyj-2",
        "colab_type": "code",
        "outputId": "8be5d296-e607-43be-9b30-080bbc9e8d36",
        "colab": {}
      },
      "source": [
        "model.fit(X, y, epochs=250)"
      ],
      "execution_count": 0,
      "outputs": [
        {
          "output_type": "stream",
          "text": [
            "Train on 768 samples\n",
            "Epoch 1/250\n",
            "768/768 [==============================] - 1s 919us/sample - loss: 0.9886 - accuracy: 0.3490\n",
            "Epoch 2/250\n",
            "768/768 [==============================] - 0s 31us/sample - loss: 0.9508 - accuracy: 0.3490\n",
            "Epoch 3/250\n",
            "768/768 [==============================] - 0s 30us/sample - loss: 0.8990 - accuracy: 0.3490\n",
            "Epoch 4/250\n",
            "768/768 [==============================] - 0s 27us/sample - loss: 0.8709 - accuracy: 0.3490\n",
            "Epoch 5/250\n",
            "768/768 [==============================] - 0s 33us/sample - loss: 0.8486 - accuracy: 0.3490\n",
            "Epoch 6/250\n",
            "768/768 [==============================] - 0s 26us/sample - loss: 0.8283 - accuracy: 0.3490\n",
            "Epoch 7/250\n",
            "768/768 [==============================] - 0s 33us/sample - loss: 0.8103 - accuracy: 0.3490\n",
            "Epoch 8/250\n",
            "768/768 [==============================] - 0s 30us/sample - loss: 0.7941 - accuracy: 0.3490\n",
            "Epoch 9/250\n",
            "768/768 [==============================] - 0s 26us/sample - loss: 0.7796 - accuracy: 0.3490\n",
            "Epoch 10/250\n",
            "768/768 [==============================] - 0s 31us/sample - loss: 0.7663 - accuracy: 0.3490\n",
            "Epoch 11/250\n",
            "768/768 [==============================] - 0s 27us/sample - loss: 0.7545 - accuracy: 0.3490\n",
            "Epoch 12/250\n",
            "768/768 [==============================] - 0s 26us/sample - loss: 0.7439 - accuracy: 0.3490\n",
            "Epoch 13/250\n",
            "768/768 [==============================] - 0s 27us/sample - loss: 0.7342 - accuracy: 0.3490\n",
            "Epoch 14/250\n",
            "768/768 [==============================] - 0s 27us/sample - loss: 0.7254 - accuracy: 0.3490\n",
            "Epoch 15/250\n",
            "768/768 [==============================] - 0s 29us/sample - loss: 0.7174 - accuracy: 0.3490\n",
            "Epoch 16/250\n",
            "768/768 [==============================] - ETA: 0s - loss: 0.7221 - accuracy: 0.28 - 0s 30us/sample - loss: 0.7101 - accuracy: 0.3490\n",
            "Epoch 17/250\n",
            "768/768 [==============================] - 0s 29us/sample - loss: 0.7036 - accuracy: 0.3490\n",
            "Epoch 18/250\n",
            "768/768 [==============================] - 0s 26us/sample - loss: 0.6975 - accuracy: 0.3490\n",
            "Epoch 19/250\n",
            "768/768 [==============================] - 0s 33us/sample - loss: 0.6921 - accuracy: 0.5534\n",
            "Epoch 20/250\n",
            "768/768 [==============================] - 0s 27us/sample - loss: 0.6870 - accuracy: 0.6497\n",
            "Epoch 21/250\n",
            "768/768 [==============================] - 0s 27us/sample - loss: 0.6827 - accuracy: 0.6510\n",
            "Epoch 22/250\n",
            "768/768 [==============================] - 0s 26us/sample - loss: 0.6785 - accuracy: 0.6510\n",
            "Epoch 23/250\n",
            "768/768 [==============================] - 0s 30us/sample - loss: 0.6747 - accuracy: 0.6510\n",
            "Epoch 24/250\n",
            "768/768 [==============================] - 0s 33us/sample - loss: 0.6714 - accuracy: 0.6510\n",
            "Epoch 25/250\n",
            "768/768 [==============================] - 0s 27us/sample - loss: 0.6683 - accuracy: 0.6510\n",
            "Epoch 26/250\n",
            "768/768 [==============================] - 0s 29us/sample - loss: 0.6656 - accuracy: 0.6510\n",
            "Epoch 27/250\n",
            "768/768 [==============================] - 0s 33us/sample - loss: 0.6632 - accuracy: 0.6510\n",
            "Epoch 28/250\n",
            "768/768 [==============================] - 0s 30us/sample - loss: 0.6610 - accuracy: 0.6510\n",
            "Epoch 29/250\n",
            "768/768 [==============================] - 0s 29us/sample - loss: 0.6590 - accuracy: 0.6510\n",
            "Epoch 30/250\n",
            "768/768 [==============================] - 0s 27us/sample - loss: 0.6573 - accuracy: 0.6510\n",
            "Epoch 31/250\n",
            "768/768 [==============================] - 0s 35us/sample - loss: 0.6558 - accuracy: 0.6510\n",
            "Epoch 32/250\n",
            "768/768 [==============================] - 0s 35us/sample - loss: 0.6545 - accuracy: 0.6510\n",
            "Epoch 33/250\n",
            "768/768 [==============================] - 0s 33us/sample - loss: 0.6533 - accuracy: 0.6510\n",
            "Epoch 34/250\n",
            "768/768 [==============================] - 0s 33us/sample - loss: 0.6523 - accuracy: 0.6510\n",
            "Epoch 35/250\n",
            "768/768 [==============================] - 0s 29us/sample - loss: 0.6515 - accuracy: 0.6510\n",
            "Epoch 36/250\n",
            "768/768 [==============================] - 0s 40us/sample - loss: 0.6507 - accuracy: 0.6510\n",
            "Epoch 37/250\n",
            "768/768 [==============================] - 0s 34us/sample - loss: 0.6501 - accuracy: 0.6510\n",
            "Epoch 38/250\n",
            "768/768 [==============================] - 0s 33us/sample - loss: 0.6496 - accuracy: 0.6510\n",
            "Epoch 39/250\n",
            "768/768 [==============================] - 0s 35us/sample - loss: 0.6491 - accuracy: 0.6510\n",
            "Epoch 40/250\n",
            "768/768 [==============================] - 0s 34us/sample - loss: 0.6487 - accuracy: 0.6510\n",
            "Epoch 41/250\n",
            "768/768 [==============================] - 0s 35us/sample - loss: 0.6484 - accuracy: 0.6510\n",
            "Epoch 42/250\n",
            "768/768 [==============================] - 0s 36us/sample - loss: 0.6482 - accuracy: 0.6510\n",
            "Epoch 43/250\n",
            "768/768 [==============================] - 0s 36us/sample - loss: 0.6479 - accuracy: 0.6510\n",
            "Epoch 44/250\n",
            "768/768 [==============================] - 0s 34us/sample - loss: 0.6477 - accuracy: 0.6510\n",
            "Epoch 45/250\n",
            "768/768 [==============================] - 0s 38us/sample - loss: 0.6476 - accuracy: 0.6510\n",
            "Epoch 46/250\n",
            "768/768 [==============================] - 0s 33us/sample - loss: 0.6475 - accuracy: 0.6510\n",
            "Epoch 47/250\n",
            "768/768 [==============================] - 0s 35us/sample - loss: 0.6473 - accuracy: 0.6510\n",
            "Epoch 48/250\n",
            "768/768 [==============================] - 0s 31us/sample - loss: 0.6472 - accuracy: 0.6510\n",
            "Epoch 49/250\n",
            "768/768 [==============================] - 0s 34us/sample - loss: 0.6472 - accuracy: 0.6510\n",
            "Epoch 50/250\n",
            "768/768 [==============================] - 0s 35us/sample - loss: 0.6471 - accuracy: 0.6510\n",
            "Epoch 51/250\n",
            "768/768 [==============================] - 0s 34us/sample - loss: 0.6471 - accuracy: 0.6510\n",
            "Epoch 52/250\n",
            "768/768 [==============================] - 0s 36us/sample - loss: 0.6470 - accuracy: 0.6510\n",
            "Epoch 53/250\n",
            "768/768 [==============================] - 0s 36us/sample - loss: 0.6470 - accuracy: 0.6510\n",
            "Epoch 54/250\n",
            "768/768 [==============================] - 0s 31us/sample - loss: 0.6469 - accuracy: 0.6510\n",
            "Epoch 55/250\n",
            "768/768 [==============================] - 0s 33us/sample - loss: 0.6469 - accuracy: 0.6510\n",
            "Epoch 56/250\n",
            "768/768 [==============================] - 0s 33us/sample - loss: 0.6469 - accuracy: 0.6510\n",
            "Epoch 57/250\n",
            "768/768 [==============================] - 0s 31us/sample - loss: 0.6469 - accuracy: 0.6510\n",
            "Epoch 58/250\n",
            "768/768 [==============================] - 0s 33us/sample - loss: 0.6469 - accuracy: 0.6510\n",
            "Epoch 59/250\n",
            "768/768 [==============================] - 0s 33us/sample - loss: 0.6469 - accuracy: 0.6510\n",
            "Epoch 60/250\n",
            "768/768 [==============================] - 0s 31us/sample - loss: 0.6468 - accuracy: 0.6510\n",
            "Epoch 61/250\n",
            "768/768 [==============================] - 0s 29us/sample - loss: 0.6469 - accuracy: 0.6510\n",
            "Epoch 62/250\n",
            "768/768 [==============================] - 0s 34us/sample - loss: 0.6469 - accuracy: 0.6510\n",
            "Epoch 63/250\n",
            "768/768 [==============================] - 0s 30us/sample - loss: 0.6469 - accuracy: 0.6510\n",
            "Epoch 64/250\n",
            "768/768 [==============================] - 0s 33us/sample - loss: 0.6468 - accuracy: 0.6510\n",
            "Epoch 65/250\n",
            "768/768 [==============================] - 0s 29us/sample - loss: 0.6469 - accuracy: 0.6510\n",
            "Epoch 66/250\n",
            "768/768 [==============================] - 0s 31us/sample - loss: 0.6468 - accuracy: 0.6510\n",
            "Epoch 67/250\n",
            "768/768 [==============================] - 0s 29us/sample - loss: 0.6468 - accuracy: 0.6510\n",
            "Epoch 68/250\n",
            "768/768 [==============================] - 0s 29us/sample - loss: 0.6468 - accuracy: 0.6510\n",
            "Epoch 69/250\n",
            "768/768 [==============================] - 0s 27us/sample - loss: 0.6468 - accuracy: 0.6510\n",
            "Epoch 70/250\n",
            "768/768 [==============================] - 0s 27us/sample - loss: 0.6468 - accuracy: 0.6510\n",
            "Epoch 71/250\n",
            "768/768 [==============================] - 0s 27us/sample - loss: 0.6468 - accuracy: 0.6510\n",
            "Epoch 72/250\n",
            "768/768 [==============================] - 0s 27us/sample - loss: 0.6468 - accuracy: 0.6510\n",
            "Epoch 73/250\n",
            "768/768 [==============================] - 0s 29us/sample - loss: 0.6468 - accuracy: 0.6510\n",
            "Epoch 74/250\n",
            "768/768 [==============================] - 0s 27us/sample - loss: 0.6469 - accuracy: 0.6510\n",
            "Epoch 75/250\n",
            "768/768 [==============================] - 0s 27us/sample - loss: 0.6469 - accuracy: 0.6510\n",
            "Epoch 76/250\n",
            "768/768 [==============================] - 0s 27us/sample - loss: 0.6468 - accuracy: 0.6510\n",
            "Epoch 77/250\n",
            "768/768 [==============================] - 0s 27us/sample - loss: 0.6468 - accuracy: 0.6510\n",
            "Epoch 78/250\n",
            "768/768 [==============================] - 0s 27us/sample - loss: 0.6469 - accuracy: 0.6510\n",
            "Epoch 79/250\n",
            "768/768 [==============================] - 0s 27us/sample - loss: 0.6469 - accuracy: 0.6510\n",
            "Epoch 80/250\n",
            "768/768 [==============================] - 0s 27us/sample - loss: 0.6468 - accuracy: 0.6510\n",
            "Epoch 81/250\n",
            "768/768 [==============================] - 0s 29us/sample - loss: 0.6469 - accuracy: 0.6510\n",
            "Epoch 82/250\n",
            "768/768 [==============================] - 0s 26us/sample - loss: 0.6469 - accuracy: 0.6510\n",
            "Epoch 83/250\n",
            "768/768 [==============================] - 0s 33us/sample - loss: 0.6469 - accuracy: 0.6510\n",
            "Epoch 84/250\n",
            "768/768 [==============================] - 0s 31us/sample - loss: 0.6468 - accuracy: 0.6510\n",
            "Epoch 85/250\n",
            "768/768 [==============================] - 0s 31us/sample - loss: 0.6468 - accuracy: 0.6510\n",
            "Epoch 86/250\n",
            "768/768 [==============================] - 0s 31us/sample - loss: 0.6469 - accuracy: 0.6510\n",
            "Epoch 87/250\n",
            "768/768 [==============================] - 0s 31us/sample - loss: 0.6469 - accuracy: 0.6510\n",
            "Epoch 88/250\n",
            "768/768 [==============================] - 0s 27us/sample - loss: 0.6469 - accuracy: 0.6510\n",
            "Epoch 89/250\n",
            "768/768 [==============================] - 0s 27us/sample - loss: 0.6469 - accuracy: 0.6510\n",
            "Epoch 90/250\n",
            "768/768 [==============================] - 0s 27us/sample - loss: 0.6468 - accuracy: 0.6510\n",
            "Epoch 91/250\n",
            "768/768 [==============================] - 0s 26us/sample - loss: 0.6468 - accuracy: 0.6510\n",
            "Epoch 92/250\n",
            "768/768 [==============================] - 0s 27us/sample - loss: 0.6468 - accuracy: 0.6510\n",
            "Epoch 93/250\n",
            "768/768 [==============================] - 0s 26us/sample - loss: 0.6469 - accuracy: 0.6510\n",
            "Epoch 94/250\n",
            "768/768 [==============================] - 0s 27us/sample - loss: 0.6468 - accuracy: 0.6510\n",
            "Epoch 95/250\n",
            "768/768 [==============================] - 0s 25us/sample - loss: 0.6469 - accuracy: 0.6510\n",
            "Epoch 96/250\n",
            "768/768 [==============================] - 0s 27us/sample - loss: 0.6468 - accuracy: 0.6510\n",
            "Epoch 97/250\n",
            "768/768 [==============================] - 0s 25us/sample - loss: 0.6468 - accuracy: 0.6510\n",
            "Epoch 98/250\n",
            "768/768 [==============================] - 0s 26us/sample - loss: 0.6469 - accuracy: 0.6510\n",
            "Epoch 99/250\n",
            "768/768 [==============================] - 0s 26us/sample - loss: 0.6469 - accuracy: 0.6510\n",
            "Epoch 100/250\n",
            "768/768 [==============================] - 0s 26us/sample - loss: 0.6468 - accuracy: 0.6510\n",
            "Epoch 101/250\n",
            "768/768 [==============================] - 0s 26us/sample - loss: 0.6468 - accuracy: 0.6510\n",
            "Epoch 102/250\n",
            "768/768 [==============================] - 0s 26us/sample - loss: 0.6468 - accuracy: 0.6510\n",
            "Epoch 103/250\n",
            "768/768 [==============================] - 0s 27us/sample - loss: 0.6469 - accuracy: 0.6510\n",
            "Epoch 104/250\n",
            "768/768 [==============================] - 0s 26us/sample - loss: 0.6468 - accuracy: 0.6510\n",
            "Epoch 105/250\n",
            "768/768 [==============================] - 0s 27us/sample - loss: 0.6468 - accuracy: 0.6510\n",
            "Epoch 106/250\n",
            "768/768 [==============================] - 0s 25us/sample - loss: 0.6469 - accuracy: 0.6510\n",
            "Epoch 107/250\n",
            "768/768 [==============================] - 0s 27us/sample - loss: 0.6469 - accuracy: 0.6510\n",
            "Epoch 108/250\n",
            "768/768 [==============================] - 0s 29us/sample - loss: 0.6468 - accuracy: 0.6510\n",
            "Epoch 109/250\n",
            "768/768 [==============================] - 0s 26us/sample - loss: 0.6468 - accuracy: 0.6510\n",
            "Epoch 110/250\n",
            "768/768 [==============================] - 0s 27us/sample - loss: 0.6469 - accuracy: 0.6510\n",
            "Epoch 111/250\n",
            "768/768 [==============================] - 0s 27us/sample - loss: 0.6469 - accuracy: 0.6510\n",
            "Epoch 112/250\n",
            "768/768 [==============================] - 0s 26us/sample - loss: 0.6468 - accuracy: 0.6510\n",
            "Epoch 113/250\n",
            "768/768 [==============================] - 0s 27us/sample - loss: 0.6469 - accuracy: 0.6510\n",
            "Epoch 114/250\n",
            "768/768 [==============================] - 0s 26us/sample - loss: 0.6469 - accuracy: 0.6510\n",
            "Epoch 115/250\n",
            "768/768 [==============================] - 0s 25us/sample - loss: 0.6468 - accuracy: 0.6510\n",
            "Epoch 116/250\n",
            "768/768 [==============================] - 0s 26us/sample - loss: 0.6469 - accuracy: 0.6510\n",
            "Epoch 117/250\n",
            "768/768 [==============================] - 0s 26us/sample - loss: 0.6469 - accuracy: 0.6510\n",
            "Epoch 118/250\n",
            "768/768 [==============================] - 0s 26us/sample - loss: 0.6468 - accuracy: 0.6510\n",
            "Epoch 119/250\n",
            "768/768 [==============================] - 0s 25us/sample - loss: 0.6468 - accuracy: 0.6510\n",
            "Epoch 120/250\n",
            "768/768 [==============================] - 0s 27us/sample - loss: 0.6468 - accuracy: 0.6510\n",
            "Epoch 121/250\n",
            "768/768 [==============================] - 0s 26us/sample - loss: 0.6468 - accuracy: 0.6510\n",
            "Epoch 122/250\n",
            "768/768 [==============================] - 0s 27us/sample - loss: 0.6469 - accuracy: 0.6510\n",
            "Epoch 123/250\n",
            "768/768 [==============================] - 0s 25us/sample - loss: 0.6469 - accuracy: 0.6510\n",
            "Epoch 124/250\n",
            "768/768 [==============================] - 0s 26us/sample - loss: 0.6468 - accuracy: 0.6510\n",
            "Epoch 125/250\n",
            "768/768 [==============================] - 0s 26us/sample - loss: 0.6469 - accuracy: 0.6510\n",
            "Epoch 126/250\n",
            "768/768 [==============================] - 0s 26us/sample - loss: 0.6469 - accuracy: 0.6510\n",
            "Epoch 127/250\n",
            "768/768 [==============================] - 0s 27us/sample - loss: 0.6468 - accuracy: 0.6510\n",
            "Epoch 128/250\n",
            "768/768 [==============================] - 0s 26us/sample - loss: 0.6469 - accuracy: 0.6510\n",
            "Epoch 129/250\n",
            "768/768 [==============================] - 0s 25us/sample - loss: 0.6469 - accuracy: 0.6510\n",
            "Epoch 130/250\n",
            "768/768 [==============================] - 0s 26us/sample - loss: 0.6469 - accuracy: 0.6510\n",
            "Epoch 131/250\n",
            "768/768 [==============================] - 0s 27us/sample - loss: 0.6469 - accuracy: 0.6510\n",
            "Epoch 132/250\n",
            "768/768 [==============================] - 0s 31us/sample - loss: 0.6468 - accuracy: 0.6510\n",
            "Epoch 133/250\n",
            "768/768 [==============================] - 0s 33us/sample - loss: 0.6468 - accuracy: 0.6510\n",
            "Epoch 134/250\n",
            "768/768 [==============================] - 0s 25us/sample - loss: 0.6469 - accuracy: 0.6510\n",
            "Epoch 135/250\n",
            "768/768 [==============================] - 0s 30us/sample - loss: 0.6469 - accuracy: 0.6510\n",
            "Epoch 136/250\n",
            "768/768 [==============================] - 0s 27us/sample - loss: 0.6469 - accuracy: 0.6510\n",
            "Epoch 137/250\n",
            "768/768 [==============================] - 0s 26us/sample - loss: 0.6468 - accuracy: 0.6510\n",
            "Epoch 138/250\n",
            "768/768 [==============================] - 0s 29us/sample - loss: 0.6469 - accuracy: 0.6510\n",
            "Epoch 139/250\n",
            "768/768 [==============================] - 0s 26us/sample - loss: 0.6469 - accuracy: 0.6510\n",
            "Epoch 140/250\n",
            "768/768 [==============================] - 0s 26us/sample - loss: 0.6468 - accuracy: 0.6510\n",
            "Epoch 141/250\n",
            "768/768 [==============================] - 0s 26us/sample - loss: 0.6468 - accuracy: 0.6510\n",
            "Epoch 142/250\n",
            "768/768 [==============================] - 0s 27us/sample - loss: 0.6469 - accuracy: 0.6510\n",
            "Epoch 143/250\n",
            "768/768 [==============================] - 0s 27us/sample - loss: 0.6468 - accuracy: 0.6510\n",
            "Epoch 144/250\n",
            "768/768 [==============================] - 0s 25us/sample - loss: 0.6469 - accuracy: 0.6510\n",
            "Epoch 145/250\n",
            "768/768 [==============================] - 0s 26us/sample - loss: 0.6468 - accuracy: 0.6510\n",
            "Epoch 146/250\n",
            "768/768 [==============================] - 0s 26us/sample - loss: 0.6468 - accuracy: 0.6510\n",
            "Epoch 147/250\n",
            "768/768 [==============================] - 0s 26us/sample - loss: 0.6468 - accuracy: 0.6510\n",
            "Epoch 148/250\n",
            "768/768 [==============================] - 0s 26us/sample - loss: 0.6469 - accuracy: 0.6510\n",
            "Epoch 149/250\n",
            "768/768 [==============================] - 0s 26us/sample - loss: 0.6469 - accuracy: 0.6510\n",
            "Epoch 150/250\n",
            "768/768 [==============================] - 0s 26us/sample - loss: 0.6468 - accuracy: 0.6510\n",
            "Epoch 151/250\n",
            "768/768 [==============================] - 0s 26us/sample - loss: 0.6469 - accuracy: 0.6510\n",
            "Epoch 152/250\n",
            "768/768 [==============================] - 0s 26us/sample - loss: 0.6470 - accuracy: 0.6510\n",
            "Epoch 153/250\n",
            "768/768 [==============================] - 0s 26us/sample - loss: 0.6468 - accuracy: 0.6510\n",
            "Epoch 154/250\n",
            "768/768 [==============================] - 0s 26us/sample - loss: 0.6469 - accuracy: 0.6510\n",
            "Epoch 155/250\n",
            "768/768 [==============================] - 0s 25us/sample - loss: 0.6469 - accuracy: 0.6510\n",
            "Epoch 156/250\n",
            "768/768 [==============================] - 0s 26us/sample - loss: 0.6469 - accuracy: 0.6510\n",
            "Epoch 157/250\n",
            "768/768 [==============================] - 0s 34us/sample - loss: 0.6468 - accuracy: 0.6510\n",
            "Epoch 158/250\n",
            "768/768 [==============================] - 0s 26us/sample - loss: 0.6469 - accuracy: 0.6510\n",
            "Epoch 159/250\n",
            "768/768 [==============================] - 0s 27us/sample - loss: 0.6469 - accuracy: 0.6510\n",
            "Epoch 160/250\n",
            "768/768 [==============================] - 0s 26us/sample - loss: 0.6470 - accuracy: 0.6510\n",
            "Epoch 161/250\n",
            "768/768 [==============================] - 0s 27us/sample - loss: 0.6469 - accuracy: 0.6510\n",
            "Epoch 162/250\n",
            "768/768 [==============================] - 0s 26us/sample - loss: 0.6468 - accuracy: 0.6510\n",
            "Epoch 163/250\n",
            "768/768 [==============================] - 0s 26us/sample - loss: 0.6469 - accuracy: 0.6510\n",
            "Epoch 164/250\n",
            "768/768 [==============================] - 0s 27us/sample - loss: 0.6469 - accuracy: 0.6510\n",
            "Epoch 165/250\n",
            "768/768 [==============================] - 0s 26us/sample - loss: 0.6468 - accuracy: 0.6510\n",
            "Epoch 166/250\n",
            "768/768 [==============================] - 0s 26us/sample - loss: 0.6468 - accuracy: 0.6510\n",
            "Epoch 167/250\n",
            "768/768 [==============================] - 0s 27us/sample - loss: 0.6469 - accuracy: 0.6510\n",
            "Epoch 168/250\n",
            "768/768 [==============================] - 0s 27us/sample - loss: 0.6468 - accuracy: 0.6510\n",
            "Epoch 169/250\n",
            "768/768 [==============================] - 0s 26us/sample - loss: 0.6469 - accuracy: 0.6510\n",
            "Epoch 170/250\n",
            "768/768 [==============================] - 0s 27us/sample - loss: 0.6468 - accuracy: 0.6510\n",
            "Epoch 171/250\n",
            "768/768 [==============================] - 0s 27us/sample - loss: 0.6469 - accuracy: 0.6510\n",
            "Epoch 172/250\n",
            "768/768 [==============================] - 0s 27us/sample - loss: 0.6468 - accuracy: 0.6510\n",
            "Epoch 173/250\n",
            "768/768 [==============================] - 0s 27us/sample - loss: 0.6468 - accuracy: 0.6510\n",
            "Epoch 174/250\n",
            "768/768 [==============================] - 0s 29us/sample - loss: 0.6468 - accuracy: 0.6510\n",
            "Epoch 175/250\n",
            "768/768 [==============================] - 0s 27us/sample - loss: 0.6469 - accuracy: 0.6510\n",
            "Epoch 176/250\n",
            "768/768 [==============================] - 0s 26us/sample - loss: 0.6468 - accuracy: 0.6510\n",
            "Epoch 177/250\n",
            "768/768 [==============================] - 0s 27us/sample - loss: 0.6470 - accuracy: 0.6510\n",
            "Epoch 178/250\n",
            "768/768 [==============================] - 0s 27us/sample - loss: 0.6469 - accuracy: 0.6510\n",
            "Epoch 179/250\n",
            "768/768 [==============================] - 0s 27us/sample - loss: 0.6469 - accuracy: 0.6510\n",
            "Epoch 180/250\n",
            "768/768 [==============================] - 0s 29us/sample - loss: 0.6469 - accuracy: 0.6510\n",
            "Epoch 181/250\n",
            "768/768 [==============================] - 0s 27us/sample - loss: 0.6469 - accuracy: 0.6510\n",
            "Epoch 182/250\n",
            "768/768 [==============================] - 0s 29us/sample - loss: 0.6469 - accuracy: 0.6510\n",
            "Epoch 183/250\n",
            "768/768 [==============================] - 0s 35us/sample - loss: 0.6469 - accuracy: 0.6510\n",
            "Epoch 184/250\n",
            "768/768 [==============================] - 0s 35us/sample - loss: 0.6469 - accuracy: 0.6510\n",
            "Epoch 185/250\n",
            "768/768 [==============================] - 0s 34us/sample - loss: 0.6469 - accuracy: 0.6510\n",
            "Epoch 186/250\n",
            "768/768 [==============================] - 0s 29us/sample - loss: 0.6469 - accuracy: 0.6510\n",
            "Epoch 187/250\n",
            "768/768 [==============================] - 0s 34us/sample - loss: 0.6469 - accuracy: 0.6510\n",
            "Epoch 188/250\n",
            "768/768 [==============================] - 0s 34us/sample - loss: 0.6469 - accuracy: 0.6510\n",
            "Epoch 189/250\n",
            "768/768 [==============================] - 0s 30us/sample - loss: 0.6469 - accuracy: 0.6510\n",
            "Epoch 190/250\n",
            "768/768 [==============================] - 0s 33us/sample - loss: 0.6468 - accuracy: 0.6510\n",
            "Epoch 191/250\n",
            "768/768 [==============================] - 0s 30us/sample - loss: 0.6468 - accuracy: 0.6510\n",
            "Epoch 192/250\n",
            "768/768 [==============================] - 0s 30us/sample - loss: 0.6469 - accuracy: 0.6510\n",
            "Epoch 193/250\n",
            "768/768 [==============================] - 0s 31us/sample - loss: 0.6469 - accuracy: 0.6510\n",
            "Epoch 194/250\n",
            "768/768 [==============================] - 0s 33us/sample - loss: 0.6469 - accuracy: 0.6510\n",
            "Epoch 195/250\n",
            "768/768 [==============================] - 0s 34us/sample - loss: 0.6468 - accuracy: 0.6510\n",
            "Epoch 196/250\n",
            "768/768 [==============================] - 0s 31us/sample - loss: 0.6469 - accuracy: 0.6510\n",
            "Epoch 197/250\n",
            "768/768 [==============================] - 0s 35us/sample - loss: 0.6468 - accuracy: 0.6510\n",
            "Epoch 198/250\n",
            "768/768 [==============================] - 0s 31us/sample - loss: 0.6468 - accuracy: 0.6510\n",
            "Epoch 199/250\n",
            "768/768 [==============================] - 0s 30us/sample - loss: 0.6469 - accuracy: 0.6510\n",
            "Epoch 200/250\n",
            "768/768 [==============================] - 0s 30us/sample - loss: 0.6468 - accuracy: 0.6510\n",
            "Epoch 201/250\n",
            "768/768 [==============================] - 0s 35us/sample - loss: 0.6469 - accuracy: 0.6510\n",
            "Epoch 202/250\n",
            "768/768 [==============================] - 0s 29us/sample - loss: 0.6468 - accuracy: 0.6510\n",
            "Epoch 203/250\n",
            "768/768 [==============================] - 0s 39us/sample - loss: 0.6468 - accuracy: 0.6510\n",
            "Epoch 204/250\n",
            "768/768 [==============================] - 0s 30us/sample - loss: 0.6468 - accuracy: 0.6510\n",
            "Epoch 205/250\n",
            "768/768 [==============================] - 0s 27us/sample - loss: 0.6469 - accuracy: 0.6510\n",
            "Epoch 206/250\n",
            "768/768 [==============================] - 0s 30us/sample - loss: 0.6469 - accuracy: 0.6510\n",
            "Epoch 207/250\n",
            "768/768 [==============================] - 0s 27us/sample - loss: 0.6469 - accuracy: 0.6510\n",
            "Epoch 208/250\n",
            "768/768 [==============================] - 0s 33us/sample - loss: 0.6469 - accuracy: 0.6510\n",
            "Epoch 209/250\n",
            "768/768 [==============================] - 0s 27us/sample - loss: 0.6469 - accuracy: 0.6510\n",
            "Epoch 210/250\n",
            "768/768 [==============================] - 0s 31us/sample - loss: 0.6469 - accuracy: 0.6510\n",
            "Epoch 211/250\n",
            "768/768 [==============================] - 0s 26us/sample - loss: 0.6468 - accuracy: 0.6510\n",
            "Epoch 212/250\n",
            "768/768 [==============================] - 0s 31us/sample - loss: 0.6468 - accuracy: 0.6510\n",
            "Epoch 213/250\n",
            "768/768 [==============================] - 0s 27us/sample - loss: 0.6468 - accuracy: 0.6510\n",
            "Epoch 214/250\n",
            "768/768 [==============================] - 0s 29us/sample - loss: 0.6469 - accuracy: 0.6510\n",
            "Epoch 215/250\n",
            "768/768 [==============================] - 0s 30us/sample - loss: 0.6470 - accuracy: 0.6510\n",
            "Epoch 216/250\n",
            "768/768 [==============================] - 0s 27us/sample - loss: 0.6468 - accuracy: 0.6510\n",
            "Epoch 217/250\n",
            "768/768 [==============================] - 0s 29us/sample - loss: 0.6468 - accuracy: 0.6510\n",
            "Epoch 218/250\n",
            "768/768 [==============================] - 0s 27us/sample - loss: 0.6469 - accuracy: 0.6510\n",
            "Epoch 219/250\n",
            "768/768 [==============================] - 0s 29us/sample - loss: 0.6469 - accuracy: 0.6510\n",
            "Epoch 220/250\n",
            "768/768 [==============================] - 0s 26us/sample - loss: 0.6469 - accuracy: 0.6510\n",
            "Epoch 221/250\n",
            "768/768 [==============================] - 0s 26us/sample - loss: 0.6468 - accuracy: 0.6510\n",
            "Epoch 222/250\n",
            "768/768 [==============================] - 0s 27us/sample - loss: 0.6469 - accuracy: 0.6510\n",
            "Epoch 223/250\n",
            "768/768 [==============================] - 0s 26us/sample - loss: 0.6469 - accuracy: 0.6510\n",
            "Epoch 224/250\n",
            "768/768 [==============================] - 0s 27us/sample - loss: 0.6468 - accuracy: 0.6510\n",
            "Epoch 225/250\n",
            "768/768 [==============================] - 0s 25us/sample - loss: 0.6469 - accuracy: 0.6510\n",
            "Epoch 226/250\n",
            "768/768 [==============================] - 0s 27us/sample - loss: 0.6469 - accuracy: 0.6510\n",
            "Epoch 227/250\n",
            "768/768 [==============================] - 0s 26us/sample - loss: 0.6469 - accuracy: 0.6510\n",
            "Epoch 228/250\n",
            "768/768 [==============================] - 0s 26us/sample - loss: 0.6468 - accuracy: 0.6510\n",
            "Epoch 229/250\n",
            "768/768 [==============================] - 0s 26us/sample - loss: 0.6469 - accuracy: 0.6510\n",
            "Epoch 230/250\n",
            "768/768 [==============================] - 0s 26us/sample - loss: 0.6469 - accuracy: 0.6510\n",
            "Epoch 231/250\n",
            "768/768 [==============================] - 0s 27us/sample - loss: 0.6468 - accuracy: 0.6510\n",
            "Epoch 232/250\n",
            "768/768 [==============================] - 0s 26us/sample - loss: 0.6468 - accuracy: 0.6510\n",
            "Epoch 233/250\n",
            "768/768 [==============================] - 0s 26us/sample - loss: 0.6469 - accuracy: 0.6510\n",
            "Epoch 234/250\n",
            "768/768 [==============================] - 0s 26us/sample - loss: 0.6468 - accuracy: 0.6510\n",
            "Epoch 235/250\n",
            "768/768 [==============================] - 0s 25us/sample - loss: 0.6469 - accuracy: 0.6510\n",
            "Epoch 236/250\n",
            "768/768 [==============================] - 0s 27us/sample - loss: 0.6468 - accuracy: 0.6510\n",
            "Epoch 237/250\n",
            "768/768 [==============================] - 0s 30us/sample - loss: 0.6469 - accuracy: 0.6510\n",
            "Epoch 238/250\n",
            "768/768 [==============================] - 0s 27us/sample - loss: 0.6469 - accuracy: 0.6510\n",
            "Epoch 239/250\n",
            "768/768 [==============================] - 0s 26us/sample - loss: 0.6469 - accuracy: 0.6510\n",
            "Epoch 240/250\n",
            "768/768 [==============================] - 0s 25us/sample - loss: 0.6469 - accuracy: 0.6510\n",
            "Epoch 241/250\n",
            "768/768 [==============================] - 0s 26us/sample - loss: 0.6469 - accuracy: 0.6510\n",
            "Epoch 242/250\n",
            "768/768 [==============================] - 0s 26us/sample - loss: 0.6469 - accuracy: 0.6510\n",
            "Epoch 243/250\n",
            "768/768 [==============================] - 0s 25us/sample - loss: 0.6469 - accuracy: 0.6510\n",
            "Epoch 244/250\n",
            "768/768 [==============================] - 0s 26us/sample - loss: 0.6468 - accuracy: 0.6510\n",
            "Epoch 245/250\n",
            "768/768 [==============================] - 0s 26us/sample - loss: 0.6469 - accuracy: 0.6510\n",
            "Epoch 246/250\n",
            "768/768 [==============================] - 0s 26us/sample - loss: 0.6468 - accuracy: 0.6510\n",
            "Epoch 247/250\n",
            "768/768 [==============================] - 0s 26us/sample - loss: 0.6468 - accuracy: 0.6510\n",
            "Epoch 248/250\n",
            "768/768 [==============================] - 0s 26us/sample - loss: 0.6469 - accuracy: 0.6510\n",
            "Epoch 249/250\n",
            "768/768 [==============================] - 0s 26us/sample - loss: 0.6469 - accuracy: 0.6510\n",
            "Epoch 250/250\n",
            "768/768 [==============================] - 0s 26us/sample - loss: 0.6469 - accuracy: 0.6510\n"
          ],
          "name": "stdout"
        },
        {
          "output_type": "execute_result",
          "data": {
            "text/plain": [
              "<tensorflow.python.keras.callbacks.History at 0x7ca4ee1be0>"
            ]
          },
          "metadata": {
            "tags": []
          },
          "execution_count": 35
        }
      ]
    },
    {
      "cell_type": "markdown",
      "metadata": {
        "id": "0BHQi2hoyj-7",
        "colab_type": "text"
      },
      "source": [
        "#### Normalize + Tanh Activation Experiment"
      ]
    },
    {
      "cell_type": "code",
      "metadata": {
        "id": "4dPz0UDCyj-9",
        "colab_type": "code",
        "colab": {}
      },
      "source": [
        "from sklearn.preprocessing import Normalizer\n",
        "\n",
        "norm = Normalizer()\n",
        "\n",
        "X_n = norm.fit_transform(X)"
      ],
      "execution_count": 0,
      "outputs": []
    },
    {
      "cell_type": "code",
      "metadata": {
        "id": "OvadIdDwyj_B",
        "colab_type": "code",
        "outputId": "2eece0dc-c0cb-4686-c1bc-46e9339d606a",
        "colab": {}
      },
      "source": [
        "model= Sequential(name=\"NormalizedWithTanhOutput\")\n",
        "\n",
        "model.add(Dense(8, input_dim=8, activation='relu'))\n",
        "model.add(Dense(8, activation='relu'))\n",
        "model.add(Dense(8, activation='relu'))\n",
        "model.add(Dense(8, activation='relu'))\n",
        "model.add(Dense(1, activation='tanh'))\n",
        "\n",
        "model.compile(loss='binary_crossentropy', optimizer='adam',\n",
        "              metrics=['accuracy'])\n",
        "\n",
        "# Let's inspect our new architecture\n",
        "model.summary()"
      ],
      "execution_count": 0,
      "outputs": [
        {
          "output_type": "stream",
          "text": [
            "Model: \"NormalizedWithTanhOutput\"\n",
            "_________________________________________________________________\n",
            "Layer (type)                 Output Shape              Param #   \n",
            "=================================================================\n",
            "dense_24 (Dense)             (None, 8)                 72        \n",
            "_________________________________________________________________\n",
            "dense_25 (Dense)             (None, 8)                 72        \n",
            "_________________________________________________________________\n",
            "dense_26 (Dense)             (None, 8)                 72        \n",
            "_________________________________________________________________\n",
            "dense_27 (Dense)             (None, 8)                 72        \n",
            "_________________________________________________________________\n",
            "dense_28 (Dense)             (None, 1)                 9         \n",
            "=================================================================\n",
            "Total params: 297\n",
            "Trainable params: 297\n",
            "Non-trainable params: 0\n",
            "_________________________________________________________________\n"
          ],
          "name": "stdout"
        }
      ]
    },
    {
      "cell_type": "code",
      "metadata": {
        "id": "fZiXmFfyyj_F",
        "colab_type": "code",
        "outputId": "5c86ab61-cfb0-4fd3-add5-9fdf85049439",
        "colab": {}
      },
      "source": [
        "np.random.seed(723)\n",
        "\n",
        "model.fit(X_n, y, epochs=50, validation_split=.10)"
      ],
      "execution_count": 0,
      "outputs": [
        {
          "output_type": "stream",
          "text": [
            "Train on 691 samples, validate on 77 samples\n",
            "Epoch 1/50\n",
            "691/691 [==============================] - 0s 642us/sample - loss: 0.9113 - accuracy: 0.6570 - val_loss: 0.7597 - val_accuracy: 0.5974\n",
            "Epoch 2/50\n",
            "691/691 [==============================] - 0s 36us/sample - loss: 0.6593 - accuracy: 0.6570 - val_loss: 0.7066 - val_accuracy: 0.5974\n",
            "Epoch 3/50\n",
            "691/691 [==============================] - 0s 39us/sample - loss: 0.6441 - accuracy: 0.6570 - val_loss: 0.6946 - val_accuracy: 0.5974\n",
            "Epoch 4/50\n",
            "691/691 [==============================] - 0s 35us/sample - loss: 0.6400 - accuracy: 0.6570 - val_loss: 0.6912 - val_accuracy: 0.5974\n",
            "Epoch 5/50\n",
            "691/691 [==============================] - 0s 39us/sample - loss: 0.6380 - accuracy: 0.6570 - val_loss: 0.6896 - val_accuracy: 0.5974\n",
            "Epoch 6/50\n",
            "691/691 [==============================] - 0s 39us/sample - loss: 0.6368 - accuracy: 0.6570 - val_loss: 0.6894 - val_accuracy: 0.5974\n",
            "Epoch 7/50\n",
            "691/691 [==============================] - 0s 39us/sample - loss: 0.6357 - accuracy: 0.6570 - val_loss: 0.6879 - val_accuracy: 0.5974\n",
            "Epoch 8/50\n",
            "691/691 [==============================] - 0s 36us/sample - loss: 0.6348 - accuracy: 0.6570 - val_loss: 0.6865 - val_accuracy: 0.5974\n",
            "Epoch 9/50\n",
            "691/691 [==============================] - 0s 38us/sample - loss: 0.6335 - accuracy: 0.6570 - val_loss: 0.6874 - val_accuracy: 0.5974\n",
            "Epoch 10/50\n",
            "691/691 [==============================] - 0s 35us/sample - loss: 0.6324 - accuracy: 0.6570 - val_loss: 0.6865 - val_accuracy: 0.5974\n",
            "Epoch 11/50\n",
            "691/691 [==============================] - 0s 39us/sample - loss: 0.6315 - accuracy: 0.6570 - val_loss: 0.6850 - val_accuracy: 0.5974\n",
            "Epoch 12/50\n",
            "691/691 [==============================] - 0s 36us/sample - loss: 0.6308 - accuracy: 0.6570 - val_loss: 0.6854 - val_accuracy: 0.5974\n",
            "Epoch 13/50\n",
            "691/691 [==============================] - 0s 38us/sample - loss: 0.6298 - accuracy: 0.6570 - val_loss: 0.6831 - val_accuracy: 0.5974\n",
            "Epoch 14/50\n",
            "691/691 [==============================] - 0s 36us/sample - loss: 0.6295 - accuracy: 0.6570 - val_loss: 0.6834 - val_accuracy: 0.5974\n",
            "Epoch 15/50\n",
            "691/691 [==============================] - 0s 36us/sample - loss: 0.6279 - accuracy: 0.6570 - val_loss: 0.6837 - val_accuracy: 0.5974\n",
            "Epoch 16/50\n",
            "691/691 [==============================] - 0s 39us/sample - loss: 0.6282 - accuracy: 0.6570 - val_loss: 0.6830 - val_accuracy: 0.5974\n",
            "Epoch 17/50\n",
            "691/691 [==============================] - 0s 35us/sample - loss: 0.6265 - accuracy: 0.6570 - val_loss: 0.6810 - val_accuracy: 0.5974\n",
            "Epoch 18/50\n",
            "691/691 [==============================] - 0s 36us/sample - loss: 0.6254 - accuracy: 0.6585 - val_loss: 0.6849 - val_accuracy: 0.5974\n",
            "Epoch 19/50\n",
            "691/691 [==============================] - 0s 41us/sample - loss: 0.6245 - accuracy: 0.6570 - val_loss: 0.6843 - val_accuracy: 0.5974\n",
            "Epoch 20/50\n",
            "691/691 [==============================] - 0s 36us/sample - loss: 0.6237 - accuracy: 0.6570 - val_loss: 0.6815 - val_accuracy: 0.5974\n",
            "Epoch 21/50\n",
            "691/691 [==============================] - 0s 41us/sample - loss: 0.6234 - accuracy: 0.6585 - val_loss: 0.6827 - val_accuracy: 0.5974\n",
            "Epoch 22/50\n",
            "691/691 [==============================] - 0s 36us/sample - loss: 0.6226 - accuracy: 0.6599 - val_loss: 0.6799 - val_accuracy: 0.5974\n",
            "Epoch 23/50\n",
            "691/691 [==============================] - 0s 43us/sample - loss: 0.6214 - accuracy: 0.6599 - val_loss: 0.6829 - val_accuracy: 0.5844\n",
            "Epoch 24/50\n",
            "691/691 [==============================] - 0s 42us/sample - loss: 0.6198 - accuracy: 0.6570 - val_loss: 0.6828 - val_accuracy: 0.5974\n",
            "Epoch 25/50\n",
            "691/691 [==============================] - 0s 43us/sample - loss: 0.6192 - accuracy: 0.6599 - val_loss: 0.6811 - val_accuracy: 0.5974\n",
            "Epoch 26/50\n",
            "691/691 [==============================] - 0s 39us/sample - loss: 0.6178 - accuracy: 0.6599 - val_loss: 0.6836 - val_accuracy: 0.5974\n",
            "Epoch 27/50\n",
            "691/691 [==============================] - 0s 39us/sample - loss: 0.6167 - accuracy: 0.6556 - val_loss: 0.6829 - val_accuracy: 0.5974\n",
            "Epoch 28/50\n",
            "691/691 [==============================] - 0s 51us/sample - loss: 0.6157 - accuracy: 0.6599 - val_loss: 0.6809 - val_accuracy: 0.5974\n",
            "Epoch 29/50\n",
            "691/691 [==============================] - 0s 45us/sample - loss: 0.6156 - accuracy: 0.6599 - val_loss: 0.6808 - val_accuracy: 0.5974\n",
            "Epoch 30/50\n",
            "691/691 [==============================] - ETA: 0s - loss: 0.6879 - accuracy: 0.53 - 0s 45us/sample - loss: 0.6136 - accuracy: 0.6570 - val_loss: 0.6804 - val_accuracy: 0.5974\n",
            "Epoch 31/50\n",
            "691/691 [==============================] - 0s 43us/sample - loss: 0.6112 - accuracy: 0.6556 - val_loss: 0.6813 - val_accuracy: 0.5974\n",
            "Epoch 32/50\n",
            "691/691 [==============================] - 0s 39us/sample - loss: 0.6110 - accuracy: 0.6570 - val_loss: 0.6803 - val_accuracy: 0.5974\n",
            "Epoch 33/50\n",
            "691/691 [==============================] - 0s 48us/sample - loss: 0.6089 - accuracy: 0.6570 - val_loss: 0.6798 - val_accuracy: 0.5974\n",
            "Epoch 34/50\n",
            "691/691 [==============================] - 0s 42us/sample - loss: 0.6071 - accuracy: 0.6556 - val_loss: 0.6800 - val_accuracy: 0.5974\n",
            "Epoch 35/50\n",
            "691/691 [==============================] - 0s 39us/sample - loss: 0.6068 - accuracy: 0.6541 - val_loss: 0.6820 - val_accuracy: 0.5974\n",
            "Epoch 36/50\n",
            "691/691 [==============================] - 0s 43us/sample - loss: 0.6052 - accuracy: 0.6541 - val_loss: 0.6764 - val_accuracy: 0.5974\n",
            "Epoch 37/50\n",
            "691/691 [==============================] - 0s 38us/sample - loss: 0.6030 - accuracy: 0.6541 - val_loss: 0.6823 - val_accuracy: 0.5974\n",
            "Epoch 38/50\n",
            "691/691 [==============================] - 0s 42us/sample - loss: 0.6025 - accuracy: 0.6556 - val_loss: 0.6784 - val_accuracy: 0.5974\n",
            "Epoch 39/50\n",
            "691/691 [==============================] - 0s 36us/sample - loss: 0.6014 - accuracy: 0.6570 - val_loss: 0.6796 - val_accuracy: 0.5974\n",
            "Epoch 40/50\n",
            "691/691 [==============================] - 0s 39us/sample - loss: 0.6011 - accuracy: 0.6570 - val_loss: 0.6759 - val_accuracy: 0.5974\n",
            "Epoch 41/50\n",
            "691/691 [==============================] - 0s 42us/sample - loss: 0.5992 - accuracy: 0.6556 - val_loss: 0.6755 - val_accuracy: 0.5974\n",
            "Epoch 42/50\n",
            "691/691 [==============================] - 0s 45us/sample - loss: 0.5986 - accuracy: 0.6585 - val_loss: 0.6789 - val_accuracy: 0.5974\n",
            "Epoch 43/50\n",
            "691/691 [==============================] - 0s 45us/sample - loss: 0.5980 - accuracy: 0.6700 - val_loss: 0.6749 - val_accuracy: 0.5844\n",
            "Epoch 44/50\n",
            "691/691 [==============================] - 0s 41us/sample - loss: 0.5968 - accuracy: 0.6585 - val_loss: 0.6750 - val_accuracy: 0.5844\n",
            "Epoch 45/50\n",
            "691/691 [==============================] - 0s 41us/sample - loss: 0.5965 - accuracy: 0.6643 - val_loss: 0.6731 - val_accuracy: 0.5714\n",
            "Epoch 46/50\n",
            "691/691 [==============================] - 0s 41us/sample - loss: 0.5952 - accuracy: 0.6686 - val_loss: 0.6751 - val_accuracy: 0.5714\n",
            "Epoch 47/50\n",
            "691/691 [==============================] - 0s 43us/sample - loss: 0.5947 - accuracy: 0.6715 - val_loss: 0.6756 - val_accuracy: 0.5714\n",
            "Epoch 48/50\n",
            "691/691 [==============================] - 0s 36us/sample - loss: 0.5920 - accuracy: 0.6802 - val_loss: 0.6770 - val_accuracy: 0.5714\n",
            "Epoch 49/50\n",
            "691/691 [==============================] - 0s 41us/sample - loss: 0.5932 - accuracy: 0.6744 - val_loss: 0.6733 - val_accuracy: 0.5844\n",
            "Epoch 50/50\n",
            "691/691 [==============================] - 0s 39us/sample - loss: 0.5902 - accuracy: 0.6715 - val_loss: 0.6710 - val_accuracy: 0.5844\n"
          ],
          "name": "stdout"
        },
        {
          "output_type": "execute_result",
          "data": {
            "text/plain": [
              "<tensorflow.python.keras.callbacks.History at 0x7ca8a82588>"
            ]
          },
          "metadata": {
            "tags": []
          },
          "execution_count": 38
        }
      ]
    },
    {
      "cell_type": "markdown",
      "metadata": {
        "colab_type": "text",
        "id": "tcjMuxtn6wIQ",
        "toc-hr-collapsed": false
      },
      "source": [
        "# Activation Functions (Learn)"
      ]
    },
    {
      "cell_type": "markdown",
      "metadata": {
        "colab_type": "text",
        "toc-hr-collapsed": false,
        "id": "YDDpa2Q8yj_L"
      },
      "source": [
        "## Overview\n",
        "What is an activation function and how does it work?\n",
        "\n",
        "- Takes in a weighted sum of inputs + a bias from the previous layer and outputs an \"activation\" value.\n",
        "- Based its inputs the neuron decides how 'activated' it should be. This can be thought of as the neuron deciding how strongly to fire. You can also think of it as if the neuron is deciding how much of the signal that it has received to pass onto the next layer. \n",
        "- Our choice of activation function does not only affect signal that is passed forward but also affects the backpropagation algorithm. It affects how we update weights in reverse order since activated weight/input sums become the inputs of the next layer. "
      ]
    },
    {
      "cell_type": "markdown",
      "metadata": {
        "toc-hr-collapsed": true,
        "id": "wFtYY4NHyj_M",
        "colab_type": "text"
      },
      "source": [
        "## Follow Along"
      ]
    },
    {
      "cell_type": "markdown",
      "metadata": {
        "colab_type": "text",
        "id": "n_b0u8Ch60bA"
      },
      "source": [
        "### Step Function\n",
        "\n",
        "![Heaviside Step Function](https://upload.wikimedia.org/wikipedia/commons/thumb/d/d9/Dirac_distribution_CDF.svg/325px-Dirac_distribution_CDF.svg.png)\n",
        "\n",
        "All or nothing, a little extreme, which is fine, but makes updating weights through backpropagation impossible. Why? remember that during backpropagation we use derivatives in order to determine how much to update or not update weights. What is the derivative of the step function?"
      ]
    },
    {
      "cell_type": "markdown",
      "metadata": {
        "colab_type": "text",
        "id": "vKR0YhIVEnXZ"
      },
      "source": [
        "### Linear Function\n",
        "\n",
        "![Linear Function](http://www.roconnell.net/Parent%20function/linear.gif)\n",
        "\n",
        "The linear function takes the opposite tact from the step function and passes the signal onto the next layer by a constant factor. There are problems with this but the biggest problems again lie in backpropagation. The derivative of any linear function is a horizontal line which would indicate that we should update all weights by a constant amount every time -which on balance wouldn't change the behavior of our network. Linear functions are typically only used for very simple tasks where interpretability is important, but if interpretability is your highest priority, you probably shouldn't be using neural networks in the first place."
      ]
    },
    {
      "cell_type": "markdown",
      "metadata": {
        "colab_type": "text",
        "id": "JFurIVL6EkQ8"
      },
      "source": [
        "### Sigmoid Function\n",
        "\n",
        "![Sigmoid Function](https://upload.wikimedia.org/wikipedia/commons/thumb/8/88/Logistic-curve.svg/480px-Logistic-curve.svg.png)\n",
        "\n",
        "The sigmoid function works great as an activation function! it's continuously differentiable, its derivative doesn't have a constant slope, and having the higher slope in the middle pushes y value predictions towards extremes which is particularly useful for binary classification problems. I mean, this is why we use it as the squishifier in logistic regression as well. It constrains output, but over repeated epochs pushes predictions towards a strong binary prediction. \n",
        "\n",
        "What's the biggest problem with the sigmoid function? The fact that its slope gets pretty flat so quickly after its departure from zero. This means that updating weights based on its gradient really diminishes the size of our weight updates as our model gets more confident about its classifications. This is why even after so many iterations with our test score example we couldn't reach the levels of fit that our gradient descent based model could reach in just a few epochs."
      ]
    },
    {
      "cell_type": "markdown",
      "metadata": {
        "colab_type": "text",
        "id": "hm6p1HWbEhYi"
      },
      "source": [
        "### Tanh Function\n",
        "\n",
        "![Tanh Function](http://mathworld.wolfram.com/images/interactive/TanhReal.gif)\n",
        "\n",
        "What if the sigmoid function didn't get so flat quite as soon when moving away from zero and was a little bit steeper in the middle? That's basically the Tanh function. The Tanh function can actually be created by scaling the sigmoid function by 2 in the y dimension and subtracting 1 from all values. It has basically the same properties as the sigmoid, still struggles from diminishingly flat gradients as we move away from 0, but its derivative is higher around 0 causing weights to move to the extremes a little faster. "
      ]
    },
    {
      "cell_type": "markdown",
      "metadata": {
        "colab_type": "text",
        "id": "sFOn_L6gEcz1"
      },
      "source": [
        "### ReLU Function\n",
        "\n",
        "![ReLU Function](https://cdn-images-1.medium.com/max/937/1*oePAhrm74RNnNEolprmTaQ.png)\n",
        "\n",
        "ReLU stands for Rectified Linear Units it is by far the most commonly used activation function in modern neural networks. It doesn't activate neurons that are being passed a negative signal and passes on positive signals. Think about why this might be useful. Remember how a lot of our initial weights got set to negative numbers by chance? This would have dealt with those negative weights a lot faster than the sigmoid function updating. What does the derivative of this function look like? It looks like the step function! This means that not all neurons are activated. With sigmoid basically all of our neurons are passing some amount of signal even if it's small making it hard for the network to differentiate important and less important connections. ReLU turns off a portion of our less important neurons which decreases computational load, but also helps the network learn what the most important connections are faster. \n",
        "\n",
        "What's the problem with relu? Well the left half of its derivative function shows that for neurons that are initialized with weights that cause them to have no activation, our gradient will not update those neuron's weights, this can lead to dead neurons that never fire and whose weights never get updated. We would probably want to update the weights of neurons that didn't fire even if it's just by a little bit in case we got unlucky with our initial weights and want to give those neurons a chance of turning back on in the future."
      ]
    },
    {
      "cell_type": "markdown",
      "metadata": {
        "colab_type": "text",
        "id": "XWdvWOBIETwk"
      },
      "source": [
        "### Leaky ReLU\n",
        "\n",
        "![Leaky ReLU](https://cdn-images-1.medium.com/max/1600/1*ypsvQH7kvtI2BhzR2eT_Sw.png)\n",
        "\n",
        "Leaky ReLU accomplishes exactly that! it avoids having a gradient of 0 on the left side of its derivative function. This means that even \"dead\" neurons have a chance of being revived over enough iterations. In some specifications the slope of the leaky left-hand side can also be experimented with as a hyperparameter of the model!"
      ]
    },
    {
      "cell_type": "markdown",
      "metadata": {
        "colab_type": "text",
        "id": "FcAxkNFREMFb"
      },
      "source": [
        "### Softmax Function\n",
        "\n",
        "![Softmax Function](https://cdn-images-1.medium.com/max/800/1*670CdxchunD-yAuUWdI7Bw.png)\n",
        "\n",
        "Like the sigmoid function but more useful for multi-class classification problems. The softmax function can take any set of inputs and translate them into probabilities that sum up to 1. This means that we can throw any list of outputs at it and it will translate them into probabilities, this is extremely useful for multi-class classification problems. Like MNIST for example..."
      ]
    },
    {
      "cell_type": "markdown",
      "metadata": {
        "colab_type": "text",
        "id": "23-XRRXKHs34"
      },
      "source": [
        "### Major takeaways\n",
        "\n",
        "- ReLU is generally better at obtaining the optimal model fit.\n",
        "- Sigmoid and its derivatives are usually better at classification problems.\n",
        "- Softmax for multi-class classification problems. \n",
        "\n",
        "You'll typically see ReLU used for all initial layers and then the final layer being sigmoid or softmax for classification problems. But you can experiment and tune these selections as hyperparameters as well!"
      ]
    },
    {
      "cell_type": "markdown",
      "metadata": {
        "colab_type": "text",
        "id": "TWuoXZCCKCI7"
      },
      "source": [
        "### MNIST with Keras \n",
        "\n",
        "#### This will be a good chance to bring up dropout regularization. :)"
      ]
    },
    {
      "cell_type": "code",
      "metadata": {
        "colab_type": "code",
        "id": "jmJ_5azs04pU",
        "colab": {}
      },
      "source": [
        "### Let's do it!\n",
        "\n",
        "from tensorflow import keras\n",
        "from tensorflow.keras.datasets import mnist\n",
        "from tensorflow.keras.models import Sequential\n",
        "from tensorflow.keras.layers import Dense, Dropout\n",
        "\n",
        "# Stretch - use dropout \n",
        "import numpy as np"
      ],
      "execution_count": 0,
      "outputs": []
    },
    {
      "cell_type": "code",
      "metadata": {
        "id": "YPIE3BPRyj_q",
        "colab_type": "code",
        "colab": {}
      },
      "source": [
        "# Hyper Parameters\n",
        "batch_size = 64\n",
        "num_classes = 10\n",
        "epochs = 20"
      ],
      "execution_count": 0,
      "outputs": []
    },
    {
      "cell_type": "code",
      "metadata": {
        "id": "4ntGQWGdyj_x",
        "colab_type": "code",
        "outputId": "e6757547-4bcb-42c6-c14b-1385d80d12b3",
        "colab": {}
      },
      "source": [
        "# Load the Data\n",
        "(X_train, y_train), (X_test, y_test) = mnist.load_data()"
      ],
      "execution_count": 0,
      "outputs": [
        {
          "output_type": "stream",
          "text": [
            "Downloading data from https://storage.googleapis.com/tensorflow/tf-keras-datasets/mnist.npz\n",
            "11493376/11490434 [==============================] - 2s 0us/step\n"
          ],
          "name": "stdout"
        }
      ]
    },
    {
      "cell_type": "code",
      "metadata": {
        "id": "gNxJ9wJmyj_0",
        "colab_type": "code",
        "outputId": "e038d0c5-0372-4a03-891c-680870f6a41d",
        "colab": {}
      },
      "source": [
        "X_train[0].shape"
      ],
      "execution_count": 0,
      "outputs": [
        {
          "output_type": "execute_result",
          "data": {
            "text/plain": [
              "(28, 28)"
            ]
          },
          "metadata": {
            "tags": []
          },
          "execution_count": 42
        }
      ]
    },
    {
      "cell_type": "code",
      "metadata": {
        "id": "UbvqPQU0yj_5",
        "colab_type": "code",
        "outputId": "79c13207-df86-466e-9ccd-7dbfaccb530c",
        "colab": {}
      },
      "source": [
        "X_train.shape"
      ],
      "execution_count": 0,
      "outputs": [
        {
          "output_type": "execute_result",
          "data": {
            "text/plain": [
              "(60000, 28, 28)"
            ]
          },
          "metadata": {
            "tags": []
          },
          "execution_count": 43
        }
      ]
    },
    {
      "cell_type": "code",
      "metadata": {
        "id": "MfdNhYJRykAB",
        "colab_type": "code",
        "outputId": "6082b616-87fd-4d0e-9baa-cc2c83d1063c",
        "colab": {}
      },
      "source": [
        "X_train[0]"
      ],
      "execution_count": 0,
      "outputs": [
        {
          "output_type": "execute_result",
          "data": {
            "text/plain": [
              "array([[  0,   0,   0,   0,   0,   0,   0,   0,   0,   0,   0,   0,   0,\n",
              "          0,   0,   0,   0,   0,   0,   0,   0,   0,   0,   0,   0,   0,\n",
              "          0,   0],\n",
              "       [  0,   0,   0,   0,   0,   0,   0,   0,   0,   0,   0,   0,   0,\n",
              "          0,   0,   0,   0,   0,   0,   0,   0,   0,   0,   0,   0,   0,\n",
              "          0,   0],\n",
              "       [  0,   0,   0,   0,   0,   0,   0,   0,   0,   0,   0,   0,   0,\n",
              "          0,   0,   0,   0,   0,   0,   0,   0,   0,   0,   0,   0,   0,\n",
              "          0,   0],\n",
              "       [  0,   0,   0,   0,   0,   0,   0,   0,   0,   0,   0,   0,   0,\n",
              "          0,   0,   0,   0,   0,   0,   0,   0,   0,   0,   0,   0,   0,\n",
              "          0,   0],\n",
              "       [  0,   0,   0,   0,   0,   0,   0,   0,   0,   0,   0,   0,   0,\n",
              "          0,   0,   0,   0,   0,   0,   0,   0,   0,   0,   0,   0,   0,\n",
              "          0,   0],\n",
              "       [  0,   0,   0,   0,   0,   0,   0,   0,   0,   0,   0,   0,   3,\n",
              "         18,  18,  18, 126, 136, 175,  26, 166, 255, 247, 127,   0,   0,\n",
              "          0,   0],\n",
              "       [  0,   0,   0,   0,   0,   0,   0,   0,  30,  36,  94, 154, 170,\n",
              "        253, 253, 253, 253, 253, 225, 172, 253, 242, 195,  64,   0,   0,\n",
              "          0,   0],\n",
              "       [  0,   0,   0,   0,   0,   0,   0,  49, 238, 253, 253, 253, 253,\n",
              "        253, 253, 253, 253, 251,  93,  82,  82,  56,  39,   0,   0,   0,\n",
              "          0,   0],\n",
              "       [  0,   0,   0,   0,   0,   0,   0,  18, 219, 253, 253, 253, 253,\n",
              "        253, 198, 182, 247, 241,   0,   0,   0,   0,   0,   0,   0,   0,\n",
              "          0,   0],\n",
              "       [  0,   0,   0,   0,   0,   0,   0,   0,  80, 156, 107, 253, 253,\n",
              "        205,  11,   0,  43, 154,   0,   0,   0,   0,   0,   0,   0,   0,\n",
              "          0,   0],\n",
              "       [  0,   0,   0,   0,   0,   0,   0,   0,   0,  14,   1, 154, 253,\n",
              "         90,   0,   0,   0,   0,   0,   0,   0,   0,   0,   0,   0,   0,\n",
              "          0,   0],\n",
              "       [  0,   0,   0,   0,   0,   0,   0,   0,   0,   0,   0, 139, 253,\n",
              "        190,   2,   0,   0,   0,   0,   0,   0,   0,   0,   0,   0,   0,\n",
              "          0,   0],\n",
              "       [  0,   0,   0,   0,   0,   0,   0,   0,   0,   0,   0,  11, 190,\n",
              "        253,  70,   0,   0,   0,   0,   0,   0,   0,   0,   0,   0,   0,\n",
              "          0,   0],\n",
              "       [  0,   0,   0,   0,   0,   0,   0,   0,   0,   0,   0,   0,  35,\n",
              "        241, 225, 160, 108,   1,   0,   0,   0,   0,   0,   0,   0,   0,\n",
              "          0,   0],\n",
              "       [  0,   0,   0,   0,   0,   0,   0,   0,   0,   0,   0,   0,   0,\n",
              "         81, 240, 253, 253, 119,  25,   0,   0,   0,   0,   0,   0,   0,\n",
              "          0,   0],\n",
              "       [  0,   0,   0,   0,   0,   0,   0,   0,   0,   0,   0,   0,   0,\n",
              "          0,  45, 186, 253, 253, 150,  27,   0,   0,   0,   0,   0,   0,\n",
              "          0,   0],\n",
              "       [  0,   0,   0,   0,   0,   0,   0,   0,   0,   0,   0,   0,   0,\n",
              "          0,   0,  16,  93, 252, 253, 187,   0,   0,   0,   0,   0,   0,\n",
              "          0,   0],\n",
              "       [  0,   0,   0,   0,   0,   0,   0,   0,   0,   0,   0,   0,   0,\n",
              "          0,   0,   0,   0, 249, 253, 249,  64,   0,   0,   0,   0,   0,\n",
              "          0,   0],\n",
              "       [  0,   0,   0,   0,   0,   0,   0,   0,   0,   0,   0,   0,   0,\n",
              "          0,  46, 130, 183, 253, 253, 207,   2,   0,   0,   0,   0,   0,\n",
              "          0,   0],\n",
              "       [  0,   0,   0,   0,   0,   0,   0,   0,   0,   0,   0,   0,  39,\n",
              "        148, 229, 253, 253, 253, 250, 182,   0,   0,   0,   0,   0,   0,\n",
              "          0,   0],\n",
              "       [  0,   0,   0,   0,   0,   0,   0,   0,   0,   0,  24, 114, 221,\n",
              "        253, 253, 253, 253, 201,  78,   0,   0,   0,   0,   0,   0,   0,\n",
              "          0,   0],\n",
              "       [  0,   0,   0,   0,   0,   0,   0,   0,  23,  66, 213, 253, 253,\n",
              "        253, 253, 198,  81,   2,   0,   0,   0,   0,   0,   0,   0,   0,\n",
              "          0,   0],\n",
              "       [  0,   0,   0,   0,   0,   0,  18, 171, 219, 253, 253, 253, 253,\n",
              "        195,  80,   9,   0,   0,   0,   0,   0,   0,   0,   0,   0,   0,\n",
              "          0,   0],\n",
              "       [  0,   0,   0,   0,  55, 172, 226, 253, 253, 253, 253, 244, 133,\n",
              "         11,   0,   0,   0,   0,   0,   0,   0,   0,   0,   0,   0,   0,\n",
              "          0,   0],\n",
              "       [  0,   0,   0,   0, 136, 253, 253, 253, 212, 135, 132,  16,   0,\n",
              "          0,   0,   0,   0,   0,   0,   0,   0,   0,   0,   0,   0,   0,\n",
              "          0,   0],\n",
              "       [  0,   0,   0,   0,   0,   0,   0,   0,   0,   0,   0,   0,   0,\n",
              "          0,   0,   0,   0,   0,   0,   0,   0,   0,   0,   0,   0,   0,\n",
              "          0,   0],\n",
              "       [  0,   0,   0,   0,   0,   0,   0,   0,   0,   0,   0,   0,   0,\n",
              "          0,   0,   0,   0,   0,   0,   0,   0,   0,   0,   0,   0,   0,\n",
              "          0,   0],\n",
              "       [  0,   0,   0,   0,   0,   0,   0,   0,   0,   0,   0,   0,   0,\n",
              "          0,   0,   0,   0,   0,   0,   0,   0,   0,   0,   0,   0,   0,\n",
              "          0,   0]], dtype=uint8)"
            ]
          },
          "metadata": {
            "tags": []
          },
          "execution_count": 44
        }
      ]
    },
    {
      "cell_type": "code",
      "metadata": {
        "id": "Wk04Sm_DykAN",
        "colab_type": "code",
        "colab": {}
      },
      "source": [
        "# Reshape the data\n",
        "X_train = X_train.reshape(60000, 784)\n",
        "X_test = X_test.reshape(10000, 784)"
      ],
      "execution_count": 0,
      "outputs": []
    },
    {
      "cell_type": "code",
      "metadata": {
        "id": "9-D0LHipykAQ",
        "colab_type": "code",
        "colab": {}
      },
      "source": [
        "# X Variable Types\n",
        "X_train = X_train.astype('float32')\n",
        "X_test = X_test.astype('float32')"
      ],
      "execution_count": 0,
      "outputs": []
    },
    {
      "cell_type": "code",
      "metadata": {
        "id": "3zFxChJPykAZ",
        "colab_type": "code",
        "outputId": "e13a7ccd-f4c5-49b0-fb79-293dac7915af",
        "colab": {}
      },
      "source": [
        "y_train[2] "
      ],
      "execution_count": 0,
      "outputs": [
        {
          "output_type": "execute_result",
          "data": {
            "text/plain": [
              "4"
            ]
          },
          "metadata": {
            "tags": []
          },
          "execution_count": 47
        }
      ]
    },
    {
      "cell_type": "code",
      "metadata": {
        "id": "wjYS_WIEykAg",
        "colab_type": "code",
        "colab": {}
      },
      "source": [
        "# Correct Encoding on Y\n",
        "# What softmax expects = [0,0,0,0,0,1,0,0,0,0]\n",
        "\n",
        "y_train = keras.utils.to_categorical(y_train, num_classes)\n",
        "y_test = keras.utils.to_categorical(y_test, num_classes)"
      ],
      "execution_count": 0,
      "outputs": []
    },
    {
      "cell_type": "code",
      "metadata": {
        "id": "aS-FwNpdykAn",
        "colab_type": "code",
        "outputId": "2e9ed173-a28f-47a8-a3fb-99c86e9869c2",
        "colab": {}
      },
      "source": [
        "y_train[2]"
      ],
      "execution_count": 0,
      "outputs": [
        {
          "output_type": "execute_result",
          "data": {
            "text/plain": [
              "array([0., 0., 0., 0., 1., 0., 0., 0., 0., 0.], dtype=float32)"
            ]
          },
          "metadata": {
            "tags": []
          },
          "execution_count": 50
        }
      ]
    },
    {
      "cell_type": "code",
      "metadata": {
        "id": "SsIG7GyLykAr",
        "colab_type": "code",
        "outputId": "9dc9aca2-0897-47c7-8136-2bebad67a50a",
        "colab": {}
      },
      "source": [
        "mnist_model = Sequential()\n",
        "\n",
        "# Input => Hidden\n",
        "mnist_model.add(Dense(16, input_dim=784, activation='relu'))\n",
        "# Hidden\n",
        "mnist_model.add(Dense(16, activation='relu'))\n",
        "# Hidden\n",
        "mnist_model.add(Dense(16, activation='relu'))\n",
        "# Hidden\n",
        "mnist_model.add(Dense(16, activation='relu'))\n",
        "# Output\n",
        "mnist_model.add(Dense(10,activation='softmax'))\n",
        "\n",
        "#Compile\n",
        "mnist_model.compile(loss='categorical_crossentropy',\n",
        "                    optimizer='adam',\n",
        "                    metrics=['accuracy'])\n",
        "\n",
        "mnist_model.summary()"
      ],
      "execution_count": 0,
      "outputs": [
        {
          "output_type": "stream",
          "text": [
            "Model: \"sequential_4\"\n",
            "_________________________________________________________________\n",
            "Layer (type)                 Output Shape              Param #   \n",
            "=================================================================\n",
            "dense_29 (Dense)             (None, 16)                12560     \n",
            "_________________________________________________________________\n",
            "dense_30 (Dense)             (None, 16)                272       \n",
            "_________________________________________________________________\n",
            "dense_31 (Dense)             (None, 16)                272       \n",
            "_________________________________________________________________\n",
            "dense_32 (Dense)             (None, 16)                272       \n",
            "_________________________________________________________________\n",
            "dense_33 (Dense)             (None, 10)                170       \n",
            "=================================================================\n",
            "Total params: 13,546\n",
            "Trainable params: 13,546\n",
            "Non-trainable params: 0\n",
            "_________________________________________________________________\n"
          ],
          "name": "stdout"
        }
      ]
    },
    {
      "cell_type": "code",
      "metadata": {
        "id": "ES6Ojh_fykAu",
        "colab_type": "code",
        "colab": {}
      },
      "source": [
        "def neural_network(X):\n",
        "    \n",
        "    dense1 = Dense(8, activation='relu', input=X)\n",
        "    dense2 = Dense(8, activation='relu')(X)\n",
        "    \n",
        "    \n",
        "    return dense2 #or return model"
      ],
      "execution_count": 0,
      "outputs": []
    },
    {
      "cell_type": "code",
      "metadata": {
        "id": "Wk4_QVhwykAx",
        "colab_type": "code",
        "outputId": "bd4b30c2-a90d-4abc-ae6d-19d166c98a75",
        "colab": {}
      },
      "source": [
        "16 *  784"
      ],
      "execution_count": 0,
      "outputs": [
        {
          "output_type": "execute_result",
          "data": {
            "text/plain": [
              "12544"
            ]
          },
          "metadata": {
            "tags": []
          },
          "execution_count": 53
        }
      ]
    },
    {
      "cell_type": "code",
      "metadata": {
        "id": "O8fSbE_fykA1",
        "colab_type": "code",
        "outputId": "3c3c35b2-aa74-407a-8b7d-6bf1a9283209",
        "colab": {}
      },
      "source": [
        "y_test.shape"
      ],
      "execution_count": 0,
      "outputs": [
        {
          "output_type": "execute_result",
          "data": {
            "text/plain": [
              "(10000, 10)"
            ]
          },
          "metadata": {
            "tags": []
          },
          "execution_count": 54
        }
      ]
    },
    {
      "cell_type": "code",
      "metadata": {
        "id": "uoVyM-tjykA5",
        "colab_type": "code",
        "colab": {}
      },
      "source": [
        "history = mnist_model.fit(X_train, y_train, batch_size=32, epochs=100, verbose=False)\n",
        "scores = mnist_model.evaluate(X_test, y_test)\n",
        "# accuracy: 0.9497\n",
        "#print(f'{mnist_model.metrics_names[1]}: {scores[1]*100}')"
      ],
      "execution_count": 0,
      "outputs": []
    },
    {
      "cell_type": "markdown",
      "metadata": {
        "colab_type": "text",
        "id": "CKmx8153w9Ci"
      },
      "source": [
        "### Dropout Regularization\n",
        "\n",
        "![Regularization](https://upload.wikimedia.org/wikipedia/commons/thumb/0/02/Regularization.svg/354px-Regularization.svg.png)"
      ]
    },
    {
      "cell_type": "code",
      "metadata": {
        "id": "HuRIluIqykA9",
        "colab_type": "code",
        "outputId": "e4ff53ec-1dc4-45fd-b676-5ef7cdd316a2",
        "colab": {}
      },
      "source": [
        "### Let's do it!\n",
        "from tensorflow import keras \n",
        "from tensorflow.keras.datasets import mnist\n",
        "from tensorflow.keras.models import Sequential\n",
        "from tensorflow.keras.layers import Dense, Dropout\n",
        "\n",
        "import numpy as np\n",
        "\n",
        "mnist_model = Sequential()\n",
        "\n",
        "# Hidden\n",
        "mnist_model.add(Dense(32, input_dim=784, activation='relu'))\n",
        "mnist_model.add(Dropout(0.2))\n",
        "mnist_model.add(Dense(16, activation='relu'))\n",
        "mnist_model.add(Dropout(0.2))\n",
        "# Output Layer\n",
        "mnist_model.add(Dense(10, activation='softmax'))\n",
        "\n",
        "mnist_model.compile(loss='categorical_crossentropy',\n",
        "                    optimizer='adam', \n",
        "                    metrics=['accuracy'])\n",
        "mnist_model.summary()"
      ],
      "execution_count": 0,
      "outputs": [
        {
          "output_type": "stream",
          "text": [
            "Model: \"sequential_5\"\n",
            "_________________________________________________________________\n",
            "Layer (type)                 Output Shape              Param #   \n",
            "=================================================================\n",
            "dense_34 (Dense)             (None, 32)                25120     \n",
            "_________________________________________________________________\n",
            "dropout (Dropout)            (None, 32)                0         \n",
            "_________________________________________________________________\n",
            "dense_35 (Dense)             (None, 16)                528       \n",
            "_________________________________________________________________\n",
            "dropout_1 (Dropout)          (None, 16)                0         \n",
            "_________________________________________________________________\n",
            "dense_36 (Dense)             (None, 10)                170       \n",
            "=================================================================\n",
            "Total params: 25,818\n",
            "Trainable params: 25,818\n",
            "Non-trainable params: 0\n",
            "_________________________________________________________________\n"
          ],
          "name": "stdout"
        }
      ]
    },
    {
      "cell_type": "code",
      "metadata": {
        "id": "PMcj6jSNykBA",
        "colab_type": "code",
        "colab": {}
      },
      "source": [
        "history = mnist_model.fit(X_train, y_train, batch_size=32, epochs=epochs, validation_split=.1, verbose=0)\n",
        "scores = mnist_model.evaluate(X_test, y_test)\n",
        "print(f'{mnist_model.metrics_names[1]}: {scores[1]*100}')\n",
        "# Much faster, accuracy: 0.9133"
      ],
      "execution_count": 0,
      "outputs": []
    },
    {
      "cell_type": "markdown",
      "metadata": {
        "id": "XFZtRSqVykBI",
        "colab_type": "text"
      },
      "source": [
        "## Challenge\n",
        "\n",
        "You will apply your choice of activation function inside two Keras Seqeuntial models today. "
      ]
    }
  ]
}