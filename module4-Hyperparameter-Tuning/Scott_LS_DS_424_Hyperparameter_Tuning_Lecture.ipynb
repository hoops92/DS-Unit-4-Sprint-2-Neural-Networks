{
  "nbformat": 4,
  "nbformat_minor": 0,
  "metadata": {
    "kernelspec": {
      "display_name": "U4-S2-NNF (Python3)",
      "language": "python",
      "name": "u4-s2-nnf"
    },
    "language_info": {
      "codemirror_mode": {
        "name": "ipython",
        "version": 3
      },
      "file_extension": ".py",
      "mimetype": "text/x-python",
      "name": "python",
      "nbconvert_exporter": "python",
      "pygments_lexer": "ipython3",
      "version": "3.7.0"
    },
    "colab": {
      "name": "Scott_LS_DS_424_Hyperparameter_Tuning_Lecture.ipynb",
      "provenance": [],
      "include_colab_link": true
    }
  },
  "cells": [
    {
      "cell_type": "markdown",
      "metadata": {
        "id": "view-in-github",
        "colab_type": "text"
      },
      "source": [
        "<a href=\"https://colab.research.google.com/github/hoops92/DS-Unit-4-Sprint-2-Neural-Networks/blob/master/module4-Hyperparameter-Tuning/Scott_LS_DS_424_Hyperparameter_Tuning_Lecture.ipynb\" target=\"_parent\"><img src=\"https://colab.research.google.com/assets/colab-badge.svg\" alt=\"Open In Colab\"/></a>"
      ]
    },
    {
      "cell_type": "markdown",
      "metadata": {
        "colab_type": "text",
        "id": "41TS0Sa0rDNx"
      },
      "source": [
        "Lambda School Data Science\n",
        "\n",
        "*Unit 4, Sprint 2, Module 4*\n",
        "\n",
        "---"
      ]
    },
    {
      "cell_type": "markdown",
      "metadata": {
        "colab_type": "text",
        "id": "ip9Bv9CNzDXG"
      },
      "source": [
        "# Neural Networks & GPUs (Prepare)\n",
        "*aka Hyperparameter Tuning*\n",
        "\n",
        "*aka Big Servers for Big Problems*"
      ]
    },
    {
      "cell_type": "markdown",
      "metadata": {
        "colab_type": "text",
        "id": "fpdG8bQ3zDXI"
      },
      "source": [
        "## Learning Objectives\n",
        "* <a href=\"#p1\">Part 1</a>: Describe the major hyperparemeters to tune\n",
        "* <a href=\"#p2\">Part 2</a>: Implement an experiment tracking framework\n",
        "* <a href=\"#p3\">Part 3</a>: Search the hyperparameter space using RandomSearch (Optional)"
      ]
    },
    {
      "cell_type": "code",
      "metadata": {
        "id": "easnqdH2zDXL",
        "colab_type": "code",
        "colab": {}
      },
      "source": [
        "wandb_group = \"ds8\"\n",
        "wandb_project = \"ds10_inclass\""
      ],
      "execution_count": 0,
      "outputs": []
    },
    {
      "cell_type": "markdown",
      "metadata": {
        "id": "jnf04hD6zDXR",
        "colab_type": "text"
      },
      "source": [
        "# Hyperparameter Options (Learn)\n",
        "<a id=\"p1\"></a>"
      ]
    },
    {
      "cell_type": "markdown",
      "metadata": {
        "id": "LRLLsjBHzDXT",
        "colab_type": "text"
      },
      "source": [
        "## Overview\n",
        "\n",
        "Hyperparameter tuning is much more important with neural networks than it has been with any other models that we have considered up to this point. Other supervised learning models might have a couple of parameters, but neural networks can have dozens. These can substantially affect the accuracy of our models and although it can be a time consuming process is a necessary step when working with neural networks.\n",
        "​\n",
        "Hyperparameter tuning comes with a challenge. How can we compare models specified with different hyperparameters if our model's final error metric can vary somewhat erratically? How do we avoid just getting unlucky and selecting the wrong hyperparameter? This is a problem that to a certain degree we just have to live with as we test and test again. However, we can minimize it somewhat by pairing our experiments with Cross Validation to reduce the variance of our final accuracy values."
      ]
    },
    {
      "cell_type": "markdown",
      "metadata": {
        "colab_type": "text",
        "id": "0s0o2pqBs88q"
      },
      "source": [
        "### Load Boston Housing Data"
      ]
    },
    {
      "cell_type": "code",
      "metadata": {
        "id": "YApf8qTuzDXW",
        "colab_type": "code",
        "colab": {}
      },
      "source": [
        "from tensorflow.keras.datasets import boston_housing\n",
        "\n",
        "(x_train, y_train), (x_test, y_test) = boston_housing.load_data()"
      ],
      "execution_count": 0,
      "outputs": []
    },
    {
      "cell_type": "markdown",
      "metadata": {
        "colab_type": "text",
        "id": "Pm7zow5IvaTt"
      },
      "source": [
        "### Normalizing Input Data\n",
        "\n",
        "It's not 100% necessary to normalize/scale your input data before feeding it to a neural network, the network can learn the appropriate weights to deal with data of as long as it is numerically represented,  but it is recommended as it can help **make training faster** and **reduces the chances that gradient descent might get stuck in a local optimum**.\n",
        "\n",
        "<https://stackoverflow.com/questions/4674623/why-do-we-have-to-normalize-the-input-for-an-artificial-neural-network>"
      ]
    },
    {
      "cell_type": "code",
      "metadata": {
        "id": "yyvedO_7zDXe",
        "colab_type": "code",
        "outputId": "4b3c84cd-3f92-4c0d-d2ea-f4bac266414d",
        "colab": {}
      },
      "source": [
        "from sklearn.preprocessing import StandardScaler\n",
        "\n",
        "scaler = StandardScaler()\n",
        "\n",
        "x_train = scaler.fit_transform(x_train)\n",
        "x_test = scaler.transform(x_test)\n",
        "print(x_train[:10])"
      ],
      "execution_count": 0,
      "outputs": [
        {
          "output_type": "stream",
          "text": [
            "[[-0.27224633 -0.48361547 -0.43576161 -0.25683275 -0.1652266  -0.1764426\n",
            "   0.81306188  0.1166983  -0.62624905 -0.59517003  1.14850044  0.44807713\n",
            "   0.8252202 ]\n",
            " [-0.40342651  2.99178419 -1.33391162 -0.25683275 -1.21518188  1.89434613\n",
            "  -1.91036058  1.24758524 -0.85646254 -0.34843254 -1.71818909  0.43190599\n",
            "  -1.32920239]\n",
            " [ 0.1249402  -0.48361547  1.0283258  -0.25683275  0.62864202 -1.82968811\n",
            "   1.11048828 -1.18743907  1.67588577  1.5652875   0.78447637  0.22061726\n",
            "  -1.30850006]\n",
            " [-0.40149354 -0.48361547 -0.86940196 -0.25683275 -0.3615597  -0.3245576\n",
            "  -1.23667187  1.10717989 -0.51114231 -1.094663    0.78447637  0.44807713\n",
            "  -0.65292624]\n",
            " [-0.0056343  -0.48361547  1.0283258  -0.25683275  1.32861221  0.15364225\n",
            "   0.69480801 -0.57857203  1.67588577  1.5652875   0.78447637  0.3898823\n",
            "   0.26349695]\n",
            " [-0.37502238 -0.48361547 -0.54747912 -0.25683275 -0.54935658 -0.78865126\n",
            "   0.18954148  0.48371503 -0.51114231 -0.71552978  0.51145832  0.38669063\n",
            "  -0.13812828]\n",
            " [ 0.58963463 -0.48361547  1.0283258  -0.25683275  1.21764133 -1.03127774\n",
            "   1.11048828 -1.06518235  1.67588577  1.5652875   0.78447637  0.44807713\n",
            "   1.49873604]\n",
            " [ 0.0381708  -0.48361547  1.24588095 -0.25683275  2.67733525 -1.12719983\n",
            "   1.11048828 -1.14833073 -0.51114231 -0.01744323 -1.71818909  0.44807713\n",
            "   1.88793986]\n",
            " [-0.17228416 -0.48361547  1.24588095 -0.25683275  2.67733525 -0.90150078\n",
            "   1.11048828 -1.09664657 -0.51114231 -0.01744323 -1.71818909 -1.97365769\n",
            "   0.53952803]\n",
            " [-0.22932104 -0.48361547  1.58544339 -0.25683275  0.56888847 -1.76056777\n",
            "   1.11048828 -1.13471925 -0.62624905  0.18716835  1.23950646  0.44807713\n",
            "   2.99068404]]\n"
          ],
          "name": "stdout"
        }
      ]
    },
    {
      "cell_type": "markdown",
      "metadata": {
        "colab_type": "text",
        "id": "l6hgCWbir90R"
      },
      "source": [
        "### Model Validation using an automatic verification Dataset\n",
        "\n",
        "Instead of doing seperate train test split class, Keras has a really nice feature that you can set the validation.data argument when fitting your model and Keras will take that portion of your test data and use it as a validation dataset. "
      ]
    },
    {
      "cell_type": "code",
      "metadata": {
        "colab_type": "code",
        "id": "GMXVfmzXp1Oo",
        "outputId": "b05e251e-508f-46e6-865b-f869ae2a5dc4",
        "colab": {
          "base_uri": "https://localhost:8080/",
          "height": 1750
        }
      },
      "source": [
        "from tensorflow import keras\n",
        "from tensorflow.keras.models import Sequential\n",
        "from tensorflow.keras.layers import Dense\n",
        "\n",
        "# Important Hyperparameters\n",
        "inputs = x_train.shape[1]\n",
        "epochs = 75\n",
        "batch_size = 10\n",
        "\n",
        "\n",
        "# Create Model\n",
        "model = Sequential()\n",
        "model.add(Dense(64, activation='relu', input_shape=(inputs,)))\n",
        "model.add(Dense(64, activation='relu'))\n",
        "model.add(Dense(1))\n",
        "\n",
        "# Compile Model\n",
        "model.compile(optimizer='adam', loss='mse', metrics=['mse', 'mae'])\n",
        "\n",
        "# Fit Model\n",
        "model.fit(x_train, y_train, \n",
        "          validation_data=(x_test, y_test), \n",
        "          epochs=epochs, \n",
        "          batch_size=batch_size\n",
        "         )"
      ],
      "execution_count": 0,
      "outputs": [
        {
          "output_type": "stream",
          "text": [
            "Train on 404 samples, validate on 102 samples\n",
            "Epoch 1/75\n",
            "404/404 [==============================] - 0s 1ms/sample - loss: 509.6316 - mse: 509.6316 - mae: 20.6201 - val_loss: 420.1210 - val_mse: 420.1210 - val_mae: 18.5545\n",
            "Epoch 2/75\n",
            "404/404 [==============================] - 0s 114us/sample - loss: 246.7718 - mse: 246.7719 - mae: 12.8741 - val_loss: 107.3375 - val_mse: 107.3375 - val_mae: 8.2836\n",
            "Epoch 3/75\n",
            "404/404 [==============================] - 0s 109us/sample - loss: 64.8888 - mse: 64.8888 - mae: 5.7619 - val_loss: 46.3876 - val_mse: 46.3876 - val_mae: 5.2232\n",
            "Epoch 4/75\n",
            "404/404 [==============================] - 0s 119us/sample - loss: 34.7501 - mse: 34.7501 - mae: 4.2280 - val_loss: 30.3464 - val_mse: 30.3464 - val_mae: 4.3200\n",
            "Epoch 5/75\n",
            "404/404 [==============================] - 0s 107us/sample - loss: 24.5829 - mse: 24.5829 - mae: 3.4970 - val_loss: 26.5759 - val_mse: 26.5759 - val_mae: 4.0642\n",
            "Epoch 6/75\n",
            "404/404 [==============================] - 0s 156us/sample - loss: 20.6901 - mse: 20.6901 - mae: 3.1799 - val_loss: 24.7971 - val_mse: 24.7971 - val_mae: 3.8213\n",
            "Epoch 7/75\n",
            "404/404 [==============================] - 0s 104us/sample - loss: 18.5132 - mse: 18.5132 - mae: 2.9829 - val_loss: 24.4932 - val_mse: 24.4932 - val_mae: 3.7097\n",
            "Epoch 8/75\n",
            "404/404 [==============================] - 0s 109us/sample - loss: 16.9346 - mse: 16.9346 - mae: 2.8548 - val_loss: 24.0627 - val_mse: 24.0627 - val_mae: 3.6316\n",
            "Epoch 9/75\n",
            "404/404 [==============================] - 0s 116us/sample - loss: 15.6623 - mse: 15.6623 - mae: 2.7266 - val_loss: 23.3327 - val_mse: 23.3327 - val_mae: 3.5655\n",
            "Epoch 10/75\n",
            "404/404 [==============================] - 0s 111us/sample - loss: 14.7048 - mse: 14.7048 - mae: 2.6544 - val_loss: 24.7930 - val_mse: 24.7930 - val_mae: 3.5782\n",
            "Epoch 11/75\n",
            "404/404 [==============================] - 0s 114us/sample - loss: 13.7370 - mse: 13.7370 - mae: 2.5868 - val_loss: 22.3478 - val_mse: 22.3478 - val_mae: 3.3922\n",
            "Epoch 12/75\n",
            "404/404 [==============================] - 0s 104us/sample - loss: 12.9779 - mse: 12.9779 - mae: 2.4706 - val_loss: 23.9153 - val_mse: 23.9153 - val_mae: 3.4969\n",
            "Epoch 13/75\n",
            "404/404 [==============================] - 0s 114us/sample - loss: 12.5348 - mse: 12.5348 - mae: 2.5132 - val_loss: 23.1460 - val_mse: 23.1460 - val_mae: 3.3850\n",
            "Epoch 14/75\n",
            "404/404 [==============================] - 0s 114us/sample - loss: 11.9120 - mse: 11.9120 - mae: 2.4467 - val_loss: 22.9901 - val_mse: 22.9901 - val_mae: 3.3326\n",
            "Epoch 15/75\n",
            "404/404 [==============================] - 0s 109us/sample - loss: 11.5199 - mse: 11.5199 - mae: 2.3857 - val_loss: 23.7056 - val_mse: 23.7056 - val_mae: 3.3443\n",
            "Epoch 16/75\n",
            "404/404 [==============================] - 0s 126us/sample - loss: 11.2213 - mse: 11.2213 - mae: 2.3844 - val_loss: 23.2921 - val_mse: 23.2921 - val_mae: 3.3244\n",
            "Epoch 17/75\n",
            "404/404 [==============================] - 0s 124us/sample - loss: 11.0195 - mse: 11.0195 - mae: 2.3570 - val_loss: 24.7532 - val_mse: 24.7532 - val_mae: 3.3973\n",
            "Epoch 18/75\n",
            "404/404 [==============================] - 0s 126us/sample - loss: 10.6403 - mse: 10.6403 - mae: 2.3336 - val_loss: 25.0518 - val_mse: 25.0518 - val_mae: 3.4049\n",
            "Epoch 19/75\n",
            "404/404 [==============================] - 0s 119us/sample - loss: 10.7336 - mse: 10.7336 - mae: 2.3246 - val_loss: 26.1866 - val_mse: 26.1866 - val_mae: 3.4041\n",
            "Epoch 20/75\n",
            "404/404 [==============================] - 0s 129us/sample - loss: 10.1263 - mse: 10.1263 - mae: 2.2550 - val_loss: 23.9869 - val_mse: 23.9869 - val_mae: 3.2854\n",
            "Epoch 21/75\n",
            "404/404 [==============================] - 0s 134us/sample - loss: 10.0747 - mse: 10.0747 - mae: 2.2719 - val_loss: 23.7498 - val_mse: 23.7498 - val_mae: 3.2534\n",
            "Epoch 22/75\n",
            "404/404 [==============================] - 0s 134us/sample - loss: 9.8818 - mse: 9.8818 - mae: 2.2404 - val_loss: 22.4084 - val_mse: 22.4084 - val_mae: 3.1386\n",
            "Epoch 23/75\n",
            "404/404 [==============================] - 0s 104us/sample - loss: 9.6827 - mse: 9.6827 - mae: 2.2261 - val_loss: 24.7487 - val_mse: 24.7487 - val_mae: 3.3279\n",
            "Epoch 24/75\n",
            "404/404 [==============================] - 0s 121us/sample - loss: 9.6335 - mse: 9.6335 - mae: 2.2186 - val_loss: 23.5995 - val_mse: 23.5995 - val_mae: 3.1945\n",
            "Epoch 25/75\n",
            "404/404 [==============================] - 0s 119us/sample - loss: 9.4092 - mse: 9.4092 - mae: 2.1890 - val_loss: 24.4571 - val_mse: 24.4571 - val_mae: 3.2614\n",
            "Epoch 26/75\n",
            "404/404 [==============================] - 0s 116us/sample - loss: 9.3739 - mse: 9.3739 - mae: 2.1661 - val_loss: 23.1636 - val_mse: 23.1636 - val_mae: 3.1495\n",
            "Epoch 27/75\n",
            "404/404 [==============================] - 0s 129us/sample - loss: 9.3714 - mse: 9.3714 - mae: 2.1776 - val_loss: 26.1692 - val_mse: 26.1692 - val_mae: 3.3488\n",
            "Epoch 28/75\n",
            "404/404 [==============================] - 0s 136us/sample - loss: 9.1566 - mse: 9.1566 - mae: 2.1746 - val_loss: 23.4395 - val_mse: 23.4395 - val_mae: 3.1707\n",
            "Epoch 29/75\n",
            "404/404 [==============================] - 0s 111us/sample - loss: 9.2690 - mse: 9.2690 - mae: 2.1619 - val_loss: 23.6190 - val_mse: 23.6190 - val_mae: 3.1599\n",
            "Epoch 30/75\n",
            "404/404 [==============================] - 0s 111us/sample - loss: 8.8242 - mse: 8.8242 - mae: 2.1180 - val_loss: 21.8781 - val_mse: 21.8781 - val_mae: 3.0547\n",
            "Epoch 31/75\n",
            "404/404 [==============================] - 0s 129us/sample - loss: 8.6230 - mse: 8.6230 - mae: 2.0894 - val_loss: 22.3335 - val_mse: 22.3335 - val_mae: 3.0837\n",
            "Epoch 32/75\n",
            "404/404 [==============================] - 0s 124us/sample - loss: 8.5347 - mse: 8.5347 - mae: 2.0907 - val_loss: 22.3047 - val_mse: 22.3047 - val_mae: 3.0525\n",
            "Epoch 33/75\n",
            "404/404 [==============================] - 0s 114us/sample - loss: 8.5584 - mse: 8.5584 - mae: 2.1048 - val_loss: 22.4021 - val_mse: 22.4021 - val_mae: 3.0821\n",
            "Epoch 34/75\n",
            "404/404 [==============================] - 0s 116us/sample - loss: 8.5763 - mse: 8.5763 - mae: 2.0702 - val_loss: 21.9160 - val_mse: 21.9160 - val_mae: 3.0514\n",
            "Epoch 35/75\n",
            "404/404 [==============================] - 0s 119us/sample - loss: 8.4734 - mse: 8.4734 - mae: 2.0958 - val_loss: 22.6251 - val_mse: 22.6251 - val_mae: 3.1567\n",
            "Epoch 36/75\n",
            "404/404 [==============================] - 0s 116us/sample - loss: 8.3742 - mse: 8.3742 - mae: 2.0854 - val_loss: 21.8729 - val_mse: 21.8729 - val_mae: 3.1299\n",
            "Epoch 37/75\n",
            "404/404 [==============================] - 0s 126us/sample - loss: 8.1740 - mse: 8.1740 - mae: 2.0539 - val_loss: 23.2165 - val_mse: 23.2165 - val_mae: 3.1173\n",
            "Epoch 38/75\n",
            "404/404 [==============================] - 0s 119us/sample - loss: 8.2816 - mse: 8.2816 - mae: 2.0648 - val_loss: 21.4722 - val_mse: 21.4722 - val_mae: 2.9994\n",
            "Epoch 39/75\n",
            "404/404 [==============================] - 0s 116us/sample - loss: 8.1173 - mse: 8.1173 - mae: 2.0421 - val_loss: 20.8596 - val_mse: 20.8596 - val_mae: 2.9791\n",
            "Epoch 40/75\n",
            "404/404 [==============================] - 0s 116us/sample - loss: 8.0974 - mse: 8.0974 - mae: 2.0378 - val_loss: 21.7356 - val_mse: 21.7356 - val_mae: 3.0256\n",
            "Epoch 41/75\n",
            "404/404 [==============================] - 0s 111us/sample - loss: 7.8893 - mse: 7.8893 - mae: 2.0580 - val_loss: 21.3002 - val_mse: 21.3002 - val_mae: 2.9983\n",
            "Epoch 42/75\n",
            "404/404 [==============================] - 0s 111us/sample - loss: 7.7552 - mse: 7.7552 - mae: 1.9932 - val_loss: 20.7296 - val_mse: 20.7296 - val_mae: 2.9386\n",
            "Epoch 43/75\n",
            "404/404 [==============================] - 0s 114us/sample - loss: 7.5972 - mse: 7.5972 - mae: 1.9524 - val_loss: 21.5949 - val_mse: 21.5949 - val_mae: 2.9487\n",
            "Epoch 44/75\n",
            "404/404 [==============================] - 0s 111us/sample - loss: 7.6084 - mse: 7.6084 - mae: 1.9885 - val_loss: 20.9568 - val_mse: 20.9568 - val_mae: 2.9239\n",
            "Epoch 45/75\n",
            "404/404 [==============================] - 0s 109us/sample - loss: 7.4809 - mse: 7.4809 - mae: 1.9751 - val_loss: 20.4742 - val_mse: 20.4742 - val_mae: 2.9387\n",
            "Epoch 46/75\n",
            "404/404 [==============================] - 0s 107us/sample - loss: 7.4191 - mse: 7.4191 - mae: 1.9556 - val_loss: 22.2997 - val_mse: 22.2997 - val_mae: 3.0647\n",
            "Epoch 47/75\n",
            "404/404 [==============================] - 0s 111us/sample - loss: 7.3025 - mse: 7.3025 - mae: 1.9593 - val_loss: 19.5203 - val_mse: 19.5203 - val_mae: 2.8651\n",
            "Epoch 48/75\n",
            "404/404 [==============================] - 0s 111us/sample - loss: 7.3433 - mse: 7.3433 - mae: 1.9297 - val_loss: 21.5852 - val_mse: 21.5852 - val_mae: 3.0246\n",
            "Epoch 49/75\n",
            "404/404 [==============================] - 0s 104us/sample - loss: 7.4368 - mse: 7.4368 - mae: 1.9328 - val_loss: 19.7351 - val_mse: 19.7351 - val_mae: 2.8706\n",
            "Epoch 50/75\n",
            "404/404 [==============================] - 0s 109us/sample - loss: 7.0458 - mse: 7.0458 - mae: 1.8927 - val_loss: 20.2452 - val_mse: 20.2452 - val_mae: 2.8921\n",
            "Epoch 51/75\n",
            "404/404 [==============================] - 0s 109us/sample - loss: 7.0458 - mse: 7.0458 - mae: 1.8987 - val_loss: 22.0039 - val_mse: 22.0039 - val_mae: 3.0391\n",
            "Epoch 52/75\n",
            "404/404 [==============================] - 0s 104us/sample - loss: 7.0828 - mse: 7.0828 - mae: 1.8992 - val_loss: 21.4961 - val_mse: 21.4961 - val_mae: 2.9758\n",
            "Epoch 53/75\n",
            "404/404 [==============================] - 0s 109us/sample - loss: 6.9748 - mse: 6.9748 - mae: 1.9019 - val_loss: 20.2493 - val_mse: 20.2493 - val_mae: 2.9029\n",
            "Epoch 54/75\n",
            "404/404 [==============================] - 0s 102us/sample - loss: 7.0495 - mse: 7.0495 - mae: 1.9357 - val_loss: 20.5554 - val_mse: 20.5554 - val_mae: 3.0211\n",
            "Epoch 55/75\n",
            "404/404 [==============================] - 0s 104us/sample - loss: 6.7684 - mse: 6.7684 - mae: 1.8723 - val_loss: 19.5982 - val_mse: 19.5982 - val_mae: 2.8563\n",
            "Epoch 56/75\n",
            "404/404 [==============================] - 0s 114us/sample - loss: 6.6636 - mse: 6.6636 - mae: 1.8392 - val_loss: 20.4373 - val_mse: 20.4373 - val_mae: 2.9362\n",
            "Epoch 57/75\n",
            "404/404 [==============================] - 0s 111us/sample - loss: 6.6481 - mse: 6.6481 - mae: 1.8403 - val_loss: 20.7002 - val_mse: 20.7002 - val_mae: 2.9468\n",
            "Epoch 58/75\n",
            "404/404 [==============================] - 0s 116us/sample - loss: 6.6567 - mse: 6.6567 - mae: 1.8316 - val_loss: 19.4343 - val_mse: 19.4343 - val_mae: 2.8656\n",
            "Epoch 59/75\n",
            "404/404 [==============================] - 0s 119us/sample - loss: 6.5253 - mse: 6.5253 - mae: 1.8123 - val_loss: 18.1819 - val_mse: 18.1819 - val_mae: 2.7412\n",
            "Epoch 60/75\n",
            "404/404 [==============================] - 0s 121us/sample - loss: 6.2658 - mse: 6.2658 - mae: 1.7743 - val_loss: 19.0172 - val_mse: 19.0172 - val_mae: 2.7774\n",
            "Epoch 61/75\n",
            "404/404 [==============================] - 0s 116us/sample - loss: 6.3516 - mse: 6.3516 - mae: 1.8346 - val_loss: 18.5174 - val_mse: 18.5174 - val_mae: 2.7685\n",
            "Epoch 62/75\n",
            "404/404 [==============================] - 0s 126us/sample - loss: 6.2141 - mse: 6.2141 - mae: 1.7842 - val_loss: 19.0224 - val_mse: 19.0224 - val_mae: 2.8542\n",
            "Epoch 63/75\n",
            "404/404 [==============================] - 0s 129us/sample - loss: 6.2507 - mse: 6.2507 - mae: 1.7839 - val_loss: 18.6817 - val_mse: 18.6817 - val_mae: 2.7393\n",
            "Epoch 64/75\n",
            "404/404 [==============================] - 0s 121us/sample - loss: 6.2471 - mse: 6.2471 - mae: 1.8131 - val_loss: 18.2402 - val_mse: 18.2402 - val_mae: 2.7258\n",
            "Epoch 65/75\n",
            "404/404 [==============================] - 0s 102us/sample - loss: 6.0480 - mse: 6.0480 - mae: 1.7785 - val_loss: 17.7816 - val_mse: 17.7816 - val_mae: 2.7102\n",
            "Epoch 66/75\n",
            "404/404 [==============================] - 0s 111us/sample - loss: 5.9433 - mse: 5.9433 - mae: 1.7481 - val_loss: 18.8182 - val_mse: 18.8182 - val_mae: 2.9052\n",
            "Epoch 67/75\n",
            "404/404 [==============================] - 0s 104us/sample - loss: 6.1246 - mse: 6.1246 - mae: 1.7723 - val_loss: 18.8091 - val_mse: 18.8091 - val_mae: 2.8151\n",
            "Epoch 68/75\n",
            "404/404 [==============================] - 0s 104us/sample - loss: 5.9135 - mse: 5.9135 - mae: 1.7664 - val_loss: 19.1870 - val_mse: 19.1870 - val_mae: 2.8420\n",
            "Epoch 69/75\n",
            "404/404 [==============================] - 0s 111us/sample - loss: 5.9249 - mse: 5.9249 - mae: 1.7804 - val_loss: 20.2058 - val_mse: 20.2058 - val_mae: 3.0309\n",
            "Epoch 70/75\n",
            "404/404 [==============================] - 0s 104us/sample - loss: 5.8422 - mse: 5.8422 - mae: 1.7217 - val_loss: 18.1075 - val_mse: 18.1075 - val_mae: 2.7986\n",
            "Epoch 71/75\n",
            "404/404 [==============================] - 0s 121us/sample - loss: 5.8809 - mse: 5.8809 - mae: 1.7770 - val_loss: 17.6398 - val_mse: 17.6398 - val_mae: 2.7689\n",
            "Epoch 72/75\n",
            "404/404 [==============================] - 0s 116us/sample - loss: 5.5605 - mse: 5.5605 - mae: 1.6691 - val_loss: 18.4182 - val_mse: 18.4182 - val_mae: 2.7327\n",
            "Epoch 73/75\n",
            "404/404 [==============================] - 0s 107us/sample - loss: 5.6227 - mse: 5.6227 - mae: 1.7275 - val_loss: 17.1642 - val_mse: 17.1642 - val_mae: 2.6880\n",
            "Epoch 74/75\n",
            "404/404 [==============================] - 0s 111us/sample - loss: 5.5883 - mse: 5.5883 - mae: 1.6775 - val_loss: 17.1123 - val_mse: 17.1123 - val_mae: 2.6249\n",
            "Epoch 75/75\n",
            "404/404 [==============================] - 0s 107us/sample - loss: 5.4511 - mse: 5.4511 - mae: 1.6658 - val_loss: 17.1000 - val_mse: 17.1000 - val_mae: 2.6942\n"
          ],
          "name": "stdout"
        },
        {
          "output_type": "execute_result",
          "data": {
            "text/plain": [
              "<tensorflow.python.keras.callbacks.History at 0xa5723160f0>"
            ]
          },
          "metadata": {
            "tags": []
          },
          "execution_count": 4
        }
      ]
    },
    {
      "cell_type": "markdown",
      "metadata": {
        "colab_type": "text",
        "id": "sYJ8t_ezHP4W"
      },
      "source": [
        "### Hyperparameter Tuning Approaches:\n",
        "\n",
        "#### 1) Babysitting AKA \"Grad Student Descent\".\n",
        "\n",
        "If you fiddled with any hyperparameters yesterday, this is basically what you did. This approach is 100% manual and is pretty common among researchers where finding that 1 exact specification that jumps your model to a level of accuracy never seen before is the difference between publishing and not publishing a paper. Of course the professors don't do this themselves, that's grunt work. This is also known as the fiddle with hyperparameters until you run out of time method.\n",
        "\n",
        "#### 2) Grid Search\n",
        "\n",
        "Grid Search is the Grad Student galaxy brain realization of: why don't I just specify all the experiments I want to run and let the computer try every possible combination of them while I go and grab lunch. This has a specific downside in that if I specify 5 hyperparameters with 5 options each then I've just created 5^5 combinations of hyperparameters to check. Which means that I have to train 3125 different versions of my model Then if I use 5-fold Cross Validation on that then my model has to run 15,525 times. This is the brute-force method of hyperparameter tuning, but it can be very profitable if done wisely. \n",
        "\n",
        "When using Grid Search here's what I suggest: don't use it to test combinations of different hyperparameters, only use it to test different specifications of **a single** hyperparameter. It's rare that combinations between different hyperparameters lead to big performance gains. You'll get 90-95% of the way there if you just Grid Search one parameter and take the best result, then retain that best result while you test another, and then retain the best specification from that while you train another. This at least makes the situation much more manageable and leads to pretty good results. \n",
        "\n",
        "#### 3) Random Search\n",
        "\n",
        "Do Grid Search for a couple of hours and you'll say to yourself - \"There's got to be a better way.\" Enter Random Search. For Random search you specify a hyperparameter space and it picks specifications from that randomly, tries them out, gives you the best results and says - That's going to have to be good enough, go home and spend time with your family. \n",
        "\n",
        "Grid Search treats every parameter as if it was equally important, but this just isn't the case, some are known to move the needle a lot more than others (we'll talk about that in a minute). Random Search allows searching to be specified along the most important parameter and experiments less along the dimensions of less important hyperparameters. The downside of Random search is that it won't find the absolute best hyperparameters, but it is much less costly to perform than Grid Search. \n",
        "\n",
        "#### 4) Bayesian Methods\n",
        "\n",
        "One thing that can make more manual methods like babysitting and gridsearch effective is that as the experimenter sees results he can then make updates to his future searches taking into account the results of past specifications. If only we could hyperparameter tune our hyperparameter tuning. Well, we kind of can. Enter Bayesian Optimization. Neural Networks are like an optimization problem within an optimization problem, and Bayesian Optimization is a search strategy that tries to take into account the results of past searches in order to improve future ones. This is the most advanced method but can be a little bit tricky to implement, but there are some early steps with `hyperas` which is Bayesian optimization wrapper for `keras`. "
      ]
    },
    {
      "cell_type": "markdown",
      "metadata": {
        "colab_type": "text",
        "id": "HfQ7D043OMMn"
      },
      "source": [
        "## What Hyperparameters are there to test?\n",
        "\n",
        "- batch_size\n",
        "- training epochs\n",
        "- optimization algorithms\n",
        "- learning rate\n",
        "- momentum\n",
        "- activation functions\n",
        "- dropout regularization\n",
        "- number of neurons in the hidden layer\n",
        "\n",
        "There are more, but these are the most important."
      ]
    },
    {
      "cell_type": "markdown",
      "metadata": {
        "id": "44DPVRjLzDXy",
        "colab_type": "text"
      },
      "source": [
        "## Follow Along"
      ]
    },
    {
      "cell_type": "markdown",
      "metadata": {
        "colab_type": "text",
        "id": "Mri5-kXzVKAa"
      },
      "source": [
        "## Batch Size\n",
        "\n",
        "Batch size determines how many observations the model is shown before it calculates loss/error and updates the model weights via gradient descent. You're looking for a sweet spot here where you're showing it enough observations that you have enough information to updates the weights, but not such a large batch size that you don't get a lot of weight update iterations performed in a given epoch. Feed-forward Neural Networks aren't as sensitive to bach_size as other networks, but it is still an important hyperparameter to tune. Smaller batch sizes will also take longer to train. "
      ]
    },
    {
      "cell_type": "code",
      "metadata": {
        "colab_type": "code",
        "id": "2smXfriNAGn7",
        "outputId": "ae996575-78e2-43fb-9dbe-5d44aaf0b430",
        "colab": {
          "base_uri": "https://localhost:8080/",
          "height": 13561
        }
      },
      "source": [
        "import numpy\n",
        "import pandas as pd\n",
        "from sklearn.model_selection import GridSearchCV\n",
        "from tensorflow.keras.models import Sequential\n",
        "from tensorflow.keras.layers import Dense\n",
        "from tensorflow.keras.wrappers.scikit_learn import KerasClassifier\n",
        "\n",
        "# fix random seed for reproducibility\n",
        "seed = 7\n",
        "numpy.random.seed(seed)\n",
        "\n",
        "# load dataset\n",
        "url =\"https://raw.githubusercontent.com/jbrownlee/Datasets/master/pima-indians-diabetes.data.csv\"\n",
        "\n",
        "dataset = pd.read_csv(url, header=None).values\n",
        "\n",
        "# split into input (X) and output (Y) variables\n",
        "X = dataset[:,0:8]\n",
        "Y = dataset[:,8]\n",
        "\n",
        "# Function to create model, required for KerasClassifier\n",
        "def create_model():\n",
        "    # create model\n",
        "    model = Sequential()\n",
        "    model.add(Dense(12, input_dim=8, activation='relu'))\n",
        "    model.add(Dense(1, activation='sigmoid'))\n",
        "    # Compile model\n",
        "    model.compile(loss='binary_crossentropy', optimizer='adam', metrics=['accuracy'])\n",
        "    return model\n",
        "\n",
        "# create model\n",
        "model = KerasClassifier(build_fn=create_model, verbose=0)\n",
        "\n",
        "# define the grid search parameters\n",
        "# batch_size = [10, 20, 40, 60, 80, 100]\n",
        "# param_grid = dict(batch_size=batch_size, epochs=epochs)\n",
        "\n",
        "# define the grid search parameters\n",
        "param_grid = {'batch_size': [10, 20, 40, 60, 80, 100],\n",
        "              'epochs': [20]}\n",
        "\n",
        "# Create Grid Search\n",
        "grid = GridSearchCV(estimator=model, param_grid=param_grid, cv=5, n_jobs=1)\n",
        "grid_result = grid.fit(X, Y)\n",
        "\n",
        "# Report Results\n",
        "print(f\"Best: {grid_result.best_score_:.4f} using {grid_result.best_params_}\")\n",
        "means = grid_result.cv_results_['mean_test_score']\n",
        "stds = grid_result.cv_results_['std_test_score']\n",
        "params = grid_result.cv_results_['params']\n",
        "for mean, stdev, param in zip(means, stds, params):\n",
        "    print(f\"Means: {mean:.4f}, Stdev: {stdev:.4f} with: {param}\") "
      ],
      "execution_count": 0,
      "outputs": [
        {
          "output_type": "stream",
          "text": [
            "Best: 0.6342 using {'batch_size': 60, 'epochs': 20}\n",
            "Means: 0.6328, Stdev: 0.0704 with: {'batch_size': 10, 'epochs': 20}\n",
            "Means: 0.6158, Stdev: 0.0337 with: {'batch_size': 20, 'epochs': 20}\n",
            "Means: 0.5925, Stdev: 0.0426 with: {'batch_size': 40, 'epochs': 20}\n",
            "Means: 0.6342, Stdev: 0.0663 with: {'batch_size': 60, 'epochs': 20}\n",
            "Means: 0.5675, Stdev: 0.0810 with: {'batch_size': 80, 'epochs': 20}\n",
            "Means: 0.5613, Stdev: 0.0546 with: {'batch_size': 100, 'epochs': 20}\n"
          ],
          "name": "stdout"
        }
      ]
    },
    {
      "cell_type": "markdown",
      "metadata": {
        "colab_type": "text",
        "id": "pmABfjlvXbqi"
      },
      "source": [
        "## Epochs\n",
        "\n",
        "The number of training epochs has a large and direct affect on the accuracy, However, more epochs is almost always goign to better than less epochs. This means that if you tune this parameter at the beginning and try and maintain the same value all throughout your training, you're going to be waiting a long time for each iteration of GridSearch. I suggest picking a fixed moderat # of epochs all throughout your training and then Grid Searching this parameter at the very end. "
      ]
    },
    {
      "cell_type": "code",
      "metadata": {
        "colab_type": "code",
        "id": "bAmxP3N7TmFh",
        "outputId": "3ddb08c4-51ac-4eaa-ff39-143397024544",
        "colab": {
          "base_uri": "https://localhost:8080/",
          "height": 26329
        }
      },
      "source": [
        "# define the grid search parameters\n",
        "param_grid = {'batch_size': [20],\n",
        "              'epochs': [20, 40, 60,200]}\n",
        "\n",
        "# Create Grid Search\n",
        "grid = GridSearchCV(estimator=model, param_grid=param_grid, n_jobs=1)\n",
        "grid_result = grid.fit(X, Y)\n",
        "\n",
        "# Report Results\n",
        "print(f\"Best: {grid_result.best_score_:.5f} using {grid_result.best_params_}\")\n",
        "means = grid_result.cv_results_['mean_test_score']\n",
        "stds = grid_result.cv_results_['std_test_score']\n",
        "params = grid_result.cv_results_['params']\n",
        "for mean, stdev, param in zip(means, stds, params):\n",
        "    print(f\"Means: {mean:.5f}, Stdev: {stdev:.5f} with: {param}\")"
      ],
      "execution_count": 0,
      "outputs": [
        {
          "output_type": "stream",
          "text": [
            "Best: 0.71493 using {'batch_size': 20, 'epochs': 200}\n",
            "Means: 0.62506, Stdev: 0.04132 with: {'batch_size': 20, 'epochs': 20}\n",
            "Means: 0.67577, Stdev: 0.01873 with: {'batch_size': 20, 'epochs': 40}\n",
            "Means: 0.66413, Stdev: 0.05183 with: {'batch_size': 20, 'epochs': 60}\n",
            "Means: 0.71493, Stdev: 0.03943 with: {'batch_size': 20, 'epochs': 200}\n"
          ],
          "name": "stdout"
        }
      ]
    },
    {
      "cell_type": "markdown",
      "metadata": {
        "colab_type": "text",
        "id": "EKcuY6OiaLfz"
      },
      "source": [
        "## Optimizer\n",
        "\n",
        "Remember that there's a different optimizers [optimizers](https://keras.io/optimizers/). At some point, take some time to read up on them a little bit. \"adam\" usually gives the best results. The thing to know about choosing an optimizer is that different optimizers have different hyperparameters like learning rate, momentum, etc. So based on the optimizer you choose you might also have to tune the learning rate and momentum of those optimizers after that. "
      ]
    },
    {
      "cell_type": "markdown",
      "metadata": {
        "colab_type": "text",
        "id": "DG3wq5iOaLig"
      },
      "source": [
        "## Learning Rate\n",
        "\n",
        "Remember that the Learning Rate is a hyperparameter that is specific to your gradient-descent based optimizer selection. A learning rate that is too high will cause divergent behavior, but a Learning Rate that is too low will fail to converge, again, you're looking for the sweet spot. I would start out tuning learning rates by orders of magnitude: [.001, .01, .1, .2, .3, .5] etc. I wouldn't go above .5, but you can try it and see what the behavior is like. \n",
        "\n",
        "Once you have narrowed it down, make the window even smaller and try it again. If after running the above specification your model reports that .1 is the best optimizer, then you should probably try things like [.05, .08, .1, .12, .15] to try and narrow it down. \n",
        "\n",
        "It can also be good to tune the number of epochs in combination with the learning rate since the number of iterations that you allow the learning rate to reach the minimum can determine if you have let it run long enough to converge to the minimum. "
      ]
    },
    {
      "cell_type": "markdown",
      "metadata": {
        "colab_type": "text",
        "id": "gNTBUWd1aLlA"
      },
      "source": [
        "## Momentum\n",
        "\n",
        "Momentum is a hyperparameter that is more commonly associated with Stochastic Gradient Descent. SGD is a common optimizer because it's what people understand and know, but I doubt it will get you the best results, you can try hyperparameter tuning its attributes and see if you can beat the performance from adam. Momentum is a property that decides the willingness of an optimizer to overshoot the minimum. Imagine a ball rolling down one side of a bowl and then up the opposite side a little bit before settling back to the bottom. The purpose of momentum is to try and escale local minima."
      ]
    },
    {
      "cell_type": "markdown",
      "metadata": {
        "colab_type": "text",
        "id": "xnEG-bCJaLnZ"
      },
      "source": [
        "## Activation Functions\n",
        "\n",
        "We've talked about this a little bit, typically you'l want to use ReLU for hidden layers and either Sigmoid, or Softmax for output layers of binary and multi-class classification implementations respectively, but try other activation functions and see if you can get any better results with sigmoid or tanh or something. There are a lot of activation functions that we haven't really talked about. Maybe you'll get good results with them. Maybe you won't. :) <https://keras.io/activations/>"
      ]
    },
    {
      "cell_type": "markdown",
      "metadata": {
        "colab_type": "text",
        "id": "oul9sPq-dU-h"
      },
      "source": [
        "## Network Weight Initialization\n",
        "\n",
        "You saw how big of an effect the way that we initialize our network's weights can have on our results. There are **a lot** of what are called initialization modes. I don't understand all of them, but they can have a big affect on your model's initial accuracy. Your model will get further with less epochs if you initialize it with weights that are well suited to the problem you're trying to solve.\n",
        "\n",
        "`init_mode = ['uniform', 'lecun_uniform', 'normal', 'zero', 'glorot_normal', 'glorot_uniform', 'he_normal', 'he_uniform']`"
      ]
    },
    {
      "cell_type": "markdown",
      "metadata": {
        "colab_type": "text",
        "id": "bqtEuxeQaLqE"
      },
      "source": [
        "## Dropout Regularization and the Weight Constraint\n",
        "\n",
        "the Dropout Regularization value is a percentage of neurons that you want to be randomly deactivated during training. The weight constraint is a second regularization parameter that works in tandem with dropout regularization. You should tune these two values at the same time. \n",
        "\n",
        "Using dropout on visible vs hidden layers might have a different effect. Using dropout on hidden layers might not have any effect while using dropout on hidden layers might have a substantial effect. You don't necessarily need to turn use dropout unless you see that your model has overfitting and generalizability problems."
      ]
    },
    {
      "cell_type": "markdown",
      "metadata": {
        "colab_type": "text",
        "id": "P2c5Cv6oaLtO"
      },
      "source": [
        "## Neurons in Hidden Layer \n",
        "\n",
        "Remember that when we only had a single perceptron our model was only able to fit to linearly separable data, but as we have added layers and nodes to those layers our network has become a powerhouse of fitting nonlinearity in data. The larger the network and the more nodes generally the stronger the network's capacity to fit nonlinear patterns in data. The more nodes and layers the longer it will take to train a network, and higher the probability of overfitting. The larger your network gets the more you'll need dropout regularization or other regularization techniques to keep it in check. \n",
        "\n",
        "Typically depth (more layers) is more important than width (more nodes) for neural networks. This is part of why Deep Learning is so highly touted. Certain deep learning architectures have truly been huge breakthroughs for certain machine learning tasks. \n",
        "\n",
        "You might borrow ideas from other network architectures. For example if I was doing image recognition and I wasn't taking cues from state of the art architectures like resnet, alexnet, googlenet, etc. Then I'm probably going to have to do a lot more experimentation on my own before I find something that works.\n",
        "\n",
        "There are some heuristics, but I am highly skeptical of them. I think you're better off experimenting on your own and forming your own intuition for these kinds of problems. \n",
        "\n",
        "- https://machinelearningmastery.com/how-to-configure-the-number-of-layers-and-nodes-in-a-neural-network/"
      ]
    },
    {
      "cell_type": "markdown",
      "metadata": {
        "id": "UfmNlOBQzDYP",
        "colab_type": "text"
      },
      "source": [
        "## Challenge\n",
        "You will be expected to tune several hyperparameters in today's module project. "
      ]
    },
    {
      "cell_type": "markdown",
      "metadata": {
        "id": "nnF_74dmzDYR",
        "colab_type": "text"
      },
      "source": [
        "# Experiment Tracking Framework (Learn)\n",
        "<a id=\"p2\"></a>"
      ]
    },
    {
      "cell_type": "markdown",
      "metadata": {
        "id": "eXAQvPTazDYS",
        "colab_type": "text"
      },
      "source": [
        "## Overview\n",
        "\n",
        "You will notice quickly that managing the results of all the experiments you are running becomes challenging. Which set of parameters did the best? Are my results today different than my results yesterday? Although we use Ipython Notebooks to work, the format is not well suited to logging experimental results. Enter experiment tracking frameworks like [Comet.ml](https://comet.ml) and [Weights and Biases](https://wandb.ai/).\n",
        "\n",
        "Those tools will help you track your experiments, store the results, and the code associated with those experiments. Experimental results can also be readily visualized to see changes in performance across any metric you care about. Data is sent to the tool as each epoch is completed, so you can also see if your model is converging. Let's check out Weights & Biases today. "
      ]
    },
    {
      "cell_type": "markdown",
      "metadata": {
        "id": "M2KVTahczDYU",
        "colab_type": "text"
      },
      "source": [
        "## Follow Along\n",
        "\n",
        "Make sure you login into `wandb` in the terminal before running the next cell. "
      ]
    },
    {
      "cell_type": "code",
      "metadata": {
        "id": "yhBFU5-NzDYV",
        "colab_type": "code",
        "colab": {}
      },
      "source": [
        "import wandb\n",
        "from wandb.keras import WandbCallback"
      ],
      "execution_count": 0,
      "outputs": []
    },
    {
      "cell_type": "code",
      "metadata": {
        "id": "MBZhqX9RzDYd",
        "colab_type": "code",
        "colab": {}
      },
      "source": [
        "from tensorflow.keras.callbacks import EarlyStopping"
      ],
      "execution_count": 0,
      "outputs": []
    },
    {
      "cell_type": "code",
      "metadata": {
        "colab_type": "code",
        "outputId": "b05e251e-508f-46e6-865b-f869ae2a5dc4",
        "id": "e-id3jPEzDYk",
        "colab": {
          "base_uri": "https://localhost:8080/",
          "height": 1750
        }
      },
      "source": [
        "wandb.init(project=wandb_project, entity=wandb_group) #Initializes and Experiment\n",
        "\n",
        "# Important Hyperparameters\n",
        "X =  x_train\n",
        "y =  y_train\n",
        "\n",
        "inputs = X.shape[1]\n",
        "wandb.config.epochs = 100\n",
        "wandb.config.batch_size = 10\n",
        "\n",
        "# Create Model\n",
        "model = Sequential()\n",
        "model.add(Dense(64, activation='relu', input_shape=(inputs,)))\n",
        "model.add(Dense(64, activation='relu'))\n",
        "model.add(Dense(64, activation='relu'))\n",
        "model.add(Dense(1))\n",
        "# Compile Model\n",
        "model.compile(optimizer='adam', loss='mse', metrics=['mse', 'mae'])\n",
        "\n",
        "# Fit Model\n",
        "callback = EarlyStopping(monitor='val_loss', patience=3)\n",
        "model.fit(X, y, \n",
        "          validation_split=0.33, \n",
        "          epochs=wandb.config.epochs, \n",
        "          batch_size=wandb.config.batch_size, \n",
        "          callbacks=[WandbCallback(), callback]\n",
        "         )"
      ],
      "execution_count": 0,
      "outputs": [
        {
          "output_type": "display_data",
          "data": {
            "text/html": [
              "\n",
              "                Logging results to <a href=\"https://wandb.com\" target=\"_blank\">Weights & Biases</a> <a href=\"https://docs.wandb.com/integrations/jupyter.html\" target=\"_blank\">(Documentation)</a>.<br/>\n",
              "                Project page: <a href=\"https://app.wandb.ai/ds8/ds10_inclass\" target=\"_blank\">https://app.wandb.ai/ds8/ds10_inclass</a><br/>\n",
              "                Run page: <a href=\"https://app.wandb.ai/ds8/ds10_inclass/runs/54acoiu9\" target=\"_blank\">https://app.wandb.ai/ds8/ds10_inclass/runs/54acoiu9</a><br/>\n",
              "            "
            ],
            "text/plain": [
              "<IPython.core.display.HTML object>"
            ]
          },
          "metadata": {
            "tags": []
          }
        },
        {
          "output_type": "stream",
          "text": [
            "Failed to query for notebook name, you can set it manually with the WANDB_NOTEBOOK_NAME environment variable\n"
          ],
          "name": "stderr"
        },
        {
          "output_type": "stream",
          "text": [
            "Train on 270 samples, validate on 134 samples\n",
            "Epoch 1/100\n",
            "270/270 [==============================] - 1s 3ms/sample - loss: 477.5153 - mse: 477.5154 - mae: 19.8557 - val_loss: 432.2599 - val_mse: 432.2599 - val_mae: 18.2823\n",
            "Epoch 2/100\n",
            "270/270 [==============================] - 0s 1ms/sample - loss: 198.6451 - mse: 198.6451 - mae: 11.1620 - val_loss: 85.5987 - val_mse: 85.5987 - val_mae: 7.2949\n",
            "Epoch 3/100\n",
            "270/270 [==============================] - 0s 2ms/sample - loss: 49.2096 - mse: 49.2096 - mae: 5.2017 - val_loss: 50.5647 - val_mse: 50.5647 - val_mae: 5.1263\n",
            "Epoch 4/100\n",
            "270/270 [==============================] - 1s 2ms/sample - loss: 25.0171 - mse: 25.0171 - mae: 3.6666 - val_loss: 31.4130 - val_mse: 31.4130 - val_mae: 3.8337\n",
            "Epoch 5/100\n",
            "270/270 [==============================] - 0s 2ms/sample - loss: 18.1136 - mse: 18.1136 - mae: 3.0554 - val_loss: 25.7254 - val_mse: 25.7254 - val_mae: 3.4624\n",
            "Epoch 6/100\n",
            "270/270 [==============================] - 1s 3ms/sample - loss: 15.1132 - mse: 15.1132 - mae: 2.7986 - val_loss: 23.2907 - val_mse: 23.2907 - val_mae: 3.2648\n",
            "Epoch 7/100\n",
            "270/270 [==============================] - 1s 2ms/sample - loss: 13.4458 - mse: 13.4458 - mae: 2.6622 - val_loss: 21.5946 - val_mse: 21.5946 - val_mae: 3.1284\n",
            "Epoch 8/100\n",
            "270/270 [==============================] - 0s 2ms/sample - loss: 12.3385 - mse: 12.3385 - mae: 2.5587 - val_loss: 20.8525 - val_mse: 20.8525 - val_mae: 3.0729\n",
            "Epoch 9/100\n",
            "270/270 [==============================] - 0s 1ms/sample - loss: 11.2266 - mse: 11.2266 - mae: 2.4698 - val_loss: 19.8669 - val_mse: 19.8669 - val_mae: 2.9731\n",
            "Epoch 10/100\n",
            "270/270 [==============================] - 0s 2ms/sample - loss: 10.4956 - mse: 10.4956 - mae: 2.3944 - val_loss: 19.7751 - val_mse: 19.7751 - val_mae: 2.9852\n",
            "Epoch 11/100\n",
            "270/270 [==============================] - 0s 2ms/sample - loss: 9.7315 - mse: 9.7315 - mae: 2.3278 - val_loss: 18.9614 - val_mse: 18.9614 - val_mae: 2.9187\n",
            "Epoch 12/100\n",
            "270/270 [==============================] - 0s 2ms/sample - loss: 9.7088 - mse: 9.7088 - mae: 2.3272 - val_loss: 18.8350 - val_mse: 18.8350 - val_mae: 2.9247\n",
            "Epoch 13/100\n",
            "270/270 [==============================] - 0s 2ms/sample - loss: 9.1087 - mse: 9.1087 - mae: 2.2384 - val_loss: 18.3574 - val_mse: 18.3574 - val_mae: 2.8857\n",
            "Epoch 14/100\n",
            "270/270 [==============================] - 1s 2ms/sample - loss: 8.6490 - mse: 8.6490 - mae: 2.1998 - val_loss: 17.5747 - val_mse: 17.5747 - val_mae: 2.7808\n",
            "Epoch 15/100\n",
            "270/270 [==============================] - 0s 2ms/sample - loss: 8.2884 - mse: 8.2884 - mae: 2.1228 - val_loss: 17.5368 - val_mse: 17.5368 - val_mae: 2.7951\n",
            "Epoch 16/100\n",
            "270/270 [==============================] - 0s 849us/sample - loss: 8.2233 - mse: 8.2233 - mae: 2.1467 - val_loss: 17.7802 - val_mse: 17.7802 - val_mae: 2.8219\n",
            "Epoch 17/100\n",
            "270/270 [==============================] - 0s 1ms/sample - loss: 7.8965 - mse: 7.8965 - mae: 2.0894 - val_loss: 17.1020 - val_mse: 17.1020 - val_mae: 2.7635\n",
            "Epoch 18/100\n",
            "270/270 [==============================] - 0s 1ms/sample - loss: 7.5306 - mse: 7.5306 - mae: 2.0067 - val_loss: 17.1413 - val_mse: 17.1413 - val_mae: 2.7368\n",
            "Epoch 19/100\n",
            "270/270 [==============================] - 0s 678us/sample - loss: 7.8751 - mse: 7.8751 - mae: 2.1027 - val_loss: 17.9073 - val_mse: 17.9073 - val_mae: 2.8338\n",
            "Epoch 20/100\n",
            "270/270 [==============================] - 0s 2ms/sample - loss: 7.3648 - mse: 7.3648 - mae: 1.9966 - val_loss: 16.9902 - val_mse: 16.9902 - val_mae: 2.7075\n",
            "Epoch 21/100\n",
            "270/270 [==============================] - 0s 1ms/sample - loss: 7.3009 - mse: 7.3009 - mae: 1.9716 - val_loss: 17.0152 - val_mse: 17.0152 - val_mae: 2.7304\n",
            "Epoch 22/100\n",
            "270/270 [==============================] - 0s 890us/sample - loss: 7.0921 - mse: 7.0921 - mae: 1.9904 - val_loss: 17.3731 - val_mse: 17.3731 - val_mae: 2.8293\n",
            "Epoch 23/100\n",
            "270/270 [==============================] - 0s 2ms/sample - loss: 6.7661 - mse: 6.7661 - mae: 1.9318 - val_loss: 16.9863 - val_mse: 16.9863 - val_mae: 2.7341\n",
            "Epoch 24/100\n",
            "270/270 [==============================] - 1s 3ms/sample - loss: 6.8490 - mse: 6.8490 - mae: 1.9273 - val_loss: 16.6183 - val_mse: 16.6183 - val_mae: 2.6723\n",
            "Epoch 25/100\n",
            "270/270 [==============================] - 0s 1ms/sample - loss: 6.4605 - mse: 6.4605 - mae: 1.8784 - val_loss: 16.9307 - val_mse: 16.9307 - val_mae: 2.7251\n",
            "Epoch 26/100\n",
            "270/270 [==============================] - 0s 675us/sample - loss: 6.3156 - mse: 6.3156 - mae: 1.8544 - val_loss: 17.1133 - val_mse: 17.1133 - val_mae: 2.7991\n",
            "Epoch 27/100\n",
            "270/270 [==============================] - 0s 679us/sample - loss: 6.2115 - mse: 6.2115 - mae: 1.8278 - val_loss: 16.6902 - val_mse: 16.6902 - val_mae: 2.6486\n"
          ],
          "name": "stdout"
        },
        {
          "output_type": "execute_result",
          "data": {
            "text/plain": [
              "<tensorflow.python.keras.callbacks.History at 0xa50c5b7438>"
            ]
          },
          "metadata": {
            "tags": []
          },
          "execution_count": 15
        }
      ]
    },
    {
      "cell_type": "markdown",
      "metadata": {
        "id": "xW2kQn0ezDYp",
        "colab_type": "text"
      },
      "source": [
        "## Challenge\n",
        "\n",
        "You will be expected to use Weights & Biases to try to tune your model during your module assignment today. "
      ]
    },
    {
      "cell_type": "markdown",
      "metadata": {
        "id": "MC6r92x3zDYq",
        "colab_type": "text"
      },
      "source": [
        "# Hyperparameters with RandomSearchCV (Learn)"
      ]
    },
    {
      "cell_type": "markdown",
      "metadata": {
        "id": "ui21wzRmzDYr",
        "colab_type": "text"
      },
      "source": [
        "## Overview\n",
        "\n",
        "Basically `GridSearchCV` takes forever. You'll want to adopt a slightly more sophiscated strategy."
      ]
    },
    {
      "cell_type": "markdown",
      "metadata": {
        "id": "kS6JKAS3zDYt",
        "colab_type": "text"
      },
      "source": [
        "## Follow Along"
      ]
    },
    {
      "cell_type": "code",
      "metadata": {
        "id": "KN93kkU-zDYu",
        "colab_type": "code",
        "colab": {}
      },
      "source": [
        "sweep_config = {\n",
        "    'method': 'random',\n",
        "    'parameters': {\n",
        "        'learning_rate': {'distribution': 'normal',\n",
        "                          'min': 0.0005,\n",
        "                          'max': 0.0015},\n",
        "        'epochs': {'distribution': 'uniform',\n",
        "                    'min': 100,\n",
        "                    'max': 1000},\n",
        "        'batch_size': {'distribution': 'uniform',\n",
        "            'min': 10,\n",
        "            'max': 400}\n",
        "    }\n",
        "}"
      ],
      "execution_count": 0,
      "outputs": []
    },
    {
      "cell_type": "code",
      "metadata": {
        "id": "dmrOCw1dzDY0",
        "colab_type": "code",
        "outputId": "397bf74e-68f2-45bf-eccd-02befd02ab66",
        "colab": {}
      },
      "source": [
        "sweep_id = wandb.sweep(sweep_config)"
      ],
      "execution_count": 0,
      "outputs": [
        {
          "output_type": "stream",
          "text": [
            "Create sweep with ID: iahyfl5w\n",
            "Sweep URL: https://app.wandb.ai/ds8/ds10_inclass/sweeps/iahyfl5w\n"
          ],
          "name": "stdout"
        }
      ]
    },
    {
      "cell_type": "code",
      "metadata": {
        "id": "FoUVIp4bzDY5",
        "colab_type": "code",
        "colab": {}
      },
      "source": [
        "import wandb\n",
        "from wandb.keras import WandbCallback\n",
        "#Initializes and Experiment\n",
        "\n",
        "from tensorflow.keras.optimizers import Adam\n",
        "\n",
        "# Important Hyperparameters\n",
        "X =  x_train\n",
        "y =  y_train\n",
        "\n",
        "inputs = X.shape[1]\n",
        "\n",
        "def train():\n",
        "    \n",
        "    wandb.init(project=wandb_project, entity=wandb_group) \n",
        "    \n",
        "    config = wandb.config\n",
        "\n",
        "    # Create Model\n",
        "    model = Sequential()\n",
        "    model.add(Dense(64, activation='relu', input_shape=(inputs,)))\n",
        "    model.add(Dense(64, activation='relu'))\n",
        "    model.add(Dense(64, activation='relu'))\n",
        "    model.add(Dense(1))\n",
        "\n",
        "    # Optimizer \n",
        "    adam = Adam(learning_rate=config.learning_rate)\n",
        "\n",
        "    # Compile Model\n",
        "    model.compile(optimizer=adam, loss='mse', metrics=['mse', 'mae'])\n",
        "\n",
        "    # Fit Model\n",
        "    model.fit(X, y, \n",
        "              validation_split=0.33, \n",
        "              epochs=config.epochs, \n",
        "              batch_size=config.batch_size, \n",
        "              callbacks=[WandbCallback()]\n",
        "             )"
      ],
      "execution_count": 0,
      "outputs": []
    },
    {
      "cell_type": "code",
      "metadata": {
        "id": "MDgV_zU_zDY9",
        "colab_type": "code",
        "outputId": "7fb1ae8e-bd44-4b22-f211-24856ed8185c",
        "colab": {}
      },
      "source": [
        "wandb.agent(sweep_id, function=train)"
      ],
      "execution_count": 0,
      "outputs": [
        {
          "output_type": "stream",
          "text": [
            "Failed to query for notebook name, you can set it manually with the WANDB_NOTEBOOK_NAME environment variable\n"
          ],
          "name": "stderr"
        },
        {
          "output_type": "stream",
          "text": [
            "wandb: Agent Starting Run: e885hhzn with config:\n",
            "\tbatch_size: 386.8392037078971\n",
            "\tepochs: 940.2729257903679\n",
            "\tlearning_rate: 0.5087223233386643\n"
          ],
          "name": "stdout"
        },
        {
          "output_type": "stream",
          "text": [
            "wandb: Ctrl-c pressed. Waiting for runs to end. Press ctrl-c again to terminate them.\n"
          ],
          "name": "stderr"
        },
        {
          "output_type": "stream",
          "text": [
            "Error in callback <function _init_jupyter.<locals>.cleanup at 0x000000A5077FB268> (for post_run_cell):\n"
          ],
          "name": "stdout"
        },
        {
          "output_type": "error",
          "ename": "KeyboardInterrupt",
          "evalue": "",
          "traceback": [
            "\u001b[1;31m---------------------------------------------------------------------------\u001b[0m",
            "\u001b[1;31mKeyboardInterrupt\u001b[0m                         Traceback (most recent call last)",
            "\u001b[1;32m~\\Anaconda3\\envs\\U4-S2-NNF\\lib\\site-packages\\backcall\\backcall.py\u001b[0m in \u001b[0;36madapted\u001b[1;34m(*args, **kwargs)\u001b[0m\n\u001b[0;32m    102\u001b[0m                 \u001b[0mkwargs\u001b[0m\u001b[1;33m.\u001b[0m\u001b[0mpop\u001b[0m\u001b[1;33m(\u001b[0m\u001b[0mname\u001b[0m\u001b[1;33m)\u001b[0m\u001b[1;33m\u001b[0m\u001b[0m\n\u001b[0;32m    103\u001b[0m \u001b[1;31m#            print(args, kwargs, unmatched_pos, cut_positional, unmatched_kw)\u001b[0m\u001b[1;33m\u001b[0m\u001b[1;33m\u001b[0m\u001b[0m\n\u001b[1;32m--> 104\u001b[1;33m             \u001b[1;32mreturn\u001b[0m \u001b[0mcallback\u001b[0m\u001b[1;33m(\u001b[0m\u001b[1;33m*\u001b[0m\u001b[0margs\u001b[0m\u001b[1;33m,\u001b[0m \u001b[1;33m**\u001b[0m\u001b[0mkwargs\u001b[0m\u001b[1;33m)\u001b[0m\u001b[1;33m\u001b[0m\u001b[0m\n\u001b[0m\u001b[0;32m    105\u001b[0m \u001b[1;33m\u001b[0m\u001b[0m\n\u001b[0;32m    106\u001b[0m         \u001b[1;32mreturn\u001b[0m \u001b[0madapted\u001b[0m\u001b[1;33m\u001b[0m\u001b[0m\n",
            "\u001b[1;32m~\\Anaconda3\\envs\\U4-S2-NNF\\lib\\site-packages\\wandb\\__init__.py\u001b[0m in \u001b[0;36mcleanup\u001b[1;34m()\u001b[0m\n\u001b[0;32m    480\u001b[0m         \u001b[1;31m# shutdown async logger because _user_process_finished isn't called in jupyter\u001b[0m\u001b[1;33m\u001b[0m\u001b[1;33m\u001b[0m\u001b[0m\n\u001b[0;32m    481\u001b[0m         \u001b[0mshutdown_async_log_thread\u001b[0m\u001b[1;33m(\u001b[0m\u001b[1;33m)\u001b[0m\u001b[1;33m\u001b[0m\u001b[0m\n\u001b[1;32m--> 482\u001b[1;33m         \u001b[0mrun\u001b[0m\u001b[1;33m.\u001b[0m\u001b[0m_stop_jupyter_agent\u001b[0m\u001b[1;33m(\u001b[0m\u001b[1;33m)\u001b[0m\u001b[1;33m\u001b[0m\u001b[0m\n\u001b[0m\u001b[0;32m    483\u001b[0m     \u001b[0mipython\u001b[0m\u001b[1;33m.\u001b[0m\u001b[0mevents\u001b[0m\u001b[1;33m.\u001b[0m\u001b[0mregister\u001b[0m\u001b[1;33m(\u001b[0m\u001b[1;34m'post_run_cell'\u001b[0m\u001b[1;33m,\u001b[0m \u001b[0mcleanup\u001b[0m\u001b[1;33m)\u001b[0m\u001b[1;33m\u001b[0m\u001b[0m\n\u001b[0;32m    484\u001b[0m \u001b[1;33m\u001b[0m\u001b[0m\n",
            "\u001b[1;32m~\\Anaconda3\\envs\\U4-S2-NNF\\lib\\site-packages\\wandb\\wandb_run.py\u001b[0m in \u001b[0;36m_stop_jupyter_agent\u001b[1;34m(self)\u001b[0m\n\u001b[0;32m    180\u001b[0m \u001b[1;33m\u001b[0m\u001b[0m\n\u001b[0;32m    181\u001b[0m     \u001b[1;32mdef\u001b[0m \u001b[0m_stop_jupyter_agent\u001b[0m\u001b[1;33m(\u001b[0m\u001b[0mself\u001b[0m\u001b[1;33m)\u001b[0m\u001b[1;33m:\u001b[0m\u001b[1;33m\u001b[0m\u001b[0m\n\u001b[1;32m--> 182\u001b[1;33m         \u001b[0mself\u001b[0m\u001b[1;33m.\u001b[0m\u001b[0m_jupyter_agent\u001b[0m\u001b[1;33m.\u001b[0m\u001b[0mstop\u001b[0m\u001b[1;33m(\u001b[0m\u001b[1;33m)\u001b[0m\u001b[1;33m\u001b[0m\u001b[0m\n\u001b[0m\u001b[0;32m    183\u001b[0m \u001b[1;33m\u001b[0m\u001b[0m\n\u001b[0;32m    184\u001b[0m     \u001b[1;32mdef\u001b[0m \u001b[0msend_message\u001b[0m\u001b[1;33m(\u001b[0m\u001b[0mself\u001b[0m\u001b[1;33m,\u001b[0m \u001b[0moptions\u001b[0m\u001b[1;33m)\u001b[0m\u001b[1;33m:\u001b[0m\u001b[1;33m\u001b[0m\u001b[0m\n",
            "\u001b[1;32m~\\Anaconda3\\envs\\U4-S2-NNF\\lib\\site-packages\\wandb\\jupyter.py\u001b[0m in \u001b[0;36mstop\u001b[1;34m(self)\u001b[0m\n\u001b[0;32m    134\u001b[0m         \u001b[1;32mif\u001b[0m \u001b[1;32mnot\u001b[0m \u001b[0mself\u001b[0m\u001b[1;33m.\u001b[0m\u001b[0mpaused\u001b[0m\u001b[1;33m:\u001b[0m\u001b[1;33m\u001b[0m\u001b[0m\n\u001b[0;32m    135\u001b[0m             \u001b[0mself\u001b[0m\u001b[1;33m.\u001b[0m\u001b[0mrm\u001b[0m\u001b[1;33m.\u001b[0m\u001b[0munmirror_stdout_stderr\u001b[0m\u001b[1;33m(\u001b[0m\u001b[1;33m)\u001b[0m\u001b[1;33m\u001b[0m\u001b[0m\n\u001b[1;32m--> 136\u001b[1;33m             \u001b[0mself\u001b[0m\u001b[1;33m.\u001b[0m\u001b[0mrm\u001b[0m\u001b[1;33m.\u001b[0m\u001b[0mshutdown\u001b[0m\u001b[1;33m(\u001b[0m\u001b[1;33m)\u001b[0m\u001b[1;33m\u001b[0m\u001b[0m\n\u001b[0m\u001b[0;32m    137\u001b[0m             \u001b[0mwandb\u001b[0m\u001b[1;33m.\u001b[0m\u001b[0mrun\u001b[0m\u001b[1;33m.\u001b[0m\u001b[0mclose_files\u001b[0m\u001b[1;33m(\u001b[0m\u001b[1;33m)\u001b[0m\u001b[1;33m\u001b[0m\u001b[0m\n\u001b[0;32m    138\u001b[0m             \u001b[0mself\u001b[0m\u001b[1;33m.\u001b[0m\u001b[0mpaused\u001b[0m \u001b[1;33m=\u001b[0m \u001b[1;32mTrue\u001b[0m\u001b[1;33m\u001b[0m\u001b[0m\n",
            "\u001b[1;32m~\\Anaconda3\\envs\\U4-S2-NNF\\lib\\site-packages\\wandb\\run_manager.py\u001b[0m in \u001b[0;36mshutdown\u001b[1;34m(self, exitcode)\u001b[0m\n\u001b[0;32m   1058\u001b[0m         \u001b[0mlogger\u001b[0m\u001b[1;33m.\u001b[0m\u001b[0minfo\u001b[0m\u001b[1;33m(\u001b[0m\u001b[1;34m\"shutting down system stats and metadata service\"\u001b[0m\u001b[1;33m)\u001b[0m\u001b[1;33m\u001b[0m\u001b[0m\n\u001b[0;32m   1059\u001b[0m         \u001b[0mself\u001b[0m\u001b[1;33m.\u001b[0m\u001b[0m_system_stats\u001b[0m\u001b[1;33m.\u001b[0m\u001b[0mshutdown\u001b[0m\u001b[1;33m(\u001b[0m\u001b[1;33m)\u001b[0m\u001b[1;33m\u001b[0m\u001b[0m\n\u001b[1;32m-> 1060\u001b[1;33m         \u001b[0mself\u001b[0m\u001b[1;33m.\u001b[0m\u001b[0m_meta\u001b[0m\u001b[1;33m.\u001b[0m\u001b[0mshutdown\u001b[0m\u001b[1;33m(\u001b[0m\u001b[1;33m)\u001b[0m\u001b[1;33m\u001b[0m\u001b[0m\n\u001b[0m\u001b[0;32m   1061\u001b[0m         \u001b[1;32mfor\u001b[0m \u001b[0mwatcher\u001b[0m \u001b[1;32min\u001b[0m \u001b[0mself\u001b[0m\u001b[1;33m.\u001b[0m\u001b[0m_tensorboard_watchers\u001b[0m\u001b[1;33m:\u001b[0m\u001b[1;33m\u001b[0m\u001b[0m\n\u001b[0;32m   1062\u001b[0m             \u001b[0mwatcher\u001b[0m\u001b[1;33m.\u001b[0m\u001b[0mshutdown\u001b[0m\u001b[1;33m(\u001b[0m\u001b[1;33m)\u001b[0m\u001b[1;33m\u001b[0m\u001b[0m\n",
            "\u001b[1;32m~\\Anaconda3\\envs\\U4-S2-NNF\\lib\\site-packages\\wandb\\meta.py\u001b[0m in \u001b[0;36mshutdown\u001b[1;34m(self)\u001b[0m\n\u001b[0;32m    170\u001b[0m         \u001b[0mself\u001b[0m\u001b[1;33m.\u001b[0m\u001b[0m_shutdown\u001b[0m \u001b[1;33m=\u001b[0m \u001b[1;32mTrue\u001b[0m\u001b[1;33m\u001b[0m\u001b[0m\n\u001b[0;32m    171\u001b[0m         \u001b[1;32mtry\u001b[0m\u001b[1;33m:\u001b[0m\u001b[1;33m\u001b[0m\u001b[0m\n\u001b[1;32m--> 172\u001b[1;33m             \u001b[0mself\u001b[0m\u001b[1;33m.\u001b[0m\u001b[0m_thread\u001b[0m\u001b[1;33m.\u001b[0m\u001b[0mjoin\u001b[0m\u001b[1;33m(\u001b[0m\u001b[1;33m)\u001b[0m\u001b[1;33m\u001b[0m\u001b[0m\n\u001b[0m\u001b[0;32m    173\u001b[0m         \u001b[1;31m# Incase we never start it\u001b[0m\u001b[1;33m\u001b[0m\u001b[1;33m\u001b[0m\u001b[0m\n\u001b[0;32m    174\u001b[0m         \u001b[1;32mexcept\u001b[0m \u001b[0mRuntimeError\u001b[0m\u001b[1;33m:\u001b[0m\u001b[1;33m\u001b[0m\u001b[0m\n",
            "\u001b[1;32m~\\Anaconda3\\envs\\U4-S2-NNF\\lib\\threading.py\u001b[0m in \u001b[0;36mjoin\u001b[1;34m(self, timeout)\u001b[0m\n\u001b[0;32m   1030\u001b[0m \u001b[1;33m\u001b[0m\u001b[0m\n\u001b[0;32m   1031\u001b[0m         \u001b[1;32mif\u001b[0m \u001b[0mtimeout\u001b[0m \u001b[1;32mis\u001b[0m \u001b[1;32mNone\u001b[0m\u001b[1;33m:\u001b[0m\u001b[1;33m\u001b[0m\u001b[0m\n\u001b[1;32m-> 1032\u001b[1;33m             \u001b[0mself\u001b[0m\u001b[1;33m.\u001b[0m\u001b[0m_wait_for_tstate_lock\u001b[0m\u001b[1;33m(\u001b[0m\u001b[1;33m)\u001b[0m\u001b[1;33m\u001b[0m\u001b[0m\n\u001b[0m\u001b[0;32m   1033\u001b[0m         \u001b[1;32melse\u001b[0m\u001b[1;33m:\u001b[0m\u001b[1;33m\u001b[0m\u001b[0m\n\u001b[0;32m   1034\u001b[0m             \u001b[1;31m# the behavior of a negative timeout isn't documented, but\u001b[0m\u001b[1;33m\u001b[0m\u001b[1;33m\u001b[0m\u001b[0m\n",
            "\u001b[1;32m~\\Anaconda3\\envs\\U4-S2-NNF\\lib\\threading.py\u001b[0m in \u001b[0;36m_wait_for_tstate_lock\u001b[1;34m(self, block, timeout)\u001b[0m\n\u001b[0;32m   1046\u001b[0m         \u001b[1;32mif\u001b[0m \u001b[0mlock\u001b[0m \u001b[1;32mis\u001b[0m \u001b[1;32mNone\u001b[0m\u001b[1;33m:\u001b[0m  \u001b[1;31m# already determined that the C code is done\u001b[0m\u001b[1;33m\u001b[0m\u001b[0m\n\u001b[0;32m   1047\u001b[0m             \u001b[1;32massert\u001b[0m \u001b[0mself\u001b[0m\u001b[1;33m.\u001b[0m\u001b[0m_is_stopped\u001b[0m\u001b[1;33m\u001b[0m\u001b[0m\n\u001b[1;32m-> 1048\u001b[1;33m         \u001b[1;32melif\u001b[0m \u001b[0mlock\u001b[0m\u001b[1;33m.\u001b[0m\u001b[0macquire\u001b[0m\u001b[1;33m(\u001b[0m\u001b[0mblock\u001b[0m\u001b[1;33m,\u001b[0m \u001b[0mtimeout\u001b[0m\u001b[1;33m)\u001b[0m\u001b[1;33m:\u001b[0m\u001b[1;33m\u001b[0m\u001b[0m\n\u001b[0m\u001b[0;32m   1049\u001b[0m             \u001b[0mlock\u001b[0m\u001b[1;33m.\u001b[0m\u001b[0mrelease\u001b[0m\u001b[1;33m(\u001b[0m\u001b[1;33m)\u001b[0m\u001b[1;33m\u001b[0m\u001b[0m\n\u001b[0;32m   1050\u001b[0m             \u001b[0mself\u001b[0m\u001b[1;33m.\u001b[0m\u001b[0m_stop\u001b[0m\u001b[1;33m(\u001b[0m\u001b[1;33m)\u001b[0m\u001b[1;33m\u001b[0m\u001b[0m\n",
            "\u001b[1;31mKeyboardInterrupt\u001b[0m: "
          ]
        },
        {
          "output_type": "stream",
          "text": [
            "requests_with_retry encountered retryable exception: ('Connection aborted.', TimeoutError(10060, 'A connection attempt failed because the connected party did not properly respond after a period of time, or established connection failed because connected host has failed to respond', None, 10060, None)). args: ('https://api.wandb.ai/files/ds8/ds10_inclass/54acoiu9/file_stream',), kwargs: {'json': {'complete': False, 'failed': False}}\n",
            "requests_with_retry encountered retryable exception: 500 Server Error: Internal Server Error for url: https://api.wandb.ai/files/ds8/ds10_inclass/54acoiu9/file_stream. args: ('https://api.wandb.ai/files/ds8/ds10_inclass/54acoiu9/file_stream',), kwargs: {'json': {'complete': False, 'failed': False}}\n",
            "requests_with_retry encountered retryable exception: 500 Server Error: Internal Server Error for url: https://api.wandb.ai/files/ds8/ds10_inclass/54acoiu9/file_stream. args: ('https://api.wandb.ai/files/ds8/ds10_inclass/54acoiu9/file_stream',), kwargs: {'json': {'complete': False, 'failed': False}}\n",
            "requests_with_retry encountered retryable exception: 500 Server Error: Internal Server Error for url: https://api.wandb.ai/files/ds8/ds10_inclass/54acoiu9/file_stream. args: ('https://api.wandb.ai/files/ds8/ds10_inclass/54acoiu9/file_stream',), kwargs: {'json': {'complete': False, 'failed': False}}\n",
            "requests_with_retry encountered retryable exception: 500 Server Error: Internal Server Error for url: https://api.wandb.ai/files/ds8/ds10_inclass/54acoiu9/file_stream. args: ('https://api.wandb.ai/files/ds8/ds10_inclass/54acoiu9/file_stream',), kwargs: {'json': {'complete': False, 'failed': False}}\n",
            "requests_with_retry encountered retryable exception: 500 Server Error: Internal Server Error for url: https://api.wandb.ai/files/ds8/ds10_inclass/54acoiu9/file_stream. args: ('https://api.wandb.ai/files/ds8/ds10_inclass/54acoiu9/file_stream',), kwargs: {'json': {'complete': False, 'failed': False}}\n"
          ],
          "name": "stderr"
        }
      ]
    },
    {
      "cell_type": "markdown",
      "metadata": {
        "id": "_SDKHTKJzDZD",
        "colab_type": "text"
      },
      "source": [
        "## Challenge\n",
        "\n",
        "Try to apply RandomSearchCV to your module project today. "
      ]
    },
    {
      "cell_type": "markdown",
      "metadata": {
        "id": "YCtI0QI5zDZE",
        "colab_type": "text"
      },
      "source": [
        "# Review\n",
        "* <a href=\"#p1\">Part 1</a>: Describe the major hyperparemeters to tune\n",
        "    - Activation Functions\n",
        "    - Optimizer\n",
        "    - Number of Layers\n",
        "    - Number of Neurons\n",
        "    - Batch Size\n",
        "    - Dropout Regulaization\n",
        "    - Learning Rate\n",
        "    - Number of Epochs\n",
        "    - and many more\n",
        "* <a href=\"#p2\">Part 2</a>: Implement an experiment tracking framework\n",
        "    - Weights & Biases\n",
        "    - Comet.ml\n",
        "    - By Hand / GridSearch\n",
        "* <a href=\"#p3\">Part 3</a>: Search the hyperparameter space using RandomSearch\n",
        "    - Sklearn still useful (haha)\n",
        "    - Integration with Wieghts & Biases\n",
        "* <a href=\"#p4\">Part 4</a>: Discuss emerging hyperparameter tuning strategies\n",
        "    - Bayesian Optimization\n",
        "    - Hyperopt\n",
        "    - Genetic Evolution"
      ]
    },
    {
      "cell_type": "markdown",
      "metadata": {
        "id": "B7McNQVrzDZG",
        "colab_type": "text"
      },
      "source": [
        "# Sources"
      ]
    },
    {
      "cell_type": "markdown",
      "metadata": {
        "id": "OnVgwu7BzDZH",
        "colab_type": "text"
      },
      "source": [
        "## Additional Reading\n",
        "- https://machinelearningmastery.com/grid-search-hyperparameters-deep-learning-models-python-keras/\n",
        "- https://blog.floydhub.com/guide-to-hyperparameters-search-for-deep-learning-models/\n",
        "- https://machinelearningmastery.com/dropout-regularization-deep-learning-models-keras/\n",
        "- https://machinelearningmastery.com/introduction-to-weight-constraints-to-reduce-generalization-error-in-deep-learning/\n",
        "- https://machinelearningmastery.com/how-to-configure-the-number-of-layers-and-nodes-in-a-neural-network/"
      ]
    }
  ]
}